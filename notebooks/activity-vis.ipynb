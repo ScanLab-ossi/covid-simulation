{
 "cells": [
  {
   "cell_type": "code",
   "execution_count": 3,
   "metadata": {},
   "outputs": [
    {
     "data": {
      "text/plain": [
       "DataTransformerRegistry.enable('default')"
      ]
     },
     "execution_count": 3,
     "metadata": {},
     "output_type": "execute_result"
    }
   ],
   "source": [
    "from glob import glob\n",
    "import pandas as pd\n",
    "import altair as alt\n",
    "import numpy as np\n",
    "\n",
    "%matplotlib inline \n",
    "alt.data_transformers.disable_max_rows()"
   ]
  },
  {
   "cell_type": "code",
   "execution_count": 46,
   "metadata": {},
   "outputs": [
    {
     "data": {
      "text/html": [
       "<div>\n",
       "<style scoped>\n",
       "    .dataframe tbody tr th:only-of-type {\n",
       "        vertical-align: middle;\n",
       "    }\n",
       "\n",
       "    .dataframe tbody tr th {\n",
       "        vertical-align: top;\n",
       "    }\n",
       "\n",
       "    .dataframe thead th {\n",
       "        text-align: right;\n",
       "    }\n",
       "</style>\n",
       "<table border=\"1\" class=\"dataframe\">\n",
       "  <thead>\n",
       "    <tr style=\"text-align: right;\">\n",
       "      <th></th>\n",
       "      <th>datetime</th>\n",
       "      <th>source</th>\n",
       "      <th>destination</th>\n",
       "    </tr>\n",
       "  </thead>\n",
       "  <tbody>\n",
       "    <tr>\n",
       "      <th>51054</th>\n",
       "      <td>1995-03-11</td>\n",
       "      <td>15</td>\n",
       "      <td>0</td>\n",
       "    </tr>\n",
       "    <tr>\n",
       "      <th>51055</th>\n",
       "      <td>1995-03-11</td>\n",
       "      <td>48</td>\n",
       "      <td>39</td>\n",
       "    </tr>\n",
       "    <tr>\n",
       "      <th>51056</th>\n",
       "      <td>1995-03-11</td>\n",
       "      <td>53</td>\n",
       "      <td>3</td>\n",
       "    </tr>\n",
       "    <tr>\n",
       "      <th>51057</th>\n",
       "      <td>1995-03-11</td>\n",
       "      <td>70</td>\n",
       "      <td>20</td>\n",
       "    </tr>\n",
       "    <tr>\n",
       "      <th>51058</th>\n",
       "      <td>1995-03-11</td>\n",
       "      <td>73</td>\n",
       "      <td>37</td>\n",
       "    </tr>\n",
       "    <tr>\n",
       "      <th>...</th>\n",
       "      <td>...</td>\n",
       "      <td>...</td>\n",
       "      <td>...</td>\n",
       "    </tr>\n",
       "    <tr>\n",
       "      <th>51220</th>\n",
       "      <td>1995-03-11</td>\n",
       "      <td>492</td>\n",
       "      <td>383</td>\n",
       "    </tr>\n",
       "    <tr>\n",
       "      <th>51221</th>\n",
       "      <td>1995-03-11</td>\n",
       "      <td>493</td>\n",
       "      <td>26</td>\n",
       "    </tr>\n",
       "    <tr>\n",
       "      <th>51222</th>\n",
       "      <td>1995-03-11</td>\n",
       "      <td>496</td>\n",
       "      <td>167</td>\n",
       "    </tr>\n",
       "    <tr>\n",
       "      <th>51223</th>\n",
       "      <td>1995-03-11</td>\n",
       "      <td>497</td>\n",
       "      <td>129</td>\n",
       "    </tr>\n",
       "    <tr>\n",
       "      <th>51224</th>\n",
       "      <td>1995-03-11</td>\n",
       "      <td>497</td>\n",
       "      <td>229</td>\n",
       "    </tr>\n",
       "  </tbody>\n",
       "</table>\n",
       "<p>171 rows × 3 columns</p>\n",
       "</div>"
      ],
      "text/plain": [
       "        datetime  source  destination\n",
       "51054 1995-03-11      15            0\n",
       "51055 1995-03-11      48           39\n",
       "51056 1995-03-11      53            3\n",
       "51057 1995-03-11      70           20\n",
       "51058 1995-03-11      73           37\n",
       "...          ...     ...          ...\n",
       "51220 1995-03-11     492          383\n",
       "51221 1995-03-11     493           26\n",
       "51222 1995-03-11     496          167\n",
       "51223 1995-03-11     497          129\n",
       "51224 1995-03-11     497          229\n",
       "\n",
       "[171 rows x 3 columns]"
      ]
     },
     "execution_count": 46,
     "metadata": {},
     "output_type": "execute_result"
    }
   ],
   "source": [
    "df = pd.read_csv(\"../data/random_undirected_disjoint_0.001_up_0.3_down.csv\", parse_dates=[\"datetime\"])\n",
    "df[df[\"datetime\"]==pd.to_datetime(\"1995-03-11 00:00:00\")]"
   ]
  },
  {
   "cell_type": "code",
   "execution_count": 39,
   "metadata": {},
   "outputs": [
    {
     "data": {
      "text/plain": [
       "0.0020011490427397517"
      ]
     },
     "metadata": {},
     "output_type": "display_data"
    },
    {
     "data": {
      "text/plain": [
       "<AxesSubplot:ylabel='Frequency'>"
      ]
     },
     "metadata": {},
     "output_type": "display_data"
    },
    {
     "data": {
      "text/plain": [
       "0.002000739199832329"
      ]
     },
     "metadata": {},
     "output_type": "display_data"
    },
    {
     "data": {
      "text/plain": [
       "<AxesSubplot:ylabel='Frequency'>"
      ]
     },
     "metadata": {},
     "output_type": "display_data"
    },
    {
     "data": {
      "text/plain": [
       "0.0020010975410972146"
      ]
     },
     "metadata": {},
     "output_type": "display_data"
    },
    {
     "data": {
      "text/plain": [
       "<AxesSubplot:ylabel='Frequency'>"
      ]
     },
     "metadata": {},
     "output_type": "display_data"
    },
    {
     "data": {
      "text/plain": [
       "0.0020011401702461308"
      ]
     },
     "metadata": {},
     "output_type": "display_data"
    },
    {
     "data": {
      "text/plain": [
       "<AxesSubplot:ylabel='Frequency'>"
      ]
     },
     "metadata": {},
     "output_type": "display_data"
    },
    {
     "data": {
      "text/plain": [
       "0.0020009187572897777"
      ]
     },
     "metadata": {},
     "output_type": "display_data"
    },
    {
     "data": {
      "text/plain": [
       "<AxesSubplot:ylabel='Frequency'>"
      ]
     },
     "metadata": {},
     "output_type": "display_data"
    },
    {
     "data": {
      "text/plain": [
       "0.0020009847874761545"
      ]
     },
     "metadata": {},
     "output_type": "display_data"
    },
    {
     "data": {
      "text/plain": [
       "<AxesSubplot:ylabel='Frequency'>"
      ]
     },
     "metadata": {},
     "output_type": "display_data"
    },
    {
     "data": {
      "text/plain": [
       "0.00200095112192023"
      ]
     },
     "metadata": {},
     "output_type": "display_data"
    },
    {
     "data": {
      "text/plain": [
       "<AxesSubplot:ylabel='Frequency'>"
      ]
     },
     "metadata": {},
     "output_type": "display_data"
    },
    {
     "data": {
      "text/plain": [
       "0.0020006289178736317"
      ]
     },
     "metadata": {},
     "output_type": "display_data"
    },
    {
     "data": {
      "text/plain": [
       "<AxesSubplot:ylabel='Frequency'>"
      ]
     },
     "metadata": {},
     "output_type": "display_data"
    },
    {
     "data": {
      "text/plain": [
       "0.0020011478170274583"
      ]
     },
     "metadata": {},
     "output_type": "display_data"
    },
    {
     "data": {
      "text/plain": [
       "<AxesSubplot:ylabel='Frequency'>"
      ]
     },
     "metadata": {},
     "output_type": "display_data"
    },
    {
     "data": {
      "text/html": [
       "<div>\n",
       "<style scoped>\n",
       "    .dataframe tbody tr th:only-of-type {\n",
       "        vertical-align: middle;\n",
       "    }\n",
       "\n",
       "    .dataframe tbody tr th {\n",
       "        vertical-align: top;\n",
       "    }\n",
       "\n",
       "    .dataframe thead th {\n",
       "        text-align: right;\n",
       "    }\n",
       "</style>\n",
       "<table border=\"1\" class=\"dataframe\">\n",
       "  <thead>\n",
       "    <tr style=\"text-align: right;\">\n",
       "      <th></th>\n",
       "      <th>up</th>\n",
       "      <th>down</th>\n",
       "      <th>activity</th>\n",
       "      <th>x</th>\n",
       "    </tr>\n",
       "  </thead>\n",
       "  <tbody>\n",
       "    <tr>\n",
       "      <th>0</th>\n",
       "      <td>0.001</td>\n",
       "      <td>0.7</td>\n",
       "      <td>0.002</td>\n",
       "      <td>0.0007</td>\n",
       "    </tr>\n",
       "    <tr>\n",
       "      <th>1</th>\n",
       "      <td>0.001</td>\n",
       "      <td>0.5</td>\n",
       "      <td>0.002</td>\n",
       "      <td>0.0005</td>\n",
       "    </tr>\n",
       "    <tr>\n",
       "      <th>2</th>\n",
       "      <td>0.004</td>\n",
       "      <td>0.5</td>\n",
       "      <td>0.002</td>\n",
       "      <td>0.0020</td>\n",
       "    </tr>\n",
       "    <tr>\n",
       "      <th>3</th>\n",
       "      <td>0.001</td>\n",
       "      <td>0.3</td>\n",
       "      <td>0.002</td>\n",
       "      <td>0.0003</td>\n",
       "    </tr>\n",
       "    <tr>\n",
       "      <th>4</th>\n",
       "      <td>0.004</td>\n",
       "      <td>0.7</td>\n",
       "      <td>0.002</td>\n",
       "      <td>0.0028</td>\n",
       "    </tr>\n",
       "    <tr>\n",
       "      <th>5</th>\n",
       "      <td>0.002</td>\n",
       "      <td>0.7</td>\n",
       "      <td>0.002</td>\n",
       "      <td>0.0014</td>\n",
       "    </tr>\n",
       "    <tr>\n",
       "      <th>6</th>\n",
       "      <td>0.002</td>\n",
       "      <td>0.5</td>\n",
       "      <td>0.002</td>\n",
       "      <td>0.0010</td>\n",
       "    </tr>\n",
       "    <tr>\n",
       "      <th>7</th>\n",
       "      <td>0.002</td>\n",
       "      <td>0.3</td>\n",
       "      <td>0.002</td>\n",
       "      <td>0.0006</td>\n",
       "    </tr>\n",
       "    <tr>\n",
       "      <th>8</th>\n",
       "      <td>0.004</td>\n",
       "      <td>0.3</td>\n",
       "      <td>0.002</td>\n",
       "      <td>0.0012</td>\n",
       "    </tr>\n",
       "  </tbody>\n",
       "</table>\n",
       "</div>"
      ],
      "text/plain": [
       "      up down  activity       x\n",
       "0  0.001  0.7     0.002  0.0007\n",
       "1  0.001  0.5     0.002  0.0005\n",
       "2  0.004  0.5     0.002  0.0020\n",
       "3  0.001  0.3     0.002  0.0003\n",
       "4  0.004  0.7     0.002  0.0028\n",
       "5  0.002  0.7     0.002  0.0014\n",
       "6  0.002  0.5     0.002  0.0010\n",
       "7  0.002  0.3     0.002  0.0006\n",
       "8  0.004  0.3     0.002  0.0012"
      ]
     },
     "execution_count": 39,
     "metadata": {},
     "output_type": "execute_result"
    },
    {
     "data": {
      "image/png": "[encoded data removed]",
      "text/plain": [
       "<Figure size 432x288 with 1 Axes>"
      ]
     },
     "metadata": {
      "needs_background": "dark"
     },
     "output_type": "display_data"
    }
   ],
   "source": [
    "d = {\"up\": [], \"down\": [], \"activity\": []}\n",
    "for path in glob(\"../data/random_undirected_random*.csv\"):\n",
    "    df = pd.read_csv(path, parse_dates=[\"datetime\"])\n",
    "    merged = pd.merge(\n",
    "        df.rename(columns={\"source\": \"id\"})\n",
    "        .groupby([pd.Grouper(freq=\"1D\", key=\"datetime\"), \"id\"])\n",
    "        .count(),\n",
    "        df.rename(columns={\"destination\": \"id\"})\n",
    "        .groupby([pd.Grouper(freq=\"1D\", key=\"datetime\"), \"id\"])\n",
    "        .count(),\n",
    "        left_index=True,\n",
    "        right_index=True,\n",
    "        how=\"outer\",\n",
    "    ).fillna(0)\n",
    "    merged[\"activity\"] = merged[\"destination\"] + merged[\"source\"]\n",
    "    merged = pd.merge(\n",
    "        merged,\n",
    "        merged.groupby(\"datetime\")[\"activity\"].sum(),\n",
    "        left_on=\"datetime\",\n",
    "        right_index=True,\n",
    "    )\n",
    "    merged[\"activity\"] = merged[\"activity_x\"] / merged[\"activity_y\"]\n",
    "    display(merged.groupby(\"id\")[\"activity\"].mean().plot.hist())\n",
    "    d[\"up\"].append(path.split(\"_\")[3])\n",
    "    d[\"down\"].append(path.split(\"_\")[5])\n",
    "    d[\"activity\"].append(merged.groupby(\"id\")[\"activity\"].mean().mean())\n",
    "# dd = pd.DataFrame(d)\n",
    "# dd[\"x\"] = dd[\"up\"].astype(float) * dd[\"down\"].astype(float)\n",
    "dd\n"
   ]
  },
  {
   "cell_type": "code",
   "execution_count": null,
   "metadata": {},
   "outputs": [],
   "source": [
    "merged.reset_index().groupby(\n",
    "    [pd.Grouper(freq=\"1D\", key=\"datetime\"), \"id\"]\n",
    ").mean().groupby(\"id\").mean()[[\"activity\"]].plot.hist(bins=100)"
   ]
  },
  {
   "cell_type": "code",
   "execution_count": 7,
   "metadata": {},
   "outputs": [],
   "source": [
    "df = pd.read_csv(\"../data/copenhagen_agg.csv\", parse_dates=[\"time\"])\n",
    "for frequency in (\"1D\",\"12H\",\"8H\"):\n",
    "    dfl = (\n",
    "        df.groupby([pd.Grouper(freq=frequency, key=\"time\"), \"duration\"])\n",
    "        .count()[\"source\"]\n",
    "        .groupby(\"duration\")\n",
    "        .mean()\n",
    "    )\n",
    "    # dfl = dfl / sum(dfl)\n",
    "    dfl = dfl.reset_index().rename(columns={\"source\": \"count\"})\n",
    "    dfl[\"duration\"] = np.log(dfl[\"duration\"])\n",
    "    chart = (alt.Chart(dfl).mark_bar().encode(\n",
    "        x=alt.X(\"duration:Q\", bin=True, title=r\"Log-Scale Duration (Binned) - $e^x$ Minutes\"),\n",
    "        y=alt.Y(\"sum(count)\", title=\"Amount\", scale=alt.Scale(domain=(0,8000))),\n",
    "    ).configure_axis(\n",
    "    labelFontSize=14,\n",
    "    titleFontSize=20\n",
    "))\n",
    "    chart.save(f\"{frequency}.html\")"
   ]
  },
  {
   "cell_type": "code",
   "execution_count": null,
   "metadata": {},
   "outputs": [],
   "source": []
  },
  {
   "cell_type": "code",
   "execution_count": 93,
   "metadata": {},
   "outputs": [
    {
     "name": "stdout",
     "output_type": "stream",
     "text": [
      "0.31 +- 0.0029697481488115446\n",
      "0.27 +- 0.0020371880749325538\n",
      "0.31 +- 0.0008030756801917476\n",
      "0.28 +- 0.0008265937996641793\n"
     ]
    }
   ],
   "source": [
    "for i in (\"2455194997769553\", \"3882112953242523\", \"5157036832648648\", \"6933653713418433\"):\n",
    "    x = pd.read_csv(f\"../output/{i}_metrics.csv\").groupby(\"metric\").agg(['mean', 'count', 'std']).loc[\"r_0\"][\"value\"]\n",
    "    # display(x)\n",
    "    print(f\"{round(x['mean'], 2)} +- {1.96*x['std']/np.sqrt(x['count'])}\")\n"
   ]
  },
  {
   "cell_type": "code",
   "execution_count": 8,
   "metadata": {},
   "outputs": [
    {
     "data": {
      "text/html": [
       "\n",
       "<div id=\"altair-viz-7695ea63704f40839f46cb2837839d5c\"></div>\n",
       "<script type=\"text/javascript\">\n",
       "  var VEGA_DEBUG = (typeof VEGA_DEBUG == \"undefined\") ? {} : VEGA_DEBUG;\n",
       "  (function(spec, embedOpt){\n",
       "    let outputDiv = document.currentScript.previousElementSibling;\n",
       "    if (outputDiv.id !== \"altair-viz-7695ea63704f40839f46cb2837839d5c\") {\n",
       "      outputDiv = document.getElementById(\"altair-viz-7695ea63704f40839f46cb2837839d5c\");\n",
       "    }\n",
       "    const paths = {\n",
       "      \"vega\": \"https://cdn.jsdelivr.net/npm//vega@5?noext\",\n",
       "      \"vega-lib\": \"https://cdn.jsdelivr.net/npm//vega-lib?noext\",\n",
       "      \"vega-lite\": \"https://cdn.jsdelivr.net/npm//vega-lite@4.17.0?noext\",\n",
       "      \"vega-embed\": \"https://cdn.jsdelivr.net/npm//vega-embed@6?noext\",\n",
       "    };\n",
       "\n",
       "    function maybeLoadScript(lib, version) {\n",
       "      var key = `${lib.replace(\"-\", \"\")}_version`;\n",
       "      return (VEGA_DEBUG[key] == version) ?\n",
       "        Promise.resolve(paths[lib]) :\n",
       "        new Promise(function(resolve, reject) {\n",
       "          var s = document.createElement('script');\n",
       "          document.getElementsByTagName(\"head\")[0].appendChild(s);\n",
       "          s.async = true;\n",
       "          s.onload = () => {\n",
       "            VEGA_DEBUG[key] = version;\n",
       "            return resolve(paths[lib]);\n",
       "          };\n",
       "          s.onerror = () => reject(`Error loading script: ${paths[lib]}`);\n",
       "          s.src = paths[lib];\n",
       "        });\n",
       "    }\n",
       "\n",
       "    function showError(err) {\n",
       "      outputDiv.innerHTML = `<div class=\"error\" style=\"color:red;\">${err}</div>`;\n",
       "      throw err;\n",
       "    }\n",
       "\n",
       "    function displayChart(vegaEmbed) {\n",
       "      vegaEmbed(outputDiv, spec, embedOpt)\n",
       "        .catch(err => showError(`Javascript Error: ${err.message}<br>This usually means there's a typo in your chart specification. See the javascript console for the full traceback.`));\n",
       "    }\n",
       "\n",
       "    if(typeof define === \"function\" && define.amd) {\n",
       "      requirejs.config({paths});\n",
       "      require([\"vega-embed\"], displayChart, err => showError(`Error loading script: ${err.message}`));\n",
       "    } else {\n",
       "      maybeLoadScript(\"vega\", \"5\")\n",
       "        .then(() => maybeLoadScript(\"vega-lite\", \"4.17.0\"))\n",
       "        .then(() => maybeLoadScript(\"vega-embed\", \"6\"))\n",
       "        .catch(showError)\n",
       "        .then(() => displayChart(vegaEmbed));\n",
       "    }\n",
       "  })({\"config\": {\"view\": {\"continuousWidth\": 400, \"continuousHeight\": 300}, \"axis\": {\"labelFontSize\": 14, \"titleFontSize\": 20}}, \"data\": {\"name\": \"data-1cac6182c98b540831c37fd1e306f8be\"}, \"mark\": {\"type\": \"bar\", \"color\": \"#92c5de\"}, \"encoding\": {\"x\": {\"bin\": {\"extent\": [0, 0.01], \"step\": 0.0005}, \"field\": \"activity\", \"title\": \"Average Activity Potential (Binned)\", \"type\": \"quantitative\"}, \"y\": {\"aggregate\": \"count\", \"field\": \"activity\", \"scale\": {\"domain\": [0, 550]}, \"title\": \"Nodes\", \"type\": \"quantitative\"}}, \"$schema\": \"https://vega.github.io/schema/vega-lite/v4.17.0.json\", \"datasets\": {\"data-1cac6182c98b540831c37fd1e306f8be\": [{\"id\": 0, \"activity\": 0.0017798470102762664}, {\"id\": 1, \"activity\": 0.0009039850003540359}, {\"id\": 2, \"activity\": 0.0005015881478390023}, {\"id\": 3, \"activity\": 0.0012502464887708012}, {\"id\": 4, \"activity\": 0.0024210173862112307}, {\"id\": 5, \"activity\": 0.0024568817086258665}, {\"id\": 6, \"activity\": 0.002606048040109656}, {\"id\": 7, \"activity\": 0.00015271040180568981}, {\"id\": 8, \"activity\": 0.00023827510066996467}, {\"id\": 10, \"activity\": 0.000615880282248066}, {\"id\": 11, \"activity\": 0.0014199155783785856}, {\"id\": 12, \"activity\": 0.004662592202878802}, {\"id\": 13, \"activity\": 0.0029012576207375017}, {\"id\": 14, \"activity\": 0.0025441330874261016}, {\"id\": 15, \"activity\": 0.0021544050757464606}, {\"id\": 16, \"activity\": 0.0014640141973002313}, {\"id\": 17, \"activity\": 0.0008720470036192221}, {\"id\": 18, \"activity\": 0.0010830179448555084}, {\"id\": 19, \"activity\": 0.0006047238496777456}, {\"id\": 20, \"activity\": 0.0009751313047900158}, {\"id\": 21, \"activity\": 0.0005125467055649298}, {\"id\": 22, \"activity\": 0.0029235372432350982}, {\"id\": 23, \"activity\": 0.0019253822733504237}, {\"id\": 24, \"activity\": 3.778864530633472e-05}, {\"id\": 25, \"activity\": 0.0027128807643688364}, {\"id\": 26, \"activity\": 0.00019539053296001692}, {\"id\": 27, \"activity\": 0.0013197382669095298}, {\"id\": 28, \"activity\": 0.0005267877138731164}, {\"id\": 29, \"activity\": 0.001291892964285451}, {\"id\": 30, \"activity\": 0.0009202396819853187}, {\"id\": 31, \"activity\": 0.0013565575017364944}, {\"id\": 32, \"activity\": 0.0007589999298117446}, {\"id\": 33, \"activity\": 0.000240589945015913}, {\"id\": 34, \"activity\": 0.0016121851603498286}, {\"id\": 35, \"activity\": 0.0009057420217185606}, {\"id\": 36, \"activity\": 0.0012145302538111998}, {\"id\": 37, \"activity\": 0.0016289909153398556}, {\"id\": 38, \"activity\": 0.0005584542835968334}, {\"id\": 39, \"activity\": 0.001623765584518874}, {\"id\": 40, \"activity\": 4.574063231850117e-06}, {\"id\": 41, \"activity\": 0.002580788578860879}, {\"id\": 42, \"activity\": 0.0011844704448224434}, {\"id\": 43, \"activity\": 0.00012441672400659832}, {\"id\": 44, \"activity\": 0.0021197949379283747}, {\"id\": 45, \"activity\": 0.0006164179832128141}, {\"id\": 46, \"activity\": 0.0007737315014031619}, {\"id\": 47, \"activity\": 0.0012498643576220815}, {\"id\": 48, \"activity\": 0.003421332292314504}, {\"id\": 49, \"activity\": 0.0029598992010855633}, {\"id\": 50, \"activity\": 0.0022262513125524287}, {\"id\": 51, \"activity\": 0.0017106054360683947}, {\"id\": 52, \"activity\": 0.008246370024215651}, {\"id\": 53, \"activity\": 0.0009965196457940916}, {\"id\": 54, \"activity\": 0.0014295968808666136}, {\"id\": 55, \"activity\": 0.0017742353404518675}, {\"id\": 56, \"activity\": 0.001975793884884316}, {\"id\": 57, \"activity\": 0.002240619181710993}, {\"id\": 58, \"activity\": 0.004541453127647823}, {\"id\": 59, \"activity\": 0.00045749981466092833}, {\"id\": 61, \"activity\": 0.003121853676552187}, {\"id\": 62, \"activity\": 0.002688432778795513}, {\"id\": 63, \"activity\": 0.0012923112003955532}, {\"id\": 64, \"activity\": 0.004245632875351594}, {\"id\": 65, \"activity\": 0.0015111707258441168}, {\"id\": 66, \"activity\": 0.0001339402065970093}, {\"id\": 67, \"activity\": 0.000602440885280246}, {\"id\": 68, \"activity\": 0.0004440333464864953}, {\"id\": 69, \"activity\": 0.0055758830817533005}, {\"id\": 70, \"activity\": 0.0016219758595362197}, {\"id\": 71, \"activity\": 0.0004482579604357313}, {\"id\": 72, \"activity\": 0.0030989500118826633}, {\"id\": 73, \"activity\": 0.002161959381168617}, {\"id\": 74, \"activity\": 0.0013086610340097287}, {\"id\": 75, \"activity\": 0.0018640959141979364}, {\"id\": 76, \"activity\": 0.0013876022510612336}, {\"id\": 77, \"activity\": 1.712987367131326e-05}, {\"id\": 78, \"activity\": 0.003362559595251265}, {\"id\": 79, \"activity\": 0.0020657680238711494}, {\"id\": 80, \"activity\": 0.000801251900399057}, {\"id\": 81, \"activity\": 0.003621592573345117}, {\"id\": 82, \"activity\": 0.00021389050456593526}, {\"id\": 83, \"activity\": 0.003022096953669007}, {\"id\": 84, \"activity\": 0.0007176012377041553}, {\"id\": 85, \"activity\": 0.0023357530762205965}, {\"id\": 86, \"activity\": 0.00033664165305700864}, {\"id\": 87, \"activity\": 0.0006851174249018028}, {\"id\": 88, \"activity\": 0.0033551125626113606}, {\"id\": 89, \"activity\": 0.0005461807677635314}, {\"id\": 90, \"activity\": 0.002931224204848609}, {\"id\": 91, \"activity\": 0.0020117102746538677}, {\"id\": 92, \"activity\": 0.002911877557102747}, {\"id\": 93, \"activity\": 0.0008761605732937217}, {\"id\": 94, \"activity\": 0.001890240488344654}, {\"id\": 95, \"activity\": 0.002774499462077458}, {\"id\": 96, \"activity\": 0.002611380203821716}, {\"id\": 97, \"activity\": 0.0012249432520217353}, {\"id\": 98, \"activity\": 0.0008052098867477637}, {\"id\": 99, \"activity\": 0.0010600543433324212}, {\"id\": 100, \"activity\": 0.005800393957686772}, {\"id\": 101, \"activity\": 0.000787130411400121}, {\"id\": 102, \"activity\": 0.0007547401508795716}, {\"id\": 104, \"activity\": 0.0014978995253414095}, {\"id\": 105, \"activity\": 0.0030885463950084254}, {\"id\": 106, \"activity\": 0.0017129563721057987}, {\"id\": 107, \"activity\": 0.0009098558124733612}, {\"id\": 108, \"activity\": 0.0030976006890025753}, {\"id\": 109, \"activity\": 0.0012982980865179205}, {\"id\": 111, \"activity\": 0.0016467769765325096}, {\"id\": 112, \"activity\": 0.0005841121195534917}, {\"id\": 113, \"activity\": 0.0007935361682788292}, {\"id\": 114, \"activity\": 0.0025253321286363103}, {\"id\": 115, \"activity\": 0.0006176195764169252}, {\"id\": 116, \"activity\": 0.0008556288248548594}, {\"id\": 118, \"activity\": 0.0016218006287920877}, {\"id\": 119, \"activity\": 0.003450232508139696}, {\"id\": 120, \"activity\": 0.0013376150889742838}, {\"id\": 121, \"activity\": 0.0010720469607750436}, {\"id\": 122, \"activity\": 0.0022178971761974433}, {\"id\": 123, \"activity\": 0.0020863580176594125}, {\"id\": 124, \"activity\": 0.0003094529800576094}, {\"id\": 125, \"activity\": 0.0002878255825556289}, {\"id\": 126, \"activity\": 0.0003140212539169692}, {\"id\": 127, \"activity\": 0.0007123392622557571}, {\"id\": 128, \"activity\": 0.0011893116573433173}, {\"id\": 129, \"activity\": 0.000818890406066759}, {\"id\": 130, \"activity\": 0.002035220650188229}, {\"id\": 131, \"activity\": 0.0005871780519377587}, {\"id\": 132, \"activity\": 0.0012421491533068784}, {\"id\": 133, \"activity\": 0.0011451612540149159}, {\"id\": 135, \"activity\": 2.4262178397241325e-05}, {\"id\": 136, \"activity\": 0.0029515826338898632}, {\"id\": 137, \"activity\": 0.0021075765919341557}, {\"id\": 138, \"activity\": 0.0004359048733428429}, {\"id\": 139, \"activity\": 0.0020031892280670724}, {\"id\": 140, \"activity\": 0.0022795206416329774}, {\"id\": 141, \"activity\": 0.0005848874254143814}, {\"id\": 143, \"activity\": 0.0007982241650414865}, {\"id\": 144, \"activity\": 0.0024688661885752983}, {\"id\": 145, \"activity\": 0.0006473784271093635}, {\"id\": 146, \"activity\": 0.0010660942453649535}, {\"id\": 147, \"activity\": 0.0011733324195702965}, {\"id\": 148, \"activity\": 0.002766161483635941}, {\"id\": 149, \"activity\": 0.0037673490871784174}, {\"id\": 150, \"activity\": 7.477418197044924e-06}, {\"id\": 151, \"activity\": 0.0034720287999936146}, {\"id\": 152, \"activity\": 0.0025466819063657024}, {\"id\": 153, \"activity\": 0.0006171823054656351}, {\"id\": 154, \"activity\": 0.0019044109323602336}, {\"id\": 155, \"activity\": 0.0015005387023289281}, {\"id\": 156, \"activity\": 0.0014828929512329177}, {\"id\": 157, \"activity\": 0.0027908078877832442}, {\"id\": 158, \"activity\": 0.0022841120339237297}, {\"id\": 159, \"activity\": 0.0016144060939325615}, {\"id\": 160, \"activity\": 0.00019080620583391267}, {\"id\": 161, \"activity\": 0.00022605669946432013}, {\"id\": 163, \"activity\": 0.0011251018460553543}, {\"id\": 164, \"activity\": 0.001364398027257497}, {\"id\": 165, \"activity\": 0.0007914965057098568}, {\"id\": 166, \"activity\": 0.0024649994480791483}, {\"id\": 167, \"activity\": 0.0015275970369520132}, {\"id\": 168, \"activity\": 0.0009072857425560627}, {\"id\": 169, \"activity\": 0.0010854582837005616}, {\"id\": 170, \"activity\": 0.002163849413881181}, {\"id\": 171, \"activity\": 0.00045052429511984566}, {\"id\": 172, \"activity\": 0.0021202540061950543}, {\"id\": 173, \"activity\": 0.0020553704290773183}, {\"id\": 174, \"activity\": 0.0016499939884597442}, {\"id\": 175, \"activity\": 0.0043833572373362445}, {\"id\": 176, \"activity\": 0.004448439791060153}, {\"id\": 177, \"activity\": 0.004961059912419472}, {\"id\": 178, \"activity\": 0.0015072985509313043}, {\"id\": 179, \"activity\": 0.002943844657458194}, {\"id\": 180, \"activity\": 0.0035464720834486123}, {\"id\": 181, \"activity\": 0.0014167858377248821}, {\"id\": 182, \"activity\": 0.0017866668431544901}, {\"id\": 183, \"activity\": 0.003030632271690642}, {\"id\": 184, \"activity\": 5.933591246766192e-07}, {\"id\": 185, \"activity\": 0.0008781612368473115}, {\"id\": 186, \"activity\": 0.0008679540397138873}, {\"id\": 187, \"activity\": 0.0006264652710155914}, {\"id\": 188, \"activity\": 0.0028924014553121644}, {\"id\": 189, \"activity\": 0.0013626363892209144}, {\"id\": 190, \"activity\": 0.0027032087811983316}, {\"id\": 191, \"activity\": 0.0018891822594945674}, {\"id\": 192, \"activity\": 0.00109272556843404}, {\"id\": 193, \"activity\": 0.001704437449399863}, {\"id\": 194, \"activity\": 0.0025572297370502206}, {\"id\": 195, \"activity\": 0.003138424220790759}, {\"id\": 196, \"activity\": 0.002421949885025255}, {\"id\": 197, \"activity\": 0.0016332046753132696}, {\"id\": 198, \"activity\": 0.0020830423292703287}, {\"id\": 199, \"activity\": 0.0006029415948441456}, {\"id\": 200, \"activity\": 0.0007290459575879416}, {\"id\": 201, \"activity\": 0.0021531380344316374}, {\"id\": 203, \"activity\": 0.0010879108818433454}, {\"id\": 204, \"activity\": 0.0007218635707643218}, {\"id\": 205, \"activity\": 0.0014291505888769627}, {\"id\": 206, \"activity\": 0.0015267998265500926}, {\"id\": 207, \"activity\": 0.0028785056593253967}, {\"id\": 208, \"activity\": 0.002687143643684566}, {\"id\": 209, \"activity\": 0.0012116368327925728}, {\"id\": 210, \"activity\": 0.0013442911482637974}, {\"id\": 211, \"activity\": 0.0011082199132897968}, {\"id\": 212, \"activity\": 0.0002431587607357458}, {\"id\": 213, \"activity\": 0.0003791961845732456}, {\"id\": 214, \"activity\": 0.00020163787232093506}, {\"id\": 215, \"activity\": 0.002527087623589846}, {\"id\": 216, \"activity\": 0.0011463205844456635}, {\"id\": 217, \"activity\": 0.0009569024381203047}, {\"id\": 218, \"activity\": 0.0014003186009210373}, {\"id\": 219, \"activity\": 0.0001688926100165632}, {\"id\": 220, \"activity\": 0.0018535837833432453}, {\"id\": 221, \"activity\": 0.005370217124098839}, {\"id\": 222, \"activity\": 0.0023389210714152434}, {\"id\": 223, \"activity\": 0.002223579383528655}, {\"id\": 224, \"activity\": 0.002459002366862522}, {\"id\": 225, \"activity\": 0.0015984658506364626}, {\"id\": 226, \"activity\": 0.0002890653518558552}, {\"id\": 227, \"activity\": 0.0013139078259096339}, {\"id\": 228, \"activity\": 0.0010489802155209099}, {\"id\": 229, \"activity\": 0.001729291956152713}, {\"id\": 230, \"activity\": 0.0011667505976435267}, {\"id\": 231, \"activity\": 0.0012700041259756235}, {\"id\": 232, \"activity\": 0.0011335024856759558}, {\"id\": 233, \"activity\": 0.0005194314484281753}, {\"id\": 234, \"activity\": 0.00033885923565108334}, {\"id\": 235, \"activity\": 0.0036449493613861066}, {\"id\": 236, \"activity\": 0.0019460209690485794}, {\"id\": 237, \"activity\": 0.0024361746665079115}, {\"id\": 238, \"activity\": 0.0015458522139599445}, {\"id\": 239, \"activity\": 0.001830783621443326}, {\"id\": 240, \"activity\": 0.003293925839087723}, {\"id\": 241, \"activity\": 8.466481236560758e-05}, {\"id\": 242, \"activity\": 0.0014301972347516285}, {\"id\": 243, \"activity\": 0.0027904469463480956}, {\"id\": 244, \"activity\": 0.002046979391801979}, {\"id\": 245, \"activity\": 0.00010248186925305675}, {\"id\": 246, \"activity\": 0.0014588767486110568}, {\"id\": 247, \"activity\": 0.0004659195859751179}, {\"id\": 248, \"activity\": 0.0010427460588875123}, {\"id\": 249, \"activity\": 0.004625939856916055}, {\"id\": 250, \"activity\": 0.0017018690474184031}, {\"id\": 251, \"activity\": 0.00068572951566252}, {\"id\": 252, \"activity\": 0.0005500925721563413}, {\"id\": 253, \"activity\": 0.0009069591367969894}, {\"id\": 254, \"activity\": 0.0025305933135460965}, {\"id\": 255, \"activity\": 0.00020940612993028125}, {\"id\": 256, \"activity\": 0.0008349357540357848}, {\"id\": 257, \"activity\": 0.0019497414994139614}, {\"id\": 258, \"activity\": 0.00034833259286316034}, {\"id\": 259, \"activity\": 0.0025254121326505033}, {\"id\": 260, \"activity\": 0.0014346849266695008}, {\"id\": 261, \"activity\": 0.0006073169251097283}, {\"id\": 262, \"activity\": 0.004723307593593248}, {\"id\": 263, \"activity\": 0.004848856509818746}, {\"id\": 264, \"activity\": 0.001777256038292862}, {\"id\": 265, \"activity\": 0.0012089791569529277}, {\"id\": 266, \"activity\": 0.0012703390431254324}, {\"id\": 267, \"activity\": 0.001994973531168678}, {\"id\": 268, \"activity\": 0.003022563739615282}, {\"id\": 269, \"activity\": 0.001966959213335072}, {\"id\": 270, \"activity\": 1.8589479964950763e-05}, {\"id\": 271, \"activity\": 0.0006602353412114052}, {\"id\": 272, \"activity\": 0.002247577623188055}, {\"id\": 273, \"activity\": 0.0015770809692985364}, {\"id\": 274, \"activity\": 0.0021774084269624854}, {\"id\": 275, \"activity\": 0.0006992057952701374}, {\"id\": 276, \"activity\": 0.002076725929621575}, {\"id\": 277, \"activity\": 0.0007753690070469564}, {\"id\": 278, \"activity\": 0.0024830377655578927}, {\"id\": 279, \"activity\": 0.0016288419110337545}, {\"id\": 280, \"activity\": 0.0027400305604277477}, {\"id\": 281, \"activity\": 0.001486867807152319}, {\"id\": 282, \"activity\": 0.0024469289379750207}, {\"id\": 283, \"activity\": 0.003346622339925938}, {\"id\": 284, \"activity\": 0.0006057001979813427}, {\"id\": 285, \"activity\": 0.0016058634626349665}, {\"id\": 286, \"activity\": 0.0029001174972795294}, {\"id\": 287, \"activity\": 0.002539996367148494}, {\"id\": 288, \"activity\": 0.0011779780663796493}, {\"id\": 289, \"activity\": 0.001594376238746017}, {\"id\": 290, \"activity\": 0.001381875790530054}, {\"id\": 291, \"activity\": 0.0017474528981856305}, {\"id\": 292, \"activity\": 0.0020880449902565905}, {\"id\": 293, \"activity\": 0.00016819007249830012}, {\"id\": 294, \"activity\": 0.003557043669162331}, {\"id\": 295, \"activity\": 0.001662403869638145}, {\"id\": 296, \"activity\": 0.0008811300809201943}, {\"id\": 297, \"activity\": 0.0010331510451254036}, {\"id\": 298, \"activity\": 0.00013290056786697768}, {\"id\": 299, \"activity\": 0.001494825656589971}, {\"id\": 300, \"activity\": 0.0030709738330326137}, {\"id\": 301, \"activity\": 0.004339568992297132}, {\"id\": 302, \"activity\": 0.0010155219235245844}, {\"id\": 303, \"activity\": 0.0005446440938217781}, {\"id\": 304, \"activity\": 0.0011869688257342972}, {\"id\": 306, \"activity\": 0.0024026615622309527}, {\"id\": 307, \"activity\": 0.00063305344793475}, {\"id\": 308, \"activity\": 0.0019087627373046044}, {\"id\": 309, \"activity\": 0.0027689034939449688}, {\"id\": 310, \"activity\": 0.0013020776052553198}, {\"id\": 311, \"activity\": 0.0029997559190680116}, {\"id\": 312, \"activity\": 3.29064842318636e-05}, {\"id\": 314, \"activity\": 0.0004786769428353885}, {\"id\": 315, \"activity\": 0.0008290749535293872}, {\"id\": 317, \"activity\": 0.0006481973944237}, {\"id\": 318, \"activity\": 0.0012599443541638537}, {\"id\": 319, \"activity\": 0.0005278667949203499}, {\"id\": 321, \"activity\": 0.00039880731507914983}, {\"id\": 322, \"activity\": 0.0008511227402172311}, {\"id\": 323, \"activity\": 0.0006023354871995439}, {\"id\": 324, \"activity\": 0.003999618239433299}, {\"id\": 325, \"activity\": 0.002508983483080932}, {\"id\": 326, \"activity\": 0.0006309766182783181}, {\"id\": 327, \"activity\": 0.0011945753241010498}, {\"id\": 328, \"activity\": 0.000604425061880018}, {\"id\": 329, \"activity\": 0.0006631134641747622}, {\"id\": 330, \"activity\": 0.0018711173018083384}, {\"id\": 331, \"activity\": 0.00176845796451979}, {\"id\": 332, \"activity\": 0.00010604874102764186}, {\"id\": 334, \"activity\": 0.0016134547846193019}, {\"id\": 335, \"activity\": 0.0010658231670407432}, {\"id\": 336, \"activity\": 0.0015655016558833417}, {\"id\": 337, \"activity\": 0.00011239796458017604}, {\"id\": 338, \"activity\": 0.0012902280010270628}, {\"id\": 339, \"activity\": 0.0018656773704225254}, {\"id\": 340, \"activity\": 0.0007039012793342189}, {\"id\": 341, \"activity\": 0.0019949466244475896}, {\"id\": 342, \"activity\": 0.0018781324036031067}, {\"id\": 343, \"activity\": 0.0015987745817590928}, {\"id\": 344, \"activity\": 0.0029215443385263795}, {\"id\": 345, \"activity\": 0.0008590692396912451}, {\"id\": 346, \"activity\": 9.673425166382912e-06}, {\"id\": 347, \"activity\": 8.614727059817637e-06}, {\"id\": 348, \"activity\": 0.0019385357193367238}, {\"id\": 349, \"activity\": 0.0012246344606264925}, {\"id\": 350, \"activity\": 0.0011662793537726298}, {\"id\": 351, \"activity\": 0.00133995451875476}, {\"id\": 352, \"activity\": 0.0012327661571789968}, {\"id\": 353, \"activity\": 0.0014615365186825212}, {\"id\": 354, \"activity\": 0.0009702544386566709}, {\"id\": 355, \"activity\": 0.000919729875454368}, {\"id\": 356, \"activity\": 0.001205194395812884}, {\"id\": 357, \"activity\": 0.0013918050535581747}, {\"id\": 358, \"activity\": 0.0021247963424353947}, {\"id\": 359, \"activity\": 0.005025665111911058}, {\"id\": 360, \"activity\": 0.0008866768490755817}, {\"id\": 361, \"activity\": 0.0007872123515143187}, {\"id\": 362, \"activity\": 0.0003723049306671819}, {\"id\": 363, \"activity\": 0.0016482547281035926}, {\"id\": 364, \"activity\": 0.0009739578949054734}, {\"id\": 365, \"activity\": 0.0009879418652131349}, {\"id\": 366, \"activity\": 0.0014061991795663814}, {\"id\": 367, \"activity\": 0.0006268686532567398}, {\"id\": 368, \"activity\": 0.001549568415858638}, {\"id\": 369, \"activity\": 0.000477130973154024}, {\"id\": 370, \"activity\": 0.0008687185880991658}, {\"id\": 371, \"activity\": 0.0031050242001112232}, {\"id\": 372, \"activity\": 0.0030980798192195395}, {\"id\": 373, \"activity\": 0.004943425287765125}, {\"id\": 374, \"activity\": 0.0016733826604538801}, {\"id\": 375, \"activity\": 0.0011791495901969137}, {\"id\": 376, \"activity\": 0.001545562814514222}, {\"id\": 377, \"activity\": 0.0006710436870729731}, {\"id\": 378, \"activity\": 0.0030722445576719898}, {\"id\": 379, \"activity\": 0.0009127727086201125}, {\"id\": 380, \"activity\": 0.0008226785652912505}, {\"id\": 381, \"activity\": 0.0003071389130520536}, {\"id\": 382, \"activity\": 0.001046920331212289}, {\"id\": 383, \"activity\": 0.0030436751437110028}, {\"id\": 384, \"activity\": 0.0011614457916404078}, {\"id\": 385, \"activity\": 0.00027460908911126463}, {\"id\": 386, \"activity\": 0.0024150813354194257}, {\"id\": 387, \"activity\": 2.3937188816545386e-06}, {\"id\": 388, \"activity\": 0.0017488004888013837}, {\"id\": 389, \"activity\": 0.0005815907123694872}, {\"id\": 390, \"activity\": 0.0010058512931096326}, {\"id\": 391, \"activity\": 0.000733096237245225}, {\"id\": 392, \"activity\": 0.0003221446053044116}, {\"id\": 393, \"activity\": 3.849566970979712e-06}, {\"id\": 394, \"activity\": 0.0024273173620106593}, {\"id\": 395, \"activity\": 0.0013075437280905629}, {\"id\": 396, \"activity\": 0.0011971205731562916}, {\"id\": 397, \"activity\": 0.0022016690748946958}, {\"id\": 399, \"activity\": 0.0018425071783788524}, {\"id\": 400, \"activity\": 0.0005494251694701584}, {\"id\": 401, \"activity\": 0.004969043000786398}, {\"id\": 402, \"activity\": 0.0010061892625312656}, {\"id\": 403, \"activity\": 0.0030230550709062546}, {\"id\": 404, \"activity\": 0.0006318646194006888}, {\"id\": 405, \"activity\": 0.00201735726143809}, {\"id\": 406, \"activity\": 0.0008256737527062141}, {\"id\": 407, \"activity\": 0.0015054095936551189}, {\"id\": 408, \"activity\": 0.0014315696472812793}, {\"id\": 409, \"activity\": 0.00036091307335505367}, {\"id\": 410, \"activity\": 3.329249541951017e-06}, {\"id\": 411, \"activity\": 0.0005604328282826839}, {\"id\": 412, \"activity\": 0.0022687774388605816}, {\"id\": 413, \"activity\": 0.0013709840719343292}, {\"id\": 414, \"activity\": 0.0011835528764962426}, {\"id\": 415, \"activity\": 0.0017775899369620958}, {\"id\": 416, \"activity\": 0.002735571720799921}, {\"id\": 418, \"activity\": 0.0013786544118503975}, {\"id\": 419, \"activity\": 0.0007635119476225912}, {\"id\": 420, \"activity\": 0.0001958846053686288}, {\"id\": 421, \"activity\": 0.0017491574847779273}, {\"id\": 422, \"activity\": 0.002927124568553012}, {\"id\": 423, \"activity\": 0.0020282454927083144}, {\"id\": 424, \"activity\": 0.003805130093683172}, {\"id\": 425, \"activity\": 0.0013483862661431165}, {\"id\": 426, \"activity\": 1.0038750540555948e-05}, {\"id\": 427, \"activity\": 0.002478449113836709}, {\"id\": 428, \"activity\": 0.0005778383602682283}, {\"id\": 429, \"activity\": 0.0004962387186446767}, {\"id\": 430, \"activity\": 0.00037316821377050905}, {\"id\": 431, \"activity\": 0.000592817005061753}, {\"id\": 432, \"activity\": 0.0011670675237720122}, {\"id\": 433, \"activity\": 0.0007915795410017613}, {\"id\": 434, \"activity\": 0.0011651597220588893}, {\"id\": 435, \"activity\": 0.0015637471880538627}, {\"id\": 436, \"activity\": 0.001171135887051662}, {\"id\": 437, \"activity\": 0.0010410672872370659}, {\"id\": 438, \"activity\": 0.001937851718598296}, {\"id\": 439, \"activity\": 0.0016512447413034816}, {\"id\": 440, \"activity\": 0.0013391288410712686}, {\"id\": 441, \"activity\": 0.0024684826740884376}, {\"id\": 442, \"activity\": 0.0004001557782259407}, {\"id\": 443, \"activity\": 0.00124162678633144}, {\"id\": 444, \"activity\": 0.0008102588541489205}, {\"id\": 445, \"activity\": 0.00020279155785907}, {\"id\": 446, \"activity\": 0.0013084698262749216}, {\"id\": 448, \"activity\": 0.003682285490504881}, {\"id\": 449, \"activity\": 0.002341532106747216}, {\"id\": 450, \"activity\": 0.0006139100057640659}, {\"id\": 451, \"activity\": 0.00020605322240951907}, {\"id\": 452, \"activity\": 0.0013330567569341991}, {\"id\": 453, \"activity\": 0.0007371373835794413}, {\"id\": 454, \"activity\": 0.0008042893470108063}, {\"id\": 455, \"activity\": 0.0024924568368115824}, {\"id\": 456, \"activity\": 0.00023915523510101337}, {\"id\": 457, \"activity\": 0.001078420983447208}, {\"id\": 458, \"activity\": 0.0011914114434972262}, {\"id\": 459, \"activity\": 0.0014239349946578125}, {\"id\": 460, \"activity\": 7.096062260409664e-05}, {\"id\": 461, \"activity\": 0.002672429739090308}, {\"id\": 462, \"activity\": 0.0010351456437638087}, {\"id\": 463, \"activity\": 6.278074488027446e-05}, {\"id\": 464, \"activity\": 3.021171741502934e-05}, {\"id\": 465, \"activity\": 0.0028130679834523207}, {\"id\": 466, \"activity\": 0.0016802860068402348}, {\"id\": 467, \"activity\": 0.002420903524527487}, {\"id\": 468, \"activity\": 0.0004579080604670533}, {\"id\": 469, \"activity\": 0.0012168058469982676}, {\"id\": 470, \"activity\": 0.0019825848106742633}, {\"id\": 471, \"activity\": 0.0010741052221343995}, {\"id\": 472, \"activity\": 0.002411579001869912}, {\"id\": 473, \"activity\": 0.0009616116060253438}, {\"id\": 474, \"activity\": 0.001309695278851181}, {\"id\": 475, \"activity\": 0.000994861542939657}, {\"id\": 476, \"activity\": 0.005012371081428122}, {\"id\": 477, \"activity\": 0.0002767479856244054}, {\"id\": 478, \"activity\": 0.0006667065100534395}, {\"id\": 479, \"activity\": 0.0014460913259604323}, {\"id\": 480, \"activity\": 0.0008580188871417356}, {\"id\": 481, \"activity\": 0.0013742368179087948}, {\"id\": 482, \"activity\": 0.0008880124358401465}, {\"id\": 483, \"activity\": 0.001592816236378302}, {\"id\": 484, \"activity\": 0.0006754210031992255}, {\"id\": 485, \"activity\": 0.003956054928921282}, {\"id\": 486, \"activity\": 0.0011878277536027766}, {\"id\": 487, \"activity\": 0.0007042024356486085}, {\"id\": 488, \"activity\": 0.0016582134442235128}, {\"id\": 489, \"activity\": 0.00192269143128403}, {\"id\": 490, \"activity\": 0.0005253141608729363}, {\"id\": 491, \"activity\": 0.0021213672427903914}, {\"id\": 492, \"activity\": 0.002852241220596597}, {\"id\": 493, \"activity\": 0.002107683523634244}, {\"id\": 494, \"activity\": 0.0020076770807472594}, {\"id\": 495, \"activity\": 9.746877951003058e-05}, {\"id\": 496, \"activity\": 0.00010133018056622111}, {\"id\": 497, \"activity\": 0.0002945122250298709}, {\"id\": 498, \"activity\": 0.0005307355182724739}, {\"id\": 499, \"activity\": 0.0013109684933012985}, {\"id\": 500, \"activity\": 0.00019949437137584277}, {\"id\": 501, \"activity\": 0.0007306377339340144}, {\"id\": 502, \"activity\": 0.001122671991830176}, {\"id\": 503, \"activity\": 0.002171058430179585}, {\"id\": 504, \"activity\": 0.00056090428428887}, {\"id\": 505, \"activity\": 0.0018639714660301533}, {\"id\": 506, \"activity\": 0.0015250039036735607}, {\"id\": 507, \"activity\": 0.0021587979811344958}, {\"id\": 508, \"activity\": 0.0011979474463182514}, {\"id\": 509, \"activity\": 0.0018988241901795638}, {\"id\": 510, \"activity\": 0.0005450499876772758}, {\"id\": 512, \"activity\": 0.002752787587226232}, {\"id\": 513, \"activity\": 0.0015225364556492385}, {\"id\": 514, \"activity\": 0.0017375719896390873}, {\"id\": 515, \"activity\": 0.0007489170249288239}, {\"id\": 516, \"activity\": 0.00023948685840444463}, {\"id\": 517, \"activity\": 0.0005161150447277976}, {\"id\": 518, \"activity\": 0.0013165948395225003}, {\"id\": 519, \"activity\": 0.0011221288379550038}, {\"id\": 520, \"activity\": 0.0025996329251898155}, {\"id\": 521, \"activity\": 0.0014613405325042577}, {\"id\": 522, \"activity\": 0.001999025498174373}, {\"id\": 523, \"activity\": 0.0012338446239687944}, {\"id\": 524, \"activity\": 0.0056770859591771415}, {\"id\": 525, \"activity\": 0.00209640987310972}, {\"id\": 526, \"activity\": 0.00016418839874839252}, {\"id\": 527, \"activity\": 0.00048664141186990673}, {\"id\": 528, \"activity\": 0.002338040246106419}, {\"id\": 529, \"activity\": 0.000896408363337794}, {\"id\": 530, \"activity\": 0.0015947566622293717}, {\"id\": 531, \"activity\": 0.001301539081585725}, {\"id\": 532, \"activity\": 0.004139681888067283}, {\"id\": 533, \"activity\": 0.0004043912581995274}, {\"id\": 534, \"activity\": 0.0010514689682265066}, {\"id\": 535, \"activity\": 0.0018650956890767737}, {\"id\": 536, \"activity\": 0.0010857227292257383}, {\"id\": 537, \"activity\": 0.0016757625464369956}, {\"id\": 538, \"activity\": 0.0014756516636517801}, {\"id\": 539, \"activity\": 0.0014254539993211212}, {\"id\": 540, \"activity\": 0.0016050863378512831}, {\"id\": 541, \"activity\": 0.0017646071907774328}, {\"id\": 542, \"activity\": 0.0026277480803534457}, {\"id\": 543, \"activity\": 0.0015461128747077143}, {\"id\": 544, \"activity\": 0.0011237147774841778}, {\"id\": 545, \"activity\": 0.002004787126800648}, {\"id\": 546, \"activity\": 0.0020626658334159708}, {\"id\": 547, \"activity\": 0.0016633720384676542}, {\"id\": 548, \"activity\": 0.0003785312063984527}, {\"id\": 549, \"activity\": 0.0015919389622616558}, {\"id\": 550, \"activity\": 0.0011453156681339846}, {\"id\": 551, \"activity\": 0.0008262522612005741}, {\"id\": 552, \"activity\": 0.000870477644793581}, {\"id\": 553, \"activity\": 0.0036001085750872503}, {\"id\": 554, \"activity\": 0.0007233925814085085}, {\"id\": 555, \"activity\": 0.0021252100676576843}, {\"id\": 556, \"activity\": 0.002341714150044604}, {\"id\": 557, \"activity\": 0.0010218332217604472}, {\"id\": 558, \"activity\": 0.0011932662774948963}, {\"id\": 559, \"activity\": 0.002488001551929619}, {\"id\": 560, \"activity\": 0.0039646932593171225}, {\"id\": 561, \"activity\": 0.0011891277380443595}, {\"id\": 562, \"activity\": 0.00023383207948848782}, {\"id\": 563, \"activity\": 0.0012464151839630734}, {\"id\": 565, \"activity\": 0.00023804632856584795}, {\"id\": 566, \"activity\": 0.00011637758490920526}, {\"id\": 567, \"activity\": 0.0014696092334514587}, {\"id\": 568, \"activity\": 0.0033443465864512285}, {\"id\": 569, \"activity\": 0.002945969279012563}, {\"id\": 570, \"activity\": 0.00040799595645535093}, {\"id\": 571, \"activity\": 0.0007134514873266666}, {\"id\": 572, \"activity\": 0.0016738129950353946}, {\"id\": 573, \"activity\": 6.942305798466568e-05}, {\"id\": 574, \"activity\": 6.282677969035035e-05}, {\"id\": 575, \"activity\": 0.002407055129242334}, {\"id\": 576, \"activity\": 0.0010837448458707265}, {\"id\": 577, \"activity\": 0.0003139279372251994}, {\"id\": 578, \"activity\": 0.00239838054077473}, {\"id\": 579, \"activity\": 0.0011062493789929541}, {\"id\": 580, \"activity\": 0.00218332571460826}, {\"id\": 582, \"activity\": 0.001104500589081827}, {\"id\": 583, \"activity\": 0.00141640545052408}, {\"id\": 584, \"activity\": 0.0009764466339697113}, {\"id\": 585, \"activity\": 0.0019630096835796993}, {\"id\": 586, \"activity\": 0.0008346436328708774}, {\"id\": 587, \"activity\": 0.0013689649850795662}, {\"id\": 588, \"activity\": 0.0013238636944898315}, {\"id\": 589, \"activity\": 0.0010082625990694989}, {\"id\": 590, \"activity\": 0.00019320268985082304}, {\"id\": 591, \"activity\": 0.0006929996904055433}, {\"id\": 592, \"activity\": 0.0002081223102765779}, {\"id\": 593, \"activity\": 0.0009578384876815225}, {\"id\": 595, \"activity\": 0.0010106536509444086}, {\"id\": 596, \"activity\": 0.0003968337347661812}, {\"id\": 597, \"activity\": 0.0005881232971042847}, {\"id\": 598, \"activity\": 0.0036613226299949822}, {\"id\": 599, \"activity\": 0.0029718136773584014}, {\"id\": 600, \"activity\": 0.0019723070744486026}, {\"id\": 601, \"activity\": 6.757662614680637e-05}, {\"id\": 602, \"activity\": 0.0015780563598042335}, {\"id\": 604, \"activity\": 0.00043416331589761655}, {\"id\": 605, \"activity\": 0.00018196071313121285}, {\"id\": 606, \"activity\": 0.0002768228251825388}, {\"id\": 607, \"activity\": 0.0007304687562544312}, {\"id\": 608, \"activity\": 0.0008665065622926411}, {\"id\": 609, \"activity\": 0.0006586320099428229}, {\"id\": 610, \"activity\": 0.0016355528165466564}, {\"id\": 611, \"activity\": 0.001470207268052353}, {\"id\": 612, \"activity\": 0.000853669199157985}, {\"id\": 613, \"activity\": 0.001271033936720709}, {\"id\": 614, \"activity\": 0.0008165854553020375}, {\"id\": 615, \"activity\": 0.0022998938583981146}, {\"id\": 616, \"activity\": 0.0010952621537753035}, {\"id\": 617, \"activity\": 0.0018207189230231328}, {\"id\": 618, \"activity\": 0.0001072803670956552}, {\"id\": 619, \"activity\": 0.001058951205380579}, {\"id\": 620, \"activity\": 0.0006948353376255345}, {\"id\": 621, \"activity\": 0.0009937113590677545}, {\"id\": 622, \"activity\": 2.4470152403312228e-05}, {\"id\": 623, \"activity\": 0.00040813372063530775}, {\"id\": 624, \"activity\": 0.000607804623538608}, {\"id\": 625, \"activity\": 3.938194320781338e-05}, {\"id\": 626, \"activity\": 6.561698487651983e-05}, {\"id\": 627, \"activity\": 0.0012067892562789729}, {\"id\": 628, \"activity\": 0.00031172240534997137}, {\"id\": 629, \"activity\": 2.278611733534526e-05}, {\"id\": 630, \"activity\": 0.0009866299393590414}, {\"id\": 631, \"activity\": 0.0005912259074794723}, {\"id\": 632, \"activity\": 0.0022546876591914085}, {\"id\": 633, \"activity\": 0.0008125638469447457}, {\"id\": 634, \"activity\": 0.0017659700474182817}, {\"id\": 635, \"activity\": 0.0008776727348946922}, {\"id\": 636, \"activity\": 0.001277553607269648}, {\"id\": 637, \"activity\": 0.00144522993464866}, {\"id\": 638, \"activity\": 4.787437763309077e-06}, {\"id\": 639, \"activity\": 0.00043322626436549265}, {\"id\": 640, \"activity\": 0.0018478358072603375}, {\"id\": 641, \"activity\": 0.00018273511697750698}, {\"id\": 642, \"activity\": 0.0005295944582315146}, {\"id\": 643, \"activity\": 0.001691300806784564}, {\"id\": 644, \"activity\": 0.001697873081898343}, {\"id\": 645, \"activity\": 0.0007939327567409589}, {\"id\": 646, \"activity\": 0.0008676291615869305}, {\"id\": 647, \"activity\": 0.00043954680976995034}, {\"id\": 648, \"activity\": 0.001225429862463741}, {\"id\": 649, \"activity\": 0.0005082081743231099}, {\"id\": 650, \"activity\": 0.0012713401692824454}, {\"id\": 651, \"activity\": 0.002324581812110906}, {\"id\": 652, \"activity\": 0.00033269263425950114}, {\"id\": 654, \"activity\": 0.00036920315176439377}, {\"id\": 655, \"activity\": 0.0007604202930996084}, {\"id\": 656, \"activity\": 0.0012728811708238518}, {\"id\": 657, \"activity\": 0.0037891224763203675}, {\"id\": 658, \"activity\": 0.0005526641510833633}, {\"id\": 659, \"activity\": 0.0025782357621960306}, {\"id\": 660, \"activity\": 0.0003277512169507684}, {\"id\": 661, \"activity\": 0.0016132951119307002}, {\"id\": 662, \"activity\": 0.0012541665600882858}, {\"id\": 663, \"activity\": 0.0021651499810118025}, {\"id\": 664, \"activity\": 0.0011732915438028174}, {\"id\": 665, \"activity\": 0.0028286721601702776}, {\"id\": 666, \"activity\": 0.0019695500214106467}, {\"id\": 667, \"activity\": 0.0012254273223667896}, {\"id\": 668, \"activity\": 0.0013220931115557008}, {\"id\": 669, \"activity\": 0.00026700976994308007}, {\"id\": 671, \"activity\": 0.00123278332539795}, {\"id\": 672, \"activity\": 0.0014171773597044975}, {\"id\": 673, \"activity\": 0.0026748317642259364}, {\"id\": 676, \"activity\": 0.0023129132513589217}, {\"id\": 677, \"activity\": 0.002497396994525096}, {\"id\": 678, \"activity\": 0.0009023238151911176}, {\"id\": 680, \"activity\": 0.000265824396683228}, {\"id\": 681, \"activity\": 0.000102983322667109}, {\"id\": 682, \"activity\": 0.003859106547070626}, {\"id\": 683, \"activity\": 0.0007865557698218681}, {\"id\": 684, \"activity\": 0.0005505035359694812}, {\"id\": 685, \"activity\": 0.000544887925421122}, {\"id\": 686, \"activity\": 0.001617277266548776}, {\"id\": 687, \"activity\": 0.0016351530808875546}, {\"id\": 688, \"activity\": 0.003323347467850797}, {\"id\": 689, \"activity\": 0.0006096456529737561}, {\"id\": 690, \"activity\": 9.841357320001574e-07}, {\"id\": 691, \"activity\": 0.001166763959073341}, {\"id\": 692, \"activity\": 0.0001793677478058014}, {\"id\": 694, \"activity\": 0.00019963159484388772}, {\"id\": 695, \"activity\": 1.0286372613561553e-05}, {\"id\": 698, \"activity\": 0.0012272027924217616}, {\"id\": 699, \"activity\": 0.00031436637256484275}, {\"id\": 700, \"activity\": 0.0009876588267426216}, {\"id\": 701, \"activity\": 0.0016994116808483738}, {\"id\": 702, \"activity\": 0.003466556267377695}, {\"id\": 703, \"activity\": 0.00040583794713467406}, {\"id\": 704, \"activity\": 0.00026578996334776863}, {\"id\": 705, \"activity\": 1.4702682357369278e-06}, {\"id\": 707, \"activity\": 3.422997382822184e-05}, {\"id\": 709, \"activity\": 0.0001260333303678967}, {\"id\": 710, \"activity\": 1.4780982475602826e-06}, {\"id\": 732, \"activity\": 1.8745442039897776e-05}, {\"id\": 812, \"activity\": 0.0004892595743873889}, {\"id\": 845, \"activity\": 1.3426423200859291e-05}]}}, {\"mode\": \"vega-lite\"});\n",
       "</script>"
      ],
      "text/plain": [
       "alt.Chart(...)"
      ]
     },
     "metadata": {},
     "output_type": "display_data"
    },
    {
     "data": {
      "text/html": [
       "\n",
       "<div id=\"altair-viz-2192bdd9c019424a95f7609e0efaeaf2\"></div>\n",
       "<script type=\"text/javascript\">\n",
       "  var VEGA_DEBUG = (typeof VEGA_DEBUG == \"undefined\") ? {} : VEGA_DEBUG;\n",
       "  (function(spec, embedOpt){\n",
       "    let outputDiv = document.currentScript.previousElementSibling;\n",
       "    if (outputDiv.id !== \"altair-viz-2192bdd9c019424a95f7609e0efaeaf2\") {\n",
       "      outputDiv = document.getElementById(\"altair-viz-2192bdd9c019424a95f7609e0efaeaf2\");\n",
       "    }\n",
       "    const paths = {\n",
       "      \"vega\": \"https://cdn.jsdelivr.net/npm//vega@5?noext\",\n",
       "      \"vega-lib\": \"https://cdn.jsdelivr.net/npm//vega-lib?noext\",\n",
       "      \"vega-lite\": \"https://cdn.jsdelivr.net/npm//vega-lite@4.17.0?noext\",\n",
       "      \"vega-embed\": \"https://cdn.jsdelivr.net/npm//vega-embed@6?noext\",\n",
       "    };\n",
       "\n",
       "    function maybeLoadScript(lib, version) {\n",
       "      var key = `${lib.replace(\"-\", \"\")}_version`;\n",
       "      return (VEGA_DEBUG[key] == version) ?\n",
       "        Promise.resolve(paths[lib]) :\n",
       "        new Promise(function(resolve, reject) {\n",
       "          var s = document.createElement('script');\n",
       "          document.getElementsByTagName(\"head\")[0].appendChild(s);\n",
       "          s.async = true;\n",
       "          s.onload = () => {\n",
       "            VEGA_DEBUG[key] = version;\n",
       "            return resolve(paths[lib]);\n",
       "          };\n",
       "          s.onerror = () => reject(`Error loading script: ${paths[lib]}`);\n",
       "          s.src = paths[lib];\n",
       "        });\n",
       "    }\n",
       "\n",
       "    function showError(err) {\n",
       "      outputDiv.innerHTML = `<div class=\"error\" style=\"color:red;\">${err}</div>`;\n",
       "      throw err;\n",
       "    }\n",
       "\n",
       "    function displayChart(vegaEmbed) {\n",
       "      vegaEmbed(outputDiv, spec, embedOpt)\n",
       "        .catch(err => showError(`Javascript Error: ${err.message}<br>This usually means there's a typo in your chart specification. See the javascript console for the full traceback.`));\n",
       "    }\n",
       "\n",
       "    if(typeof define === \"function\" && define.amd) {\n",
       "      requirejs.config({paths});\n",
       "      require([\"vega-embed\"], displayChart, err => showError(`Error loading script: ${err.message}`));\n",
       "    } else {\n",
       "      maybeLoadScript(\"vega\", \"5\")\n",
       "        .then(() => maybeLoadScript(\"vega-lite\", \"4.17.0\"))\n",
       "        .then(() => maybeLoadScript(\"vega-embed\", \"6\"))\n",
       "        .catch(showError)\n",
       "        .then(() => displayChart(vegaEmbed));\n",
       "    }\n",
       "  })({\"config\": {\"view\": {\"continuousWidth\": 400, \"continuousHeight\": 300}, \"axis\": {\"labelFontSize\": 14, \"titleFontSize\": 20}}, \"data\": {\"name\": \"data-59151c2c81d9d5b95392550189673241\"}, \"mark\": {\"type\": \"bar\", \"color\": \"#92c5de\"}, \"encoding\": {\"x\": {\"bin\": {\"extent\": [0, 0.01], \"step\": 0.0005}, \"field\": \"activity\", \"title\": \"Average Activity Potential (Binned)\", \"type\": \"quantitative\"}, \"y\": {\"aggregate\": \"count\", \"field\": \"activity\", \"scale\": {\"domain\": [0, 550]}, \"title\": \"Nodes\", \"type\": \"quantitative\"}}, \"$schema\": \"https://vega.github.io/schema/vega-lite/v4.17.0.json\", \"datasets\": {\"data-59151c2c81d9d5b95392550189673241\": [{\"id\": 0, \"activity\": 0.0018815358027149812}, {\"id\": 1, \"activity\": 0.001114563664999073}, {\"id\": 2, \"activity\": 0.00020635171105538261}, {\"id\": 3, \"activity\": 0.0013881823139715538}, {\"id\": 4, \"activity\": 0.001996673442717947}, {\"id\": 5, \"activity\": 0.002718541215657174}, {\"id\": 6, \"activity\": 0.0036095494734870613}, {\"id\": 7, \"activity\": 0.00026777432427608903}, {\"id\": 8, \"activity\": 0.0004531535073993075}, {\"id\": 10, \"activity\": 0.00042967282351503495}, {\"id\": 11, \"activity\": 0.0012407572860305882}, {\"id\": 12, \"activity\": 0.004709018712382786}, {\"id\": 13, \"activity\": 0.0019210865730891942}, {\"id\": 14, \"activity\": 0.002464962814242144}, {\"id\": 15, \"activity\": 0.0017732720302795306}, {\"id\": 16, \"activity\": 0.001778475520077255}, {\"id\": 17, \"activity\": 0.0007996765104128816}, {\"id\": 18, \"activity\": 0.0007562015868327216}, {\"id\": 19, \"activity\": 0.000628769845700257}, {\"id\": 20, \"activity\": 0.001369615844370479}, {\"id\": 21, \"activity\": 0.0006535662882207822}, {\"id\": 22, \"activity\": 0.0035517183334470978}, {\"id\": 23, \"activity\": 0.002903384155367057}, {\"id\": 24, \"activity\": 1.765586598491483e-06}, {\"id\": 25, \"activity\": 0.0026906053638638128}, {\"id\": 26, \"activity\": 0.00019256769087575059}, {\"id\": 27, \"activity\": 0.0018738465728746015}, {\"id\": 28, \"activity\": 0.00043467348743209686}, {\"id\": 29, \"activity\": 0.0005571233824729097}, {\"id\": 30, \"activity\": 1.938772188012207e-05}, {\"id\": 31, \"activity\": 0.0008459038015399624}, {\"id\": 32, \"activity\": 0.0010067672970974985}, {\"id\": 33, \"activity\": 0.00021483589233850167}, {\"id\": 34, \"activity\": 0.001265737964300102}, {\"id\": 35, \"activity\": 0.0007765046938017949}, {\"id\": 36, \"activity\": 0.0013160422100549122}, {\"id\": 37, \"activity\": 0.002196139562604486}, {\"id\": 38, \"activity\": 0.0004638201052706479}, {\"id\": 39, \"activity\": 0.0016183451267341544}, {\"id\": 40, \"activity\": 9.508595770576603e-06}, {\"id\": 41, \"activity\": 0.004295074308487351}, {\"id\": 42, \"activity\": 0.001494643451513623}, {\"id\": 43, \"activity\": 0.00019608957452104964}, {\"id\": 44, \"activity\": 0.0018164641163719685}, {\"id\": 45, \"activity\": 0.000652186770278358}, {\"id\": 46, \"activity\": 0.0008361627362168664}, {\"id\": 47, \"activity\": 0.0013060583258093247}, {\"id\": 48, \"activity\": 0.004468559862231732}, {\"id\": 49, \"activity\": 0.0025023377634693566}, {\"id\": 50, \"activity\": 0.0017354328448386102}, {\"id\": 51, \"activity\": 0.0014596155769612928}, {\"id\": 52, \"activity\": 0.007042990326006232}, {\"id\": 53, \"activity\": 0.001000037795050933}, {\"id\": 54, \"activity\": 0.0016153106517135978}, {\"id\": 55, \"activity\": 0.0015252771672117553}, {\"id\": 56, \"activity\": 0.0022163331596793657}, {\"id\": 57, \"activity\": 0.001912220205056221}, {\"id\": 58, \"activity\": 0.004277834560561223}, {\"id\": 59, \"activity\": 0.0003728919149688461}, {\"id\": 61, \"activity\": 0.0037154232333879334}, {\"id\": 62, \"activity\": 0.0028842922920363613}, {\"id\": 63, \"activity\": 0.0018756211210607262}, {\"id\": 64, \"activity\": 0.004389197928796979}, {\"id\": 65, \"activity\": 0.001516230439758499}, {\"id\": 66, \"activity\": 0.00010386886163881847}, {\"id\": 67, \"activity\": 0.0007555518708622779}, {\"id\": 68, \"activity\": 0.0005060276754174017}, {\"id\": 69, \"activity\": 0.005627175487633792}, {\"id\": 70, \"activity\": 0.0013061814724978753}, {\"id\": 71, \"activity\": 0.00045657296392640943}, {\"id\": 72, \"activity\": 0.003099537777683383}, {\"id\": 73, \"activity\": 0.0017314875759630011}, {\"id\": 74, \"activity\": 0.0012945114896247834}, {\"id\": 75, \"activity\": 0.0015931400638337823}, {\"id\": 76, \"activity\": 0.0011418505708691614}, {\"id\": 77, \"activity\": 3.2254823018007275e-05}, {\"id\": 78, \"activity\": 0.0026777476855727633}, {\"id\": 79, \"activity\": 0.002358047692337925}, {\"id\": 80, \"activity\": 0.0004384312842309345}, {\"id\": 81, \"activity\": 0.0032587096392471737}, {\"id\": 82, \"activity\": 0.0003081198764140017}, {\"id\": 83, \"activity\": 0.002830336985504366}, {\"id\": 84, \"activity\": 0.0008940196702849392}, {\"id\": 85, \"activity\": 0.001547348035292972}, {\"id\": 86, \"activity\": 0.00034113806912976333}, {\"id\": 87, \"activity\": 0.0005191518907965863}, {\"id\": 88, \"activity\": 0.00347310002867499}, {\"id\": 89, \"activity\": 0.00030851150825110394}, {\"id\": 90, \"activity\": 0.00347598961078132}, {\"id\": 91, \"activity\": 0.0014467939948564987}, {\"id\": 92, \"activity\": 0.003282136848699399}, {\"id\": 93, \"activity\": 0.0008527981226639272}, {\"id\": 94, \"activity\": 0.0028209794197886036}, {\"id\": 95, \"activity\": 0.003237040013691849}, {\"id\": 96, \"activity\": 0.0021731388323663705}, {\"id\": 97, \"activity\": 0.0015377460998511135}, {\"id\": 98, \"activity\": 0.0005551426445296793}, {\"id\": 99, \"activity\": 0.0007453784545347714}, {\"id\": 100, \"activity\": 0.004876834457832326}, {\"id\": 101, \"activity\": 0.0007643296192712378}, {\"id\": 102, \"activity\": 0.0003022678778864907}, {\"id\": 104, \"activity\": 0.0012980118402817014}, {\"id\": 105, \"activity\": 0.003167434817009215}, {\"id\": 106, \"activity\": 0.001232881420378394}, {\"id\": 107, \"activity\": 0.0004533520328693499}, {\"id\": 108, \"activity\": 0.0021438436039497334}, {\"id\": 109, \"activity\": 0.0017326717299137216}, {\"id\": 111, \"activity\": 0.002395332494298666}, {\"id\": 112, \"activity\": 0.0007798801521404914}, {\"id\": 113, \"activity\": 0.0011751698814757212}, {\"id\": 114, \"activity\": 0.003144381930465691}, {\"id\": 115, \"activity\": 0.0009157053103627563}, {\"id\": 116, \"activity\": 0.0005984378623419663}, {\"id\": 118, \"activity\": 0.0011911178361012531}, {\"id\": 119, \"activity\": 0.003946924957796995}, {\"id\": 120, \"activity\": 0.002063471900748015}, {\"id\": 121, \"activity\": 0.0009442330640099232}, {\"id\": 122, \"activity\": 0.0024026156417533097}, {\"id\": 123, \"activity\": 0.002527483101515997}, {\"id\": 124, \"activity\": 0.0004240521111907768}, {\"id\": 125, \"activity\": 0.0}, {\"id\": 126, \"activity\": 0.0003426391939260227}, {\"id\": 127, \"activity\": 0.00038550486452876016}, {\"id\": 128, \"activity\": 0.0011787905384222142}, {\"id\": 129, \"activity\": 0.0006196081862081286}, {\"id\": 130, \"activity\": 0.00300786056972807}, {\"id\": 131, \"activity\": 0.0007837620794535095}, {\"id\": 132, \"activity\": 0.0012760819795836376}, {\"id\": 133, \"activity\": 0.0007594713867789019}, {\"id\": 135, \"activity\": 0.0}, {\"id\": 136, \"activity\": 0.002649962342793955}, {\"id\": 137, \"activity\": 0.0020630096876226574}, {\"id\": 138, \"activity\": 0.0004137088930849969}, {\"id\": 139, \"activity\": 0.001955228958760506}, {\"id\": 140, \"activity\": 0.0034170199680613384}, {\"id\": 141, \"activity\": 0.000694293565033119}, {\"id\": 143, \"activity\": 0.0005086847184846419}, {\"id\": 144, \"activity\": 0.002439819330684018}, {\"id\": 145, \"activity\": 0.0007695564956445783}, {\"id\": 146, \"activity\": 0.0016586416881473884}, {\"id\": 147, \"activity\": 0.0009416156759593553}, {\"id\": 148, \"activity\": 0.0029591049186063977}, {\"id\": 149, \"activity\": 0.00362560585949133}, {\"id\": 150, \"activity\": 6.128752839655483e-06}, {\"id\": 151, \"activity\": 0.003746605164118489}, {\"id\": 152, \"activity\": 0.002145186765890139}, {\"id\": 153, \"activity\": 0.00048364669129089677}, {\"id\": 154, \"activity\": 0.00141382033207044}, {\"id\": 155, \"activity\": 0.001589479707505061}, {\"id\": 156, \"activity\": 0.0017500878510531288}, {\"id\": 157, \"activity\": 0.0026247065658329236}, {\"id\": 158, \"activity\": 0.0028444899199172894}, {\"id\": 159, \"activity\": 0.0008795369118325089}, {\"id\": 160, \"activity\": 0.0002688441654015324}, {\"id\": 161, \"activity\": 9.493348555314147e-05}, {\"id\": 163, \"activity\": 0.0007869759052793931}, {\"id\": 164, \"activity\": 0.0010157850873203395}, {\"id\": 165, \"activity\": 0.0004925036383405907}, {\"id\": 166, \"activity\": 0.002563223456622114}, {\"id\": 167, \"activity\": 0.001434671383256212}, {\"id\": 168, \"activity\": 0.0006653305372575462}, {\"id\": 169, \"activity\": 0.0010838148694090935}, {\"id\": 170, \"activity\": 0.0016671167069670031}, {\"id\": 171, \"activity\": 0.00031791433166621677}, {\"id\": 172, \"activity\": 0.003134339627725648}, {\"id\": 173, \"activity\": 0.0016748976651910425}, {\"id\": 174, \"activity\": 0.0015305952149174908}, {\"id\": 175, \"activity\": 0.004844299714304364}, {\"id\": 176, \"activity\": 0.003836930800762172}, {\"id\": 177, \"activity\": 0.00533684392587229}, {\"id\": 178, \"activity\": 0.002224636996572886}, {\"id\": 179, \"activity\": 0.0034233986264753736}, {\"id\": 180, \"activity\": 0.0029968256103856086}, {\"id\": 181, \"activity\": 0.0015941777546583844}, {\"id\": 182, \"activity\": 0.0024018791163810506}, {\"id\": 183, \"activity\": 0.003457311736832231}, {\"id\": 184, \"activity\": 0.0}, {\"id\": 185, \"activity\": 0.0004668038674321878}, {\"id\": 186, \"activity\": 0.0005234157885677977}, {\"id\": 187, \"activity\": 0.0009567885385854852}, {\"id\": 188, \"activity\": 0.0032630439232622698}, {\"id\": 189, \"activity\": 0.0018065060035934114}, {\"id\": 190, \"activity\": 0.0024483763183647807}, {\"id\": 191, \"activity\": 0.0016438230043777356}, {\"id\": 192, \"activity\": 0.0005803226575745018}, {\"id\": 193, \"activity\": 0.0011345866877146827}, {\"id\": 194, \"activity\": 0.0014261755332238206}, {\"id\": 195, \"activity\": 0.002645525696586428}, {\"id\": 196, \"activity\": 0.004308858194772918}, {\"id\": 197, \"activity\": 0.0009889491997427037}, {\"id\": 198, \"activity\": 0.0016257148167371934}, {\"id\": 199, \"activity\": 0.000729347766932595}, {\"id\": 200, \"activity\": 0.0008544413258411588}, {\"id\": 201, \"activity\": 0.0030488078974981597}, {\"id\": 203, \"activity\": 0.00075107897499255}, {\"id\": 204, \"activity\": 0.0005144520613531506}, {\"id\": 205, \"activity\": 0.0014587679704226345}, {\"id\": 206, \"activity\": 0.0016868684498935961}, {\"id\": 207, \"activity\": 0.0020817325281426552}, {\"id\": 208, \"activity\": 0.0018743688338109126}, {\"id\": 209, \"activity\": 0.002127400115564686}, {\"id\": 210, \"activity\": 0.0015225904662302112}, {\"id\": 211, \"activity\": 0.0016183747709399082}, {\"id\": 212, \"activity\": 0.0002879080623723892}, {\"id\": 213, \"activity\": 0.0004649460490623693}, {\"id\": 214, \"activity\": 0.00015468616837095275}, {\"id\": 215, \"activity\": 0.0025805011167189204}, {\"id\": 216, \"activity\": 0.0007785087305493983}, {\"id\": 217, \"activity\": 0.0004541150292321208}, {\"id\": 218, \"activity\": 0.001469790446953607}, {\"id\": 219, \"activity\": 0.0001731029622942814}, {\"id\": 220, \"activity\": 0.0020527666562448724}, {\"id\": 221, \"activity\": 0.004869245861119552}, {\"id\": 222, \"activity\": 0.003446999555580514}, {\"id\": 223, \"activity\": 0.0026677808948799586}, {\"id\": 224, \"activity\": 0.0028813635496713}, {\"id\": 225, \"activity\": 0.001109653808595612}, {\"id\": 226, \"activity\": 0.00023570634908250433}, {\"id\": 227, \"activity\": 0.0009389481667532014}, {\"id\": 228, \"activity\": 0.0008963953217037866}, {\"id\": 229, \"activity\": 0.001578799772344229}, {\"id\": 230, \"activity\": 0.001349237677268939}, {\"id\": 231, \"activity\": 0.0010085693649861348}, {\"id\": 232, \"activity\": 0.0018152073471040726}, {\"id\": 233, \"activity\": 5.326780209946164e-06}, {\"id\": 234, \"activity\": 0.00036957657520835945}, {\"id\": 235, \"activity\": 0.004556274785217722}, {\"id\": 236, \"activity\": 0.0015439491064212281}, {\"id\": 237, \"activity\": 0.0021972430835921182}, {\"id\": 238, \"activity\": 0.0013639864791317492}, {\"id\": 239, \"activity\": 0.0030876402901491855}, {\"id\": 240, \"activity\": 0.0035989318021880175}, {\"id\": 241, \"activity\": 0.00018253455694122497}, {\"id\": 242, \"activity\": 0.001134816455267313}, {\"id\": 243, \"activity\": 0.0025896823973192147}, {\"id\": 244, \"activity\": 0.0016769753092575213}, {\"id\": 245, \"activity\": 1.765586598491483e-06}, {\"id\": 246, \"activity\": 0.002345718877499788}, {\"id\": 247, \"activity\": 0.00038127285577653155}, {\"id\": 248, \"activity\": 0.0009036814777120911}, {\"id\": 249, \"activity\": 0.004789326524564032}, {\"id\": 250, \"activity\": 0.001395780192214627}, {\"id\": 251, \"activity\": 0.0003103345654316766}, {\"id\": 252, \"activity\": 0.00035379448907655865}, {\"id\": 253, \"activity\": 0.0012143036695236723}, {\"id\": 254, \"activity\": 0.002373668430086837}, {\"id\": 255, \"activity\": 0.00023181964574843218}, {\"id\": 256, \"activity\": 0.0007993196623418049}, {\"id\": 257, \"activity\": 0.0020146827551146052}, {\"id\": 258, \"activity\": 0.0004927532501494856}, {\"id\": 259, \"activity\": 0.00237060813687742}, {\"id\": 260, \"activity\": 0.0021664870409461305}, {\"id\": 261, \"activity\": 0.000390407444573534}, {\"id\": 262, \"activity\": 0.004414562264960846}, {\"id\": 263, \"activity\": 0.004545971598053211}, {\"id\": 264, \"activity\": 0.001378349609024823}, {\"id\": 265, \"activity\": 0.001383918719790263}, {\"id\": 266, \"activity\": 0.0009877389907277843}, {\"id\": 267, \"activity\": 0.0021105736275985497}, {\"id\": 268, \"activity\": 0.0031608503585529427}, {\"id\": 269, \"activity\": 0.002360424283263056}, {\"id\": 270, \"activity\": 3.951287280627369e-06}, {\"id\": 271, \"activity\": 0.0007367205515694245}, {\"id\": 272, \"activity\": 0.0026533939429302356}, {\"id\": 273, \"activity\": 0.001987997608675447}, {\"id\": 274, \"activity\": 0.0025568568879480243}, {\"id\": 275, \"activity\": 0.00022481176587001677}, {\"id\": 276, \"activity\": 0.0019072451981389236}, {\"id\": 277, \"activity\": 0.0007195885352805183}, {\"id\": 278, \"activity\": 0.001655866485677976}, {\"id\": 279, \"activity\": 0.0021622251086634487}, {\"id\": 280, \"activity\": 0.0019895820636104027}, {\"id\": 281, \"activity\": 0.002182227743420715}, {\"id\": 282, \"activity\": 0.0017203625691271686}, {\"id\": 283, \"activity\": 0.0025962934848505308}, {\"id\": 284, \"activity\": 0.0003959075990467321}, {\"id\": 285, \"activity\": 0.0015399898493313568}, {\"id\": 286, \"activity\": 0.002379293677306486}, {\"id\": 287, \"activity\": 0.0043532996698527095}, {\"id\": 288, \"activity\": 0.0008141010007300058}, {\"id\": 289, \"activity\": 0.002105067234154002}, {\"id\": 290, \"activity\": 0.0019082193112393698}, {\"id\": 291, \"activity\": 0.0017519006346609256}, {\"id\": 292, \"activity\": 0.0016990662214509923}, {\"id\": 293, \"activity\": 0.00030199583884623406}, {\"id\": 294, \"activity\": 0.0023150518325714886}, {\"id\": 295, \"activity\": 0.0019296348711520094}, {\"id\": 296, \"activity\": 0.0012189236640348915}, {\"id\": 297, \"activity\": 0.0009365613166472684}, {\"id\": 298, \"activity\": 0.0001411017081736253}, {\"id\": 299, \"activity\": 0.000974754622205176}, {\"id\": 300, \"activity\": 0.0035417793085853098}, {\"id\": 301, \"activity\": 0.004226324968672317}, {\"id\": 302, \"activity\": 0.001255355804877504}, {\"id\": 303, \"activity\": 0.0007273480852545865}, {\"id\": 304, \"activity\": 0.0009961271157337465}, {\"id\": 306, \"activity\": 0.002052060992539513}, {\"id\": 307, \"activity\": 0.0007686494587917995}, {\"id\": 308, \"activity\": 0.002658921810306393}, {\"id\": 309, \"activity\": 0.0022747707958893078}, {\"id\": 310, \"activity\": 0.001582370990089867}, {\"id\": 311, \"activity\": 0.001975570847762199}, {\"id\": 312, \"activity\": 4.2721327109404227e-05}, {\"id\": 314, \"activity\": 0.0004183070660614439}, {\"id\": 315, \"activity\": 0.0006275050122414273}, {\"id\": 317, \"activity\": 0.0002171866311913107}, {\"id\": 318, \"activity\": 0.0009360951425910071}, {\"id\": 319, \"activity\": 0.00023125885323962107}, {\"id\": 321, \"activity\": 0.00044622881670190105}, {\"id\": 322, \"activity\": 0.000861096523381453}, {\"id\": 323, \"activity\": 0.0006969316580232998}, {\"id\": 324, \"activity\": 0.0032178806014714944}, {\"id\": 325, \"activity\": 0.0016251618490189456}, {\"id\": 326, \"activity\": 0.0008972707457296259}, {\"id\": 327, \"activity\": 0.0009380764523413366}, {\"id\": 328, \"activity\": 0.0006157209758744817}, {\"id\": 329, \"activity\": 0.0005796945427542111}, {\"id\": 330, \"activity\": 0.002518949036423809}, {\"id\": 331, \"activity\": 0.001404009363565312}, {\"id\": 332, \"activity\": 6.405002315504747e-05}, {\"id\": 334, \"activity\": 0.0013339627044358937}, {\"id\": 335, \"activity\": 0.0017750388143103867}, {\"id\": 336, \"activity\": 0.0013661268606159085}, {\"id\": 337, \"activity\": 5.610157823044126e-05}, {\"id\": 338, \"activity\": 0.001424658172849813}, {\"id\": 339, \"activity\": 0.002011168162379951}, {\"id\": 340, \"activity\": 0.00019077564847496802}, {\"id\": 341, \"activity\": 0.002801721583357446}, {\"id\": 342, \"activity\": 0.002080313753739938}, {\"id\": 343, \"activity\": 0.0019113008241859388}, {\"id\": 344, \"activity\": 0.002332485004201292}, {\"id\": 345, \"activity\": 0.0007104294599401945}, {\"id\": 346, \"activity\": 0.0}, {\"id\": 347, \"activity\": 3.2982010821304337e-06}, {\"id\": 348, \"activity\": 0.001828412437113296}, {\"id\": 349, \"activity\": 0.0013562186004633166}, {\"id\": 350, \"activity\": 0.0008812377756998062}, {\"id\": 351, \"activity\": 0.0015457330399280499}, {\"id\": 352, \"activity\": 0.0012909893616117277}, {\"id\": 353, \"activity\": 0.0012329132380733288}, {\"id\": 354, \"activity\": 0.0010150279116100005}, {\"id\": 355, \"activity\": 0.0013481123292072741}, {\"id\": 356, \"activity\": 0.0010225630907481002}, {\"id\": 357, \"activity\": 0.0020607332900009156}, {\"id\": 358, \"activity\": 0.0035574860685464865}, {\"id\": 359, \"activity\": 0.004415058161140636}, {\"id\": 360, \"activity\": 0.0008208702990546252}, {\"id\": 361, \"activity\": 0.0006826944358467844}, {\"id\": 362, \"activity\": 0.00016592802800192104}, {\"id\": 363, \"activity\": 0.0018341333602464563}, {\"id\": 364, \"activity\": 0.000560847406822484}, {\"id\": 365, \"activity\": 0.0008699565429301906}, {\"id\": 366, \"activity\": 0.001374977155513475}, {\"id\": 367, \"activity\": 0.0006666156613832622}, {\"id\": 368, \"activity\": 0.0023068299401516478}, {\"id\": 369, \"activity\": 0.0007222679813975346}, {\"id\": 370, \"activity\": 0.0012118130531511304}, {\"id\": 371, \"activity\": 0.0024152739976471883}, {\"id\": 372, \"activity\": 0.0032275821439050533}, {\"id\": 373, \"activity\": 0.0041192160300345376}, {\"id\": 374, \"activity\": 0.001213448298469073}, {\"id\": 375, \"activity\": 0.0012453782053605407}, {\"id\": 376, \"activity\": 0.002504728166590209}, {\"id\": 377, \"activity\": 0.00041965956954667205}, {\"id\": 378, \"activity\": 0.0025532096179060114}, {\"id\": 379, \"activity\": 0.0009954050884025203}, {\"id\": 380, \"activity\": 0.0007397365506989024}, {\"id\": 381, \"activity\": 0.0004098582287522839}, {\"id\": 382, \"activity\": 0.0008671390147554232}, {\"id\": 383, \"activity\": 0.004395049472352749}, {\"id\": 384, \"activity\": 0.0014433625601485557}, {\"id\": 385, \"activity\": 0.00017970430925738209}, {\"id\": 386, \"activity\": 0.0032104443221904087}, {\"id\": 387, \"activity\": 2.6148986465284606e-06}, {\"id\": 388, \"activity\": 0.001485807354296732}, {\"id\": 389, \"activity\": 0.0004997336425936879}, {\"id\": 390, \"activity\": 0.0008100068964623613}, {\"id\": 391, \"activity\": 0.0013113916360959015}, {\"id\": 392, \"activity\": 0.00047721380772515265}, {\"id\": 393, \"activity\": 2.6148986465284606e-06}, {\"id\": 394, \"activity\": 0.0032457766475736775}, {\"id\": 395, \"activity\": 0.0011143051251600038}, {\"id\": 396, \"activity\": 0.0012350727674823002}, {\"id\": 397, \"activity\": 0.002711280990722751}, {\"id\": 399, \"activity\": 0.0012495094622670723}, {\"id\": 400, \"activity\": 0.0006381348537768222}, {\"id\": 401, \"activity\": 0.006007630136148681}, {\"id\": 402, \"activity\": 0.0010219017615226893}, {\"id\": 403, \"activity\": 0.0027381140361381687}, {\"id\": 404, \"activity\": 0.001106025979264636}, {\"id\": 405, \"activity\": 0.0018255159630596075}, {\"id\": 406, \"activity\": 0.0006650329954179696}, {\"id\": 407, \"activity\": 0.0011696904841503627}, {\"id\": 408, \"activity\": 0.0022615546062284254}, {\"id\": 409, \"activity\": 0.00019638689955071728}, {\"id\": 410, \"activity\": 1.5668283633537648e-06}, {\"id\": 411, \"activity\": 0.0006538231885347072}, {\"id\": 412, \"activity\": 0.002036412778310582}, {\"id\": 413, \"activity\": 0.0011803128162127458}, {\"id\": 414, \"activity\": 0.001570987211737533}, {\"id\": 415, \"activity\": 0.002212747316874006}, {\"id\": 416, \"activity\": 0.00298236213625789}, {\"id\": 418, \"activity\": 0.0014725411195646077}, {\"id\": 419, \"activity\": 0.001127385999671053}, {\"id\": 420, \"activity\": 9.382418308676912e-05}, {\"id\": 421, \"activity\": 0.0018340980612800357}, {\"id\": 422, \"activity\": 0.003160030698058313}, {\"id\": 423, \"activity\": 0.0017126629853241213}, {\"id\": 424, \"activity\": 0.002220047759222027}, {\"id\": 425, \"activity\": 0.001681124399921295}, {\"id\": 426, \"activity\": 3.93762797290912e-06}, {\"id\": 427, \"activity\": 0.002247269430336861}, {\"id\": 428, \"activity\": 0.0005280521388006718}, {\"id\": 429, \"activity\": 0.0006397029370582511}, {\"id\": 430, \"activity\": 0.00046393642097532597}, {\"id\": 431, \"activity\": 0.0009027489860724123}, {\"id\": 432, \"activity\": 0.0012542642721034738}, {\"id\": 433, \"activity\": 0.0007567528116394998}, {\"id\": 434, \"activity\": 0.0020661815269931395}, {\"id\": 435, \"activity\": 0.001052315871753247}, {\"id\": 436, \"activity\": 0.0010311420441156134}, {\"id\": 437, \"activity\": 0.0005014009866152202}, {\"id\": 438, \"activity\": 0.0020357912953911437}, {\"id\": 439, \"activity\": 0.0011185206906912965}, {\"id\": 440, \"activity\": 0.0011233465422887754}, {\"id\": 441, \"activity\": 0.0014789360255750654}, {\"id\": 442, \"activity\": 0.0006959032397925313}, {\"id\": 443, \"activity\": 0.0019222259509351352}, {\"id\": 444, \"activity\": 0.0010096235531885241}, {\"id\": 445, \"activity\": 0.00017126909065221248}, {\"id\": 446, \"activity\": 0.0007495574901880012}, {\"id\": 448, \"activity\": 0.0038582199022454246}, {\"id\": 449, \"activity\": 0.0025622105497425016}, {\"id\": 450, \"activity\": 0.0005773994075293457}, {\"id\": 451, \"activity\": 0.0003356043206389388}, {\"id\": 452, \"activity\": 0.0014954879949519797}, {\"id\": 453, \"activity\": 0.00014077211958818153}, {\"id\": 454, \"activity\": 0.0009789340409402012}, {\"id\": 455, \"activity\": 0.002647874472240299}, {\"id\": 456, \"activity\": 0.00011506124491517202}, {\"id\": 457, \"activity\": 0.001174172480304448}, {\"id\": 458, \"activity\": 0.001173132671799611}, {\"id\": 459, \"activity\": 0.001147263381588403}, {\"id\": 460, \"activity\": 0.00010826726061491401}, {\"id\": 461, \"activity\": 0.002062130778211487}, {\"id\": 462, \"activity\": 0.0004915148359716694}, {\"id\": 463, \"activity\": 0.0001033019045114759}, {\"id\": 464, \"activity\": 1.589319771137953e-05}, {\"id\": 465, \"activity\": 0.0027073339871154776}, {\"id\": 466, \"activity\": 0.001905720773871461}, {\"id\": 467, \"activity\": 0.0019275353690343757}, {\"id\": 468, \"activity\": 0.00037645879995017786}, {\"id\": 469, \"activity\": 0.0009825474406690094}, {\"id\": 470, \"activity\": 0.0018394594860775785}, {\"id\": 471, \"activity\": 0.001096415241508318}, {\"id\": 472, \"activity\": 0.001820358036499127}, {\"id\": 473, \"activity\": 0.0010470458207249512}, {\"id\": 474, \"activity\": 0.0009937852009725486}, {\"id\": 475, \"activity\": 0.001509467395829168}, {\"id\": 476, \"activity\": 0.005132372180287079}, {\"id\": 477, \"activity\": 0.00023876633251110392}, {\"id\": 478, \"activity\": 0.00024358413640045655}, {\"id\": 479, \"activity\": 0.0012842832427015967}, {\"id\": 480, \"activity\": 0.0010893180851367645}, {\"id\": 481, \"activity\": 0.0012929368063632775}, {\"id\": 482, \"activity\": 0.0012622580186512674}, {\"id\": 483, \"activity\": 0.001213083094249131}, {\"id\": 484, \"activity\": 0.0010455869917997125}, {\"id\": 485, \"activity\": 0.004264449196793323}, {\"id\": 486, \"activity\": 0.0013273335991495338}, {\"id\": 487, \"activity\": 0.0009593317909611286}, {\"id\": 488, \"activity\": 0.001263143518706158}, {\"id\": 489, \"activity\": 0.0012268956446986137}, {\"id\": 490, \"activity\": 0.0003260703846667415}, {\"id\": 491, \"activity\": 0.002161121775695627}, {\"id\": 492, \"activity\": 0.0026052277595377607}, {\"id\": 493, \"activity\": 0.0023331982604387104}, {\"id\": 494, \"activity\": 0.0016909559930225787}, {\"id\": 495, \"activity\": 7.795558731740979e-05}, {\"id\": 496, \"activity\": 0.0001114756624344279}, {\"id\": 497, \"activity\": 5.8708683318706754e-05}, {\"id\": 498, \"activity\": 0.0003563288452842372}, {\"id\": 499, \"activity\": 0.001930810191811856}, {\"id\": 500, \"activity\": 5.771669363984974e-05}, {\"id\": 501, \"activity\": 0.001067197269732372}, {\"id\": 502, \"activity\": 0.0010959312056300964}, {\"id\": 503, \"activity\": 0.0017147797371248657}, {\"id\": 504, \"activity\": 0.0009214312474584851}, {\"id\": 505, \"activity\": 0.0010135015316303086}, {\"id\": 506, \"activity\": 0.0012861302799056823}, {\"id\": 507, \"activity\": 0.002364843580620566}, {\"id\": 508, \"activity\": 0.0013502699353170364}, {\"id\": 509, \"activity\": 0.0019344740044054808}, {\"id\": 510, \"activity\": 0.0005478777462228143}, {\"id\": 512, \"activity\": 0.0029155692101699264}, {\"id\": 513, \"activity\": 0.001536695809517438}, {\"id\": 514, \"activity\": 0.0011494818315136296}, {\"id\": 515, \"activity\": 0.0006655701310934209}, {\"id\": 516, \"activity\": 0.000133413416452526}, {\"id\": 517, \"activity\": 0.00034320609202688723}, {\"id\": 518, \"activity\": 0.0019171950724864782}, {\"id\": 519, \"activity\": 0.001216540557950018}, {\"id\": 520, \"activity\": 0.0029764487590595036}, {\"id\": 521, \"activity\": 0.0017893330168193815}, {\"id\": 522, \"activity\": 0.0014384512373983942}, {\"id\": 523, \"activity\": 0.0015299291571188075}, {\"id\": 524, \"activity\": 0.006443191268552892}, {\"id\": 525, \"activity\": 0.0019787409029244298}, {\"id\": 526, \"activity\": 0.0001306675831318545}, {\"id\": 527, \"activity\": 0.0004048383344603309}, {\"id\": 528, \"activity\": 0.0015933196196760385}, {\"id\": 529, \"activity\": 0.0013316319726173682}, {\"id\": 530, \"activity\": 0.00198416345084413}, {\"id\": 531, \"activity\": 0.0011248030991006291}, {\"id\": 532, \"activity\": 0.0033231611984874607}, {\"id\": 533, \"activity\": 0.0006533228399696067}, {\"id\": 534, \"activity\": 0.0009067434480093462}, {\"id\": 535, \"activity\": 0.0015988734233932827}, {\"id\": 536, \"activity\": 0.0014424911662330345}, {\"id\": 537, \"activity\": 0.0011443002256512087}, {\"id\": 538, \"activity\": 0.0020399416061972894}, {\"id\": 539, \"activity\": 0.001454175349468031}, {\"id\": 540, \"activity\": 0.001138248637977266}, {\"id\": 541, \"activity\": 0.001996759034333223}, {\"id\": 542, \"activity\": 0.003447228253952958}, {\"id\": 543, \"activity\": 0.0014995620685434121}, {\"id\": 544, \"activity\": 0.0010004203852782003}, {\"id\": 545, \"activity\": 0.001439497065307294}, {\"id\": 546, \"activity\": 0.002109083797991019}, {\"id\": 547, \"activity\": 0.0009019089430354962}, {\"id\": 548, \"activity\": 0.00028200722798346725}, {\"id\": 549, \"activity\": 0.0013604696781655222}, {\"id\": 550, \"activity\": 0.0015527186513986193}, {\"id\": 551, \"activity\": 0.001076793332429351}, {\"id\": 552, \"activity\": 0.0008510599562092785}, {\"id\": 553, \"activity\": 0.002768351638979459}, {\"id\": 554, \"activity\": 0.0007424260475392391}, {\"id\": 555, \"activity\": 0.0020167471622321988}, {\"id\": 556, \"activity\": 0.0026939383100018457}, {\"id\": 557, \"activity\": 0.0010156072007761164}, {\"id\": 558, \"activity\": 0.0009424048678391618}, {\"id\": 559, \"activity\": 0.0021409355492828675}, {\"id\": 560, \"activity\": 0.0028579742223149157}, {\"id\": 561, \"activity\": 0.001336983656348611}, {\"id\": 562, \"activity\": 0.00010058902451939648}, {\"id\": 563, \"activity\": 0.0009963384313682183}, {\"id\": 565, \"activity\": 6.995383891548404e-06}, {\"id\": 566, \"activity\": 0.0001120535214023854}, {\"id\": 567, \"activity\": 0.0019197807592521365}, {\"id\": 568, \"activity\": 0.0029745301943585956}, {\"id\": 569, \"activity\": 0.004422882990215387}, {\"id\": 570, \"activity\": 0.00014339954680736856}, {\"id\": 571, \"activity\": 0.001221740220563179}, {\"id\": 572, \"activity\": 0.0015384234002641284}, {\"id\": 573, \"activity\": 5.4711944623737275e-05}, {\"id\": 574, \"activity\": 4.607121132411254e-05}, {\"id\": 575, \"activity\": 0.0017898337415177359}, {\"id\": 576, \"activity\": 0.0011629851884671014}, {\"id\": 577, \"activity\": 0.0004104395651308174}, {\"id\": 578, \"activity\": 0.001955520527361165}, {\"id\": 579, \"activity\": 0.0013588452324961406}, {\"id\": 580, \"activity\": 0.00183337155194002}, {\"id\": 582, \"activity\": 0.001319481986512109}, {\"id\": 583, \"activity\": 0.0011530093369095298}, {\"id\": 584, \"activity\": 0.001152024456035795}, {\"id\": 585, \"activity\": 0.0023507273463833564}, {\"id\": 586, \"activity\": 0.001102014793488556}, {\"id\": 587, \"activity\": 0.002039959532472678}, {\"id\": 588, \"activity\": 0.0017124100136067578}, {\"id\": 589, \"activity\": 0.0007728423930938976}, {\"id\": 590, \"activity\": 0.0001916760660729747}, {\"id\": 591, \"activity\": 0.0005847255541542185}, {\"id\": 592, \"activity\": 0.0003370719062008913}, {\"id\": 593, \"activity\": 0.0009555988669348754}, {\"id\": 595, \"activity\": 0.0006227574046609674}, {\"id\": 596, \"activity\": 0.00027195187943913906}, {\"id\": 597, \"activity\": 0.0004156755088593141}, {\"id\": 598, \"activity\": 0.00313052560773061}, {\"id\": 599, \"activity\": 0.002534408086119195}, {\"id\": 600, \"activity\": 0.0028220717716510428}, {\"id\": 601, \"activity\": 6.38751926173561e-05}, {\"id\": 602, \"activity\": 0.0019089265220356203}, {\"id\": 604, \"activity\": 0.00031176426025464815}, {\"id\": 605, \"activity\": 0.0001157095238540569}, {\"id\": 606, \"activity\": 0.000292186192994898}, {\"id\": 607, \"activity\": 0.0006080279908371907}, {\"id\": 608, \"activity\": 0.0011889088002380657}, {\"id\": 609, \"activity\": 0.0006536453669537678}, {\"id\": 610, \"activity\": 0.0022043313265144517}, {\"id\": 611, \"activity\": 0.0014087748541790329}, {\"id\": 612, \"activity\": 0.0004077373991451662}, {\"id\": 613, \"activity\": 0.0011893592753403207}, {\"id\": 614, \"activity\": 0.0008836647625639593}, {\"id\": 615, \"activity\": 0.0026286925856105346}, {\"id\": 616, \"activity\": 0.0016524576023370726}, {\"id\": 617, \"activity\": 0.0028870265562697278}, {\"id\": 618, \"activity\": 0.0002877541885021948}, {\"id\": 619, \"activity\": 0.0010764141872584656}, {\"id\": 620, \"activity\": 0.0009038745679758325}, {\"id\": 621, \"activity\": 0.0009267572319473325}, {\"id\": 622, \"activity\": 3.531173196982965e-05}, {\"id\": 623, \"activity\": 0.0008613230530084966}, {\"id\": 624, \"activity\": 0.0004899017698959915}, {\"id\": 625, \"activity\": 3.5237542492330654e-05}, {\"id\": 626, \"activity\": 2.4690138758579824e-05}, {\"id\": 627, \"activity\": 0.00013252634304538138}, {\"id\": 628, \"activity\": 0.0002493797121626438}, {\"id\": 629, \"activity\": 4.0552127347323334e-05}, {\"id\": 630, \"activity\": 0.0007161058549624738}, {\"id\": 631, \"activity\": 0.00043464504355684996}, {\"id\": 632, \"activity\": 0.0023761307683357684}, {\"id\": 633, \"activity\": 0.0005257761893248881}, {\"id\": 634, \"activity\": 0.0015476750002082768}, {\"id\": 635, \"activity\": 0.000768879737293}, {\"id\": 636, \"activity\": 0.001290746736563457}, {\"id\": 637, \"activity\": 0.0023219587435548417}, {\"id\": 638, \"activity\": 1.0459594586113842e-05}, {\"id\": 639, \"activity\": 0.00030453997129472433}, {\"id\": 640, \"activity\": 0.0026491012417355865}, {\"id\": 641, \"activity\": 0.00011738220275869815}, {\"id\": 642, \"activity\": 0.0005496604176224987}, {\"id\": 643, \"activity\": 0.0022057919896163766}, {\"id\": 644, \"activity\": 0.002481304604824386}, {\"id\": 645, \"activity\": 0.0005871214913760966}, {\"id\": 646, \"activity\": 0.0007114187193674427}, {\"id\": 647, \"activity\": 0.00023958520406686945}, {\"id\": 648, \"activity\": 0.0013083437985127472}, {\"id\": 649, \"activity\": 0.00024239583346588885}, {\"id\": 650, \"activity\": 0.0010152775352659518}, {\"id\": 651, \"activity\": 0.003042992279135807}, {\"id\": 652, \"activity\": 0.0003102875260800821}, {\"id\": 654, \"activity\": 7.762316115707474e-05}, {\"id\": 655, \"activity\": 0.0008530101073477789}, {\"id\": 656, \"activity\": 0.000977050305987233}, {\"id\": 657, \"activity\": 0.003364134592953458}, {\"id\": 658, \"activity\": 0.0009479133102894332}, {\"id\": 659, \"activity\": 0.002025962903729313}, {\"id\": 660, \"activity\": 0.0006334821462435289}, {\"id\": 661, \"activity\": 0.0016560668956700016}, {\"id\": 662, \"activity\": 0.0017185936319390415}, {\"id\": 663, \"activity\": 0.0020254123939834863}, {\"id\": 664, \"activity\": 0.00133103729705622}, {\"id\": 665, \"activity\": 0.0026087777987278565}, {\"id\": 666, \"activity\": 0.0017672525552828269}, {\"id\": 667, \"activity\": 0.0012889805674508926}, {\"id\": 668, \"activity\": 0.0009558887071236289}, {\"id\": 669, \"activity\": 0.00023502919950667934}, {\"id\": 671, \"activity\": 0.0008634414464719776}, {\"id\": 672, \"activity\": 0.0011166418435131448}, {\"id\": 673, \"activity\": 0.0038701225140258333}, {\"id\": 676, \"activity\": 0.0032041605609714327}, {\"id\": 677, \"activity\": 0.002474050286730692}, {\"id\": 678, \"activity\": 0.000223889437339275}, {\"id\": 680, \"activity\": 0.0002595733589254542}, {\"id\": 681, \"activity\": 0.0001680974203974533}, {\"id\": 682, \"activity\": 0.00423508650111182}, {\"id\": 683, \"activity\": 0.0006206915408141165}, {\"id\": 684, \"activity\": 0.00025103600599073796}, {\"id\": 685, \"activity\": 0.0009083463686773206}, {\"id\": 686, \"activity\": 0.0016590878123403218}, {\"id\": 687, \"activity\": 0.0014121577096426685}, {\"id\": 688, \"activity\": 0.0043560186987140065}, {\"id\": 689, \"activity\": 0.0006322572325175634}, {\"id\": 690, \"activity\": 0.0}, {\"id\": 691, \"activity\": 0.0008817164754973787}, {\"id\": 692, \"activity\": 0.00021890238343693188}, {\"id\": 694, \"activity\": 0.0001720730884084726}, {\"id\": 695, \"activity\": 0.0}, {\"id\": 698, \"activity\": 0.0016607868965900529}, {\"id\": 699, \"activity\": 0.0002974525061519094}, {\"id\": 700, \"activity\": 0.001151787337266773}, {\"id\": 701, \"activity\": 0.0018486752690578534}, {\"id\": 702, \"activity\": 0.002500517320841493}, {\"id\": 703, \"activity\": 0.00040572584133629264}, {\"id\": 704, \"activity\": 0.0001667287123321097}, {\"id\": 705, \"activity\": 0.0}, {\"id\": 707, \"activity\": 2.6542513460611215e-05}, {\"id\": 709, \"activity\": 6.27392544331729e-05}, {\"id\": 710, \"activity\": 3.2982010821304337e-06}, {\"id\": 732, \"activity\": 1.568113046022156e-05}, {\"id\": 812, \"activity\": 0.0006230035426892011}, {\"id\": 845, \"activity\": 0.0}]}}, {\"mode\": \"vega-lite\"});\n",
       "</script>"
      ],
      "text/plain": [
       "alt.Chart(...)"
      ]
     },
     "metadata": {},
     "output_type": "display_data"
    },
    {
     "data": {
      "text/html": [
       "\n",
       "<div id=\"altair-viz-2562fbb66e3247ddbc89f4c9c29f10e9\"></div>\n",
       "<script type=\"text/javascript\">\n",
       "  var VEGA_DEBUG = (typeof VEGA_DEBUG == \"undefined\") ? {} : VEGA_DEBUG;\n",
       "  (function(spec, embedOpt){\n",
       "    let outputDiv = document.currentScript.previousElementSibling;\n",
       "    if (outputDiv.id !== \"altair-viz-2562fbb66e3247ddbc89f4c9c29f10e9\") {\n",
       "      outputDiv = document.getElementById(\"altair-viz-2562fbb66e3247ddbc89f4c9c29f10e9\");\n",
       "    }\n",
       "    const paths = {\n",
       "      \"vega\": \"https://cdn.jsdelivr.net/npm//vega@5?noext\",\n",
       "      \"vega-lib\": \"https://cdn.jsdelivr.net/npm//vega-lib?noext\",\n",
       "      \"vega-lite\": \"https://cdn.jsdelivr.net/npm//vega-lite@4.17.0?noext\",\n",
       "      \"vega-embed\": \"https://cdn.jsdelivr.net/npm//vega-embed@6?noext\",\n",
       "    };\n",
       "\n",
       "    function maybeLoadScript(lib, version) {\n",
       "      var key = `${lib.replace(\"-\", \"\")}_version`;\n",
       "      return (VEGA_DEBUG[key] == version) ?\n",
       "        Promise.resolve(paths[lib]) :\n",
       "        new Promise(function(resolve, reject) {\n",
       "          var s = document.createElement('script');\n",
       "          document.getElementsByTagName(\"head\")[0].appendChild(s);\n",
       "          s.async = true;\n",
       "          s.onload = () => {\n",
       "            VEGA_DEBUG[key] = version;\n",
       "            return resolve(paths[lib]);\n",
       "          };\n",
       "          s.onerror = () => reject(`Error loading script: ${paths[lib]}`);\n",
       "          s.src = paths[lib];\n",
       "        });\n",
       "    }\n",
       "\n",
       "    function showError(err) {\n",
       "      outputDiv.innerHTML = `<div class=\"error\" style=\"color:red;\">${err}</div>`;\n",
       "      throw err;\n",
       "    }\n",
       "\n",
       "    function displayChart(vegaEmbed) {\n",
       "      vegaEmbed(outputDiv, spec, embedOpt)\n",
       "        .catch(err => showError(`Javascript Error: ${err.message}<br>This usually means there's a typo in your chart specification. See the javascript console for the full traceback.`));\n",
       "    }\n",
       "\n",
       "    if(typeof define === \"function\" && define.amd) {\n",
       "      requirejs.config({paths});\n",
       "      require([\"vega-embed\"], displayChart, err => showError(`Error loading script: ${err.message}`));\n",
       "    } else {\n",
       "      maybeLoadScript(\"vega\", \"5\")\n",
       "        .then(() => maybeLoadScript(\"vega-lite\", \"4.17.0\"))\n",
       "        .then(() => maybeLoadScript(\"vega-embed\", \"6\"))\n",
       "        .catch(showError)\n",
       "        .then(() => displayChart(vegaEmbed));\n",
       "    }\n",
       "  })({\"config\": {\"view\": {\"continuousWidth\": 400, \"continuousHeight\": 300}, \"axis\": {\"labelFontSize\": 14, \"titleFontSize\": 20}}, \"data\": {\"name\": \"data-5845be3aa32fc93e3d834f70fef42fcf\"}, \"mark\": {\"type\": \"bar\", \"color\": \"#92c5de\"}, \"encoding\": {\"x\": {\"bin\": {\"extent\": [0, 0.01], \"step\": 0.0005}, \"field\": \"activity\", \"title\": \"Average Activity Potential (Binned)\", \"type\": \"quantitative\"}, \"y\": {\"aggregate\": \"count\", \"field\": \"activity\", \"scale\": {\"domain\": [0, 550]}, \"title\": \"Nodes\", \"type\": \"quantitative\"}}, \"$schema\": \"https://vega.github.io/schema/vega-lite/v4.17.0.json\", \"datasets\": {\"data-5845be3aa32fc93e3d834f70fef42fcf\": [{\"id\": 0, \"activity\": 0.0011023049171991252}, {\"id\": 1, \"activity\": 0.001219110711856429}, {\"id\": 2, \"activity\": 2.8548589699668835e-05}, {\"id\": 3, \"activity\": 0.0005709428563467866}, {\"id\": 4, \"activity\": 0.002755068294005586}, {\"id\": 5, \"activity\": 0.002375609639032495}, {\"id\": 6, \"activity\": 0.001563031044900503}, {\"id\": 7, \"activity\": 6.921373200442968e-05}, {\"id\": 8, \"activity\": 0.0004390513467077984}, {\"id\": 10, \"activity\": 0.00018373126584067157}, {\"id\": 11, \"activity\": 0.004589382559401295}, {\"id\": 12, \"activity\": 0.008576063296413704}, {\"id\": 13, \"activity\": 0.002557928429921651}, {\"id\": 14, \"activity\": 0.0026828727973442377}, {\"id\": 15, \"activity\": 0.001011680532154257}, {\"id\": 16, \"activity\": 0.0051663006853329895}, {\"id\": 17, \"activity\": 0.0}, {\"id\": 18, \"activity\": 0.0}, {\"id\": 19, \"activity\": 0.0005090894656955937}, {\"id\": 20, \"activity\": 0.0012476188587923788}, {\"id\": 21, \"activity\": 0.001069685017008685}, {\"id\": 22, \"activity\": 0.006945708559910409}, {\"id\": 23, \"activity\": 0.004478201626930338}, {\"id\": 24, \"activity\": 0.0}, {\"id\": 25, \"activity\": 0.002563880700351083}, {\"id\": 26, \"activity\": 3.049931890931727e-05}, {\"id\": 27, \"activity\": 0.0007624128090489047}, {\"id\": 28, \"activity\": 0.00014339385484427294}, {\"id\": 29, \"activity\": 0.0}, {\"id\": 30, \"activity\": 0.0}, {\"id\": 31, \"activity\": 0.0002353933752807701}, {\"id\": 32, \"activity\": 5.4924712677778084e-05}, {\"id\": 33, \"activity\": 0.0004790930637096954}, {\"id\": 34, \"activity\": 0.00011069299726118196}, {\"id\": 35, \"activity\": 0.00019602657897899335}, {\"id\": 36, \"activity\": 0.002612790727760196}, {\"id\": 37, \"activity\": 0.0034425989449688435}, {\"id\": 38, \"activity\": 0.0001257114922883851}, {\"id\": 39, \"activity\": 0.0014396537295007419}, {\"id\": 40, \"activity\": 1.2090144114517845e-05}, {\"id\": 41, \"activity\": 0.0018684763286188645}, {\"id\": 42, \"activity\": 0.0004289948281163923}, {\"id\": 43, \"activity\": 0.000144902019141391}, {\"id\": 44, \"activity\": 0.0047714597603881175}, {\"id\": 45, \"activity\": 4.905808477237049e-05}, {\"id\": 46, \"activity\": 0.0017202630603643482}, {\"id\": 47, \"activity\": 0.0027082841562623616}, {\"id\": 48, \"activity\": 0.003684296357698167}, {\"id\": 49, \"activity\": 0.0023791502074069523}, {\"id\": 50, \"activity\": 0.00121165896968726}, {\"id\": 51, \"activity\": 0.0034739277829388846}, {\"id\": 52, \"activity\": 0.013117894288531749}, {\"id\": 53, \"activity\": 0.0009459792401738273}, {\"id\": 54, \"activity\": 0.00037963807103406704}, {\"id\": 55, \"activity\": 0.0020511658257067284}, {\"id\": 56, \"activity\": 0.004289100473792536}, {\"id\": 57, \"activity\": 0.002926190839596486}, {\"id\": 58, \"activity\": 0.0026102567374070517}, {\"id\": 59, \"activity\": 0.0008002857265184094}, {\"id\": 61, \"activity\": 0.0019539744410256156}, {\"id\": 62, \"activity\": 0.008601649141895238}, {\"id\": 63, \"activity\": 0.0012071076105293608}, {\"id\": 64, \"activity\": 0.01112910194549637}, {\"id\": 65, \"activity\": 0.0006414924259886436}, {\"id\": 66, \"activity\": 8.468286418646116e-05}, {\"id\": 67, \"activity\": 1.960169358632586e-05}, {\"id\": 68, \"activity\": 0.0003963618157543391}, {\"id\": 69, \"activity\": 0.01210693119242433}, {\"id\": 70, \"activity\": 0.0017650020520300555}, {\"id\": 71, \"activity\": 0.00067655844065576}, {\"id\": 72, \"activity\": 0.0011548589549507397}, {\"id\": 73, \"activity\": 0.0028992722332476695}, {\"id\": 74, \"activity\": 0.00018230244166046776}, {\"id\": 75, \"activity\": 0.0023562049129005848}, {\"id\": 76, \"activity\": 0.00038748496528395217}, {\"id\": 77, \"activity\": 6.415563012383847e-05}, {\"id\": 78, \"activity\": 0.0015549623047920195}, {\"id\": 79, \"activity\": 0.0014885827098241673}, {\"id\": 80, \"activity\": 0.00025418478832903716}, {\"id\": 81, \"activity\": 0.004218003518839151}, {\"id\": 82, \"activity\": 0.0}, {\"id\": 83, \"activity\": 0.005466342485428569}, {\"id\": 84, \"activity\": 0.0}, {\"id\": 85, \"activity\": 0.0011447723648092354}, {\"id\": 86, \"activity\": 0.00012016970849397357}, {\"id\": 87, \"activity\": 0.0005592198370097518}, {\"id\": 88, \"activity\": 0.0041600074590950374}, {\"id\": 89, \"activity\": 0.0015320030175340184}, {\"id\": 90, \"activity\": 0.004365144890235622}, {\"id\": 91, \"activity\": 0.003344806531547163}, {\"id\": 92, \"activity\": 0.0018774975442335353}, {\"id\": 93, \"activity\": 0.00024042065355444052}, {\"id\": 94, \"activity\": 0.0018784076907957339}, {\"id\": 95, \"activity\": 0.0022724466840386183}, {\"id\": 96, \"activity\": 0.0030727720123847604}, {\"id\": 97, \"activity\": 0.0003463181699733457}, {\"id\": 98, \"activity\": 0.0004180841215198596}, {\"id\": 99, \"activity\": 0.0002655440998724623}, {\"id\": 100, \"activity\": 0.005595062328341169}, {\"id\": 101, \"activity\": 0.00091592698602218}, {\"id\": 102, \"activity\": 0.0005291006472682546}, {\"id\": 104, \"activity\": 0.004000217559020177}, {\"id\": 105, \"activity\": 0.004657727495451769}, {\"id\": 106, \"activity\": 0.0004152932926734636}, {\"id\": 107, \"activity\": 0.00012155546486053877}, {\"id\": 108, \"activity\": 0.00113898669320603}, {\"id\": 109, \"activity\": 0.0012916987026567795}, {\"id\": 111, \"activity\": 0.0019058859032126342}, {\"id\": 112, \"activity\": 1.6830483371482428e-05}, {\"id\": 113, \"activity\": 0.0007988932145475128}, {\"id\": 114, \"activity\": 0.002800054886542894}, {\"id\": 115, \"activity\": 0.00027067579497181397}, {\"id\": 116, \"activity\": 0.0005722410919234295}, {\"id\": 118, \"activity\": 0.0002815304303574381}, {\"id\": 119, \"activity\": 0.004187455038948138}, {\"id\": 120, \"activity\": 8.709911046474274e-05}, {\"id\": 121, \"activity\": 0.00022328664273395623}, {\"id\": 122, \"activity\": 0.002614029890386316}, {\"id\": 123, \"activity\": 0.004629849338492024}, {\"id\": 124, \"activity\": 0.0}, {\"id\": 125, \"activity\": 0.0}, {\"id\": 126, \"activity\": 0.00029990906516024315}, {\"id\": 127, \"activity\": 2.01946766832263e-05}, {\"id\": 128, \"activity\": 0.00277514790333743}, {\"id\": 129, \"activity\": 0.0003295029467056811}, {\"id\": 130, \"activity\": 0.0008642772073931463}, {\"id\": 131, \"activity\": 0.001717439910551337}, {\"id\": 132, \"activity\": 0.0009323277286977916}, {\"id\": 133, \"activity\": 0.00029356060905623703}, {\"id\": 135, \"activity\": 0.0}, {\"id\": 136, \"activity\": 0.00291242596673083}, {\"id\": 137, \"activity\": 0.0027671325456625753}, {\"id\": 138, \"activity\": 0.0001443904728488952}, {\"id\": 139, \"activity\": 0.001316577225716691}, {\"id\": 140, \"activity\": 0.0007751214334083109}, {\"id\": 141, \"activity\": 0.00090597632753973}, {\"id\": 143, \"activity\": 0.0014710709562087523}, {\"id\": 144, \"activity\": 0.004617614931569812}, {\"id\": 145, \"activity\": 0.00012811820131769692}, {\"id\": 146, \"activity\": 0.0008144222550752867}, {\"id\": 147, \"activity\": 0.0007274284624856027}, {\"id\": 148, \"activity\": 0.005804068103570883}, {\"id\": 149, \"activity\": 0.0035082179469459567}, {\"id\": 150, \"activity\": 0.0}, {\"id\": 151, \"activity\": 0.0057843005461653985}, {\"id\": 152, \"activity\": 0.002623057770848901}, {\"id\": 153, \"activity\": 0.0003585873625998459}, {\"id\": 154, \"activity\": 0.0016342373259705585}, {\"id\": 155, \"activity\": 0.00022886580668602066}, {\"id\": 156, \"activity\": 0.0031098053930007363}, {\"id\": 157, \"activity\": 0.0017288456958091051}, {\"id\": 158, \"activity\": 0.0015292944804624557}, {\"id\": 159, \"activity\": 6.844116582315317e-05}, {\"id\": 160, \"activity\": 0.0010462349501673992}, {\"id\": 161, \"activity\": 0.0007142745284177073}, {\"id\": 163, \"activity\": 0.00017161669599463704}, {\"id\": 164, \"activity\": 0.00014547941528695354}, {\"id\": 165, \"activity\": 0.0008163127549364292}, {\"id\": 166, \"activity\": 0.0027452549643559904}, {\"id\": 167, \"activity\": 0.0002144294760480143}, {\"id\": 168, \"activity\": 0.00022596785337133073}, {\"id\": 169, \"activity\": 0.0006434218515049425}, {\"id\": 170, \"activity\": 0.0004794553744722089}, {\"id\": 171, \"activity\": 8.681011390445762e-05}, {\"id\": 172, \"activity\": 0.0015010910774785348}, {\"id\": 173, \"activity\": 0.0012141994113217126}, {\"id\": 174, \"activity\": 0.0006148633380145503}, {\"id\": 175, \"activity\": 0.005111099524837163}, {\"id\": 176, \"activity\": 0.00631660609441683}, {\"id\": 177, \"activity\": 0.0025809996575699113}, {\"id\": 178, \"activity\": 0.0008947619021704089}, {\"id\": 179, \"activity\": 0.00690244486728036}, {\"id\": 180, \"activity\": 0.003850372797658251}, {\"id\": 181, \"activity\": 0.0026541184838554223}, {\"id\": 182, \"activity\": 0.0011124624066261282}, {\"id\": 183, \"activity\": 0.003923039058171735}, {\"id\": 184, \"activity\": 0.0}, {\"id\": 185, \"activity\": 0.00013214410253618568}, {\"id\": 186, \"activity\": 0.0006997904932448324}, {\"id\": 187, \"activity\": 0.000326190848430908}, {\"id\": 188, \"activity\": 0.004396111773332502}, {\"id\": 189, \"activity\": 0.0003928996541632652}, {\"id\": 190, \"activity\": 0.003668676012518253}, {\"id\": 191, \"activity\": 0.001852792386386266}, {\"id\": 192, \"activity\": 0.0}, {\"id\": 193, \"activity\": 0.003116945626141124}, {\"id\": 194, \"activity\": 0.0006769500422174762}, {\"id\": 195, \"activity\": 0.0008662607979356573}, {\"id\": 196, \"activity\": 0.0022754958724489583}, {\"id\": 197, \"activity\": 0.0004566241935648939}, {\"id\": 198, \"activity\": 0.0009507774985447134}, {\"id\": 199, \"activity\": 0.00010864579002404885}, {\"id\": 200, \"activity\": 0.0004118572908926828}, {\"id\": 201, \"activity\": 0.0015222455231605047}, {\"id\": 203, \"activity\": 0.00016808716074387595}, {\"id\": 204, \"activity\": 0.0002618350289452951}, {\"id\": 205, \"activity\": 0.0002414634348601494}, {\"id\": 206, \"activity\": 0.0030802097746954224}, {\"id\": 207, \"activity\": 0.001196907231518383}, {\"id\": 208, \"activity\": 0.0036974060268528636}, {\"id\": 209, \"activity\": 0.000966921262935153}, {\"id\": 210, \"activity\": 0.0026287684203289453}, {\"id\": 211, \"activity\": 0.0005939895951215167}, {\"id\": 212, \"activity\": 0.00020967992736459695}, {\"id\": 213, \"activity\": 0.00010585165381428635}, {\"id\": 214, \"activity\": 0.0}, {\"id\": 215, \"activity\": 0.001369847090296799}, {\"id\": 216, \"activity\": 0.0}, {\"id\": 217, \"activity\": 0.0005936538408810343}, {\"id\": 218, \"activity\": 0.000853820311379181}, {\"id\": 219, \"activity\": 0.0}, {\"id\": 220, \"activity\": 0.004521460198336745}, {\"id\": 221, \"activity\": 0.0063048257044426145}, {\"id\": 222, \"activity\": 0.0012094725080203513}, {\"id\": 223, \"activity\": 0.004460881621968387}, {\"id\": 224, \"activity\": 0.0055428898982422216}, {\"id\": 225, \"activity\": 0.00034234913521287815}, {\"id\": 226, \"activity\": 2.9567954194200043e-05}, {\"id\": 227, \"activity\": 0.0003321166148568932}, {\"id\": 228, \"activity\": 0.0001777860725883853}, {\"id\": 229, \"activity\": 0.002009709561132433}, {\"id\": 230, \"activity\": 0.0006363321961994021}, {\"id\": 231, \"activity\": 0.000278856814180454}, {\"id\": 232, \"activity\": 8.75151487082108e-05}, {\"id\": 233, \"activity\": 0.0}, {\"id\": 234, \"activity\": 0.0}, {\"id\": 235, \"activity\": 0.005052092423515232}, {\"id\": 236, \"activity\": 0.002619942714423575}, {\"id\": 237, \"activity\": 0.0027321269701835764}, {\"id\": 238, \"activity\": 0.00044994283347605184}, {\"id\": 239, \"activity\": 0.0025147872640450633}, {\"id\": 240, \"activity\": 0.009154005327729097}, {\"id\": 241, \"activity\": 0.0001651893363475785}, {\"id\": 242, \"activity\": 0.0005677894820917932}, {\"id\": 243, \"activity\": 0.0008231447464320695}, {\"id\": 244, \"activity\": 0.00027798478959000064}, {\"id\": 245, \"activity\": 0.0}, {\"id\": 246, \"activity\": 0.0006163630784770147}, {\"id\": 247, \"activity\": 5.046534283228961e-05}, {\"id\": 248, \"activity\": 0.00042716459224244536}, {\"id\": 249, \"activity\": 0.004619879616875794}, {\"id\": 250, \"activity\": 0.0014909226736817133}, {\"id\": 251, \"activity\": 1.6352694924123497e-05}, {\"id\": 252, \"activity\": 0.0}, {\"id\": 253, \"activity\": 0.0007924507190081436}, {\"id\": 254, \"activity\": 0.0006540264266908404}, {\"id\": 255, \"activity\": 3.5496427203485823e-05}, {\"id\": 256, \"activity\": 0.0008691185149331267}, {\"id\": 257, \"activity\": 0.002798644312636162}, {\"id\": 258, \"activity\": 0.0001301297664991665}, {\"id\": 259, \"activity\": 0.0022974640108532865}, {\"id\": 260, \"activity\": 0.0007395193446142307}, {\"id\": 261, \"activity\": 6.148197114789058e-05}, {\"id\": 262, \"activity\": 0.011828963660005501}, {\"id\": 263, \"activity\": 0.008649563693552608}, {\"id\": 264, \"activity\": 0.00019333201071003336}, {\"id\": 265, \"activity\": 0.0008016235822140874}, {\"id\": 266, \"activity\": 0.0027057721713041626}, {\"id\": 267, \"activity\": 0.0012410544231606633}, {\"id\": 268, \"activity\": 0.005292595907021215}, {\"id\": 269, \"activity\": 0.0032738640367343344}, {\"id\": 270, \"activity\": 0.0}, {\"id\": 271, \"activity\": 0.00011219369473314496}, {\"id\": 272, \"activity\": 0.0017695077775679903}, {\"id\": 273, \"activity\": 0.001304828733748587}, {\"id\": 274, \"activity\": 0.0015455877595245055}, {\"id\": 275, \"activity\": 0.00025842803769903926}, {\"id\": 276, \"activity\": 0.002239646617450341}, {\"id\": 277, \"activity\": 0.00021474791815695918}, {\"id\": 278, \"activity\": 0.0012569702919479724}, {\"id\": 279, \"activity\": 0.0013902382982845676}, {\"id\": 280, \"activity\": 0.002146565623490692}, {\"id\": 281, \"activity\": 0.0001642189898181515}, {\"id\": 282, \"activity\": 0.0008598560478891095}, {\"id\": 283, \"activity\": 0.0028486961733015766}, {\"id\": 284, \"activity\": 1.0430574098798398e-05}, {\"id\": 285, \"activity\": 0.0017219324970089032}, {\"id\": 286, \"activity\": 0.007352381090424547}, {\"id\": 287, \"activity\": 0.0024299794936711388}, {\"id\": 288, \"activity\": 0.0015655455993808488}, {\"id\": 289, \"activity\": 0.0018093400973222993}, {\"id\": 290, \"activity\": 0.0011390773986033893}, {\"id\": 291, \"activity\": 0.0006909180827804229}, {\"id\": 292, \"activity\": 7.96485685904082e-05}, {\"id\": 293, \"activity\": 0.0}, {\"id\": 294, \"activity\": 0.0017031953749700051}, {\"id\": 295, \"activity\": 0.002213459944089397}, {\"id\": 296, \"activity\": 0.0007613717119553099}, {\"id\": 297, \"activity\": 0.0009211859087066946}, {\"id\": 298, \"activity\": 9.392527788076963e-05}, {\"id\": 299, \"activity\": 0.0006627998540493855}, {\"id\": 300, \"activity\": 0.002223635583515303}, {\"id\": 301, \"activity\": 0.004604316830638143}, {\"id\": 302, \"activity\": 3.5736900506471465e-05}, {\"id\": 303, \"activity\": 0.0001445034157710724}, {\"id\": 304, \"activity\": 9.00571947619186e-05}, {\"id\": 306, \"activity\": 0.003929682353897506}, {\"id\": 307, \"activity\": 0.00019993267012592821}, {\"id\": 308, \"activity\": 0.0006183173006304565}, {\"id\": 309, \"activity\": 3.590938874626818e-05}, {\"id\": 310, \"activity\": 0.0033231949932501807}, {\"id\": 311, \"activity\": 0.004088381594487752}, {\"id\": 312, \"activity\": 0.00023388606215353933}, {\"id\": 314, \"activity\": 9.576101531639826e-05}, {\"id\": 315, \"activity\": 9.381215054973921e-06}, {\"id\": 317, \"activity\": 0.0}, {\"id\": 318, \"activity\": 0.0018099603176513382}, {\"id\": 319, \"activity\": 0.0002873134424402749}, {\"id\": 321, \"activity\": 0.0005861184618173176}, {\"id\": 322, \"activity\": 0.0006174268877775741}, {\"id\": 323, \"activity\": 0.0007004151452413991}, {\"id\": 324, \"activity\": 0.0050051519779836535}, {\"id\": 325, \"activity\": 0.0022227066476889334}, {\"id\": 326, \"activity\": 0.00029858711694228654}, {\"id\": 327, \"activity\": 0.0005393289493845845}, {\"id\": 328, \"activity\": 0.00014082055076082906}, {\"id\": 329, \"activity\": 0.0022702157586692306}, {\"id\": 330, \"activity\": 0.0015744136922274665}, {\"id\": 331, \"activity\": 0.0007032051942880621}, {\"id\": 332, \"activity\": 8.61276986678916e-05}, {\"id\": 334, \"activity\": 0.0007911884465485476}, {\"id\": 335, \"activity\": 0.0019941929933566427}, {\"id\": 336, \"activity\": 0.00035003637646476975}, {\"id\": 337, \"activity\": 0.0}, {\"id\": 338, \"activity\": 0.00023366246399032792}, {\"id\": 339, \"activity\": 0.001076575153988971}, {\"id\": 340, \"activity\": 0.0003710005325425987}, {\"id\": 341, \"activity\": 0.0019859959301860414}, {\"id\": 342, \"activity\": 0.0016302217019125514}, {\"id\": 343, \"activity\": 0.0030792770560577006}, {\"id\": 344, \"activity\": 0.0008482047591543655}, {\"id\": 345, \"activity\": 0.0009764187445438132}, {\"id\": 346, \"activity\": 0.0}, {\"id\": 347, \"activity\": 0.0}, {\"id\": 348, \"activity\": 0.00450997209709881}, {\"id\": 349, \"activity\": 0.00020717918636117588}, {\"id\": 350, \"activity\": 0.00021185648920172084}, {\"id\": 351, \"activity\": 0.0010090225549867183}, {\"id\": 352, \"activity\": 0.0010589684681590872}, {\"id\": 353, \"activity\": 0.00014448755033307406}, {\"id\": 354, \"activity\": 0.0001592255270364945}, {\"id\": 355, \"activity\": 0.0006768135033385851}, {\"id\": 356, \"activity\": 0.00010938213661372777}, {\"id\": 357, \"activity\": 0.001133182137956658}, {\"id\": 358, \"activity\": 0.0028503235281437844}, {\"id\": 359, \"activity\": 0.00713074432172627}, {\"id\": 360, \"activity\": 0.0006504745481283033}, {\"id\": 361, \"activity\": 4.6906075274869604e-06}, {\"id\": 362, \"activity\": 1.5301750520259518e-05}, {\"id\": 363, \"activity\": 0.0023117492553638005}, {\"id\": 364, \"activity\": 0.0005012083999820248}, {\"id\": 365, \"activity\": 0.0003948128709535898}, {\"id\": 366, \"activity\": 0.0009996485895227766}, {\"id\": 367, \"activity\": 0.00013342277420976762}, {\"id\": 368, \"activity\": 0.0013860183729064834}, {\"id\": 369, \"activity\": 0.00016893795343041556}, {\"id\": 370, \"activity\": 0.0016331212653948313}, {\"id\": 371, \"activity\": 0.00251321774145586}, {\"id\": 372, \"activity\": 0.0033095433142898084}, {\"id\": 373, \"activity\": 0.005518113171915817}, {\"id\": 374, \"activity\": 0.0013777984824329703}, {\"id\": 375, \"activity\": 0.002586605162597056}, {\"id\": 376, \"activity\": 0.0027660206030057422}, {\"id\": 377, \"activity\": 0.0003721665359933741}, {\"id\": 378, \"activity\": 0.00227621717793415}, {\"id\": 379, \"activity\": 0.0005518901671784323}, {\"id\": 380, \"activity\": 2.811415773547191e-05}, {\"id\": 381, \"activity\": 0.0002784984176741116}, {\"id\": 382, \"activity\": 0.0006699929964395186}, {\"id\": 383, \"activity\": 0.0024319605169817733}, {\"id\": 384, \"activity\": 0.0001677224932410958}, {\"id\": 385, \"activity\": 0.0005078823338209004}, {\"id\": 386, \"activity\": 0.0019363717774070579}, {\"id\": 387, \"activity\": 0.0}, {\"id\": 388, \"activity\": 0.0002470379354542795}, {\"id\": 389, \"activity\": 0.0}, {\"id\": 390, \"activity\": 0.00026277291608239287}, {\"id\": 391, \"activity\": 0.0006777540279976743}, {\"id\": 392, \"activity\": 5.191029900332226e-05}, {\"id\": 393, \"activity\": 0.0}, {\"id\": 394, \"activity\": 0.0024391490847630944}, {\"id\": 395, \"activity\": 0.0011285669779523854}, {\"id\": 396, \"activity\": 0.0009491152293775388}, {\"id\": 397, \"activity\": 0.003325483961473747}, {\"id\": 399, \"activity\": 0.0}, {\"id\": 400, \"activity\": 0.00023345650605592974}, {\"id\": 401, \"activity\": 0.01049817953082093}, {\"id\": 402, \"activity\": 4.613097712933067e-05}, {\"id\": 403, \"activity\": 0.0029038678047151917}, {\"id\": 404, \"activity\": 0.0002184366960286884}, {\"id\": 405, \"activity\": 0.0011086607230043146}, {\"id\": 406, \"activity\": 4.1626889594125636e-05}, {\"id\": 407, \"activity\": 0.0}, {\"id\": 408, \"activity\": 0.002286946173478265}, {\"id\": 409, \"activity\": 1.2264521193092622e-05}, {\"id\": 410, \"activity\": 0.0}, {\"id\": 411, \"activity\": 0.00019288038411329313}, {\"id\": 412, \"activity\": 0.0010695931008377886}, {\"id\": 413, \"activity\": 0.0005377856217733559}, {\"id\": 414, \"activity\": 0.0004545862023685067}, {\"id\": 415, \"activity\": 0.0023204495212329696}, {\"id\": 416, \"activity\": 0.0009412174203598755}, {\"id\": 418, \"activity\": 0.0009454701616085508}, {\"id\": 419, \"activity\": 0.0019904854438124735}, {\"id\": 420, \"activity\": 6.120700208103807e-05}, {\"id\": 421, \"activity\": 0.001673766943776226}, {\"id\": 422, \"activity\": 0.007074171041745657}, {\"id\": 423, \"activity\": 0.00046844435291184915}, {\"id\": 424, \"activity\": 0.005820546362515692}, {\"id\": 425, \"activity\": 0.0003503095286010147}, {\"id\": 426, \"activity\": 0.0}, {\"id\": 427, \"activity\": 0.0016244859506443926}, {\"id\": 428, \"activity\": 0.0006698834023630369}, {\"id\": 429, \"activity\": 0.0001028326748548498}, {\"id\": 430, \"activity\": 0.00014717425431711148}, {\"id\": 431, \"activity\": 0.0003320595873445776}, {\"id\": 432, \"activity\": 0.0039566182714489}, {\"id\": 433, \"activity\": 0.0005463532720868274}, {\"id\": 434, \"activity\": 0.0017746652128821365}, {\"id\": 435, \"activity\": 5.3618987916753477e-05}, {\"id\": 436, \"activity\": 0.00037329355207211726}, {\"id\": 437, \"activity\": 3.0257481556392563e-05}, {\"id\": 438, \"activity\": 0.001119644537908615}, {\"id\": 439, \"activity\": 0.00014936364691355824}, {\"id\": 440, \"activity\": 0.0012238871501486657}, {\"id\": 441, \"activity\": 0.0012330562917434553}, {\"id\": 442, \"activity\": 4.8962717263224377e-05}, {\"id\": 443, \"activity\": 0.0010362863595807887}, {\"id\": 444, \"activity\": 3.1068560216069174e-05}, {\"id\": 445, \"activity\": 0.00029132830588903013}, {\"id\": 446, \"activity\": 0.0004302546194284986}, {\"id\": 448, \"activity\": 0.007776732833275792}, {\"id\": 449, \"activity\": 0.005011788642934935}, {\"id\": 450, \"activity\": 0.0002132842599698911}, {\"id\": 451, \"activity\": 3.481061948803884e-05}, {\"id\": 452, \"activity\": 0.0027722135374551467}, {\"id\": 453, \"activity\": 4.559270516717325e-05}, {\"id\": 454, \"activity\": 0.0011566924220128537}, {\"id\": 455, \"activity\": 0.002060122135623297}, {\"id\": 456, \"activity\": 2.3453037637434802e-05}, {\"id\": 457, \"activity\": 0.0022143035382455236}, {\"id\": 458, \"activity\": 0.0011390849677365355}, {\"id\": 459, \"activity\": 0.0019536517010029604}, {\"id\": 460, \"activity\": 0.0}, {\"id\": 461, \"activity\": 0.002939495162933622}, {\"id\": 462, \"activity\": 0.0005902546877659341}, {\"id\": 463, \"activity\": 2.6772328121653458e-05}, {\"id\": 464, \"activity\": 0.0}, {\"id\": 465, \"activity\": 0.0015494358814744217}, {\"id\": 466, \"activity\": 0.0007834595149340045}, {\"id\": 467, \"activity\": 0.0005522930590341207}, {\"id\": 468, \"activity\": 0.0002091937238524481}, {\"id\": 469, \"activity\": 0.0}, {\"id\": 470, \"activity\": 0.0014132817947235757}, {\"id\": 471, \"activity\": 0.0010537792609910956}, {\"id\": 472, \"activity\": 0.002545340173037266}, {\"id\": 473, \"activity\": 0.00018873980643186754}, {\"id\": 474, \"activity\": 0.001041187985309447}, {\"id\": 475, \"activity\": 0.0003065641807722348}, {\"id\": 476, \"activity\": 0.012264147873846927}, {\"id\": 477, \"activity\": 0.00026134754841794}, {\"id\": 478, \"activity\": 0.0}, {\"id\": 479, \"activity\": 0.0007772743009805342}, {\"id\": 480, \"activity\": 0.0005926538415376018}, {\"id\": 481, \"activity\": 0.0003232787447334632}, {\"id\": 482, \"activity\": 0.00027232389964254453}, {\"id\": 483, \"activity\": 0.00014742630594672938}, {\"id\": 484, \"activity\": 0.000631707970742131}, {\"id\": 485, \"activity\": 0.0057393604887079714}, {\"id\": 486, \"activity\": 0.0002503885355919126}, {\"id\": 487, \"activity\": 1.5146007512419726e-05}, {\"id\": 488, \"activity\": 0.0016677427532028576}, {\"id\": 489, \"activity\": 0.001072417923088201}, {\"id\": 490, \"activity\": 8.20392560238883e-05}, {\"id\": 491, \"activity\": 0.0037001527534733752}, {\"id\": 492, \"activity\": 0.0032366364554081875}, {\"id\": 493, \"activity\": 0.0024147754508270394}, {\"id\": 494, \"activity\": 0.0011785031222512482}, {\"id\": 495, \"activity\": 0.00015009587975985334}, {\"id\": 496, \"activity\": 0.0}, {\"id\": 497, \"activity\": 0.0}, {\"id\": 498, \"activity\": 4.873094586272285e-05}, {\"id\": 499, \"activity\": 0.0009772106206724217}, {\"id\": 500, \"activity\": 4.316795211235179e-05}, {\"id\": 501, \"activity\": 0.0001508577839159989}, {\"id\": 502, \"activity\": 0.00023419311312506013}, {\"id\": 503, \"activity\": 0.0010108778861795842}, {\"id\": 504, \"activity\": 0.001249980272487997}, {\"id\": 505, \"activity\": 0.0007035150582325949}, {\"id\": 506, \"activity\": 0.0015019661850952455}, {\"id\": 507, \"activity\": 0.001067923039857869}, {\"id\": 508, \"activity\": 0.0009591844367767675}, {\"id\": 509, \"activity\": 0.00028903078925114286}, {\"id\": 510, \"activity\": 0.00033848326246789474}, {\"id\": 512, \"activity\": 0.0032783321027585162}, {\"id\": 513, \"activity\": 0.0014868909373097993}, {\"id\": 514, \"activity\": 0.00034329109260682045}, {\"id\": 515, \"activity\": 0.00012306865378092547}, {\"id\": 516, \"activity\": 0.00010939778985282228}, {\"id\": 517, \"activity\": 0.0001355673958162468}, {\"id\": 518, \"activity\": 0.0007442888945439494}, {\"id\": 519, \"activity\": 0.00020202670540515758}, {\"id\": 520, \"activity\": 0.0013982997375896582}, {\"id\": 521, \"activity\": 0.0040685107279958815}, {\"id\": 522, \"activity\": 0.00036017433840046905}, {\"id\": 523, \"activity\": 0.002000560484796067}, {\"id\": 524, \"activity\": 0.009401874153569858}, {\"id\": 525, \"activity\": 0.006535499555639817}, {\"id\": 526, \"activity\": 0.0}, {\"id\": 527, \"activity\": 5.187791450310901e-05}, {\"id\": 528, \"activity\": 0.001236636768515265}, {\"id\": 529, \"activity\": 0.0023166834811162956}, {\"id\": 530, \"activity\": 0.001630722805964265}, {\"id\": 531, \"activity\": 0.0014444519979025627}, {\"id\": 532, \"activity\": 0.008546374490677699}, {\"id\": 533, \"activity\": 0.00035354336380461957}, {\"id\": 534, \"activity\": 0.00037008561319985524}, {\"id\": 535, \"activity\": 0.002029709445815699}, {\"id\": 536, \"activity\": 0.0003127354883642751}, {\"id\": 537, \"activity\": 0.0006033665792180476}, {\"id\": 538, \"activity\": 0.0019199530775996444}, {\"id\": 539, \"activity\": 0.0006137477433496185}, {\"id\": 540, \"activity\": 0.0008219295744981089}, {\"id\": 541, \"activity\": 0.004246451091415441}, {\"id\": 542, \"activity\": 0.005798129960864981}, {\"id\": 543, \"activity\": 0.0002910865492894496}, {\"id\": 544, \"activity\": 0.0019465610767822224}, {\"id\": 545, \"activity\": 0.0007942464992278215}, {\"id\": 546, \"activity\": 0.004074521971364277}, {\"id\": 547, \"activity\": 0.00032145596326014467}, {\"id\": 548, \"activity\": 0.00019858162168460346}, {\"id\": 549, \"activity\": 0.002843373250701785}, {\"id\": 550, \"activity\": 0.0014402457772706848}, {\"id\": 551, \"activity\": 0.0012187565016759702}, {\"id\": 552, \"activity\": 0.00016566047162442062}, {\"id\": 553, \"activity\": 0.004558630910558806}, {\"id\": 554, \"activity\": 0.00026033292388222604}, {\"id\": 555, \"activity\": 0.00023882235370851853}, {\"id\": 556, \"activity\": 0.0020157576122867373}, {\"id\": 557, \"activity\": 0.001938687446320014}, {\"id\": 558, \"activity\": 0.001764822945784602}, {\"id\": 559, \"activity\": 0.003803847744566605}, {\"id\": 560, \"activity\": 0.005828472206994019}, {\"id\": 561, \"activity\": 0.0007160058716066444}, {\"id\": 562, \"activity\": 0.0}, {\"id\": 563, \"activity\": 0.0006273046952373401}, {\"id\": 565, \"activity\": 0.0}, {\"id\": 566, \"activity\": 5.048669170806575e-06}, {\"id\": 567, \"activity\": 0.001174275286719351}, {\"id\": 568, \"activity\": 0.00575538468598637}, {\"id\": 569, \"activity\": 0.003561743119927294}, {\"id\": 570, \"activity\": 0.0}, {\"id\": 571, \"activity\": 5.3544656243306916e-05}, {\"id\": 572, \"activity\": 0.0022814190433669544}, {\"id\": 573, \"activity\": 3.0603501040519036e-05}, {\"id\": 574, \"activity\": 4.572891896835559e-05}, {\"id\": 575, \"activity\": 0.0022910488688528785}, {\"id\": 576, \"activity\": 1.6352694924123497e-05}, {\"id\": 577, \"activity\": 0.00022164511987420133}, {\"id\": 578, \"activity\": 0.0030276661157410747}, {\"id\": 579, \"activity\": 0.004873377251339017}, {\"id\": 580, \"activity\": 0.0007201160013406558}, {\"id\": 582, \"activity\": 0.0012099172985446406}, {\"id\": 583, \"activity\": 0.0008348645429936711}, {\"id\": 584, \"activity\": 0.0006599230293728404}, {\"id\": 585, \"activity\": 0.0010087314875202398}, {\"id\": 586, \"activity\": 0.0006337817811985225}, {\"id\": 587, \"activity\": 0.0012310485866222217}, {\"id\": 588, \"activity\": 0.0016345804957485423}, {\"id\": 589, \"activity\": 0.0005672642224901371}, {\"id\": 590, \"activity\": 0.0001296487655167246}, {\"id\": 591, \"activity\": 4.955833140243787e-05}, {\"id\": 592, \"activity\": 0.0003554044290005545}, {\"id\": 593, \"activity\": 0.0009589050900323619}, {\"id\": 595, \"activity\": 0.00015634792808141707}, {\"id\": 596, \"activity\": 2.2864459484177794e-05}, {\"id\": 597, \"activity\": 0.00023307162228318983}, {\"id\": 598, \"activity\": 0.005146660216528298}, {\"id\": 599, \"activity\": 0.004652334105899483}, {\"id\": 600, \"activity\": 0.0034748597560798305}, {\"id\": 601, \"activity\": 0.0001264178527132457}, {\"id\": 602, \"activity\": 0.003570161485530389}, {\"id\": 604, \"activity\": 7.394078009072926e-05}, {\"id\": 605, \"activity\": 0.00010456690299103176}, {\"id\": 606, \"activity\": 0.00013674352888836677}, {\"id\": 607, \"activity\": 0.00021679110497502979}, {\"id\": 608, \"activity\": 0.0009538267288509063}, {\"id\": 609, \"activity\": 0.0005448703009518103}, {\"id\": 610, \"activity\": 0.000356839008035833}, {\"id\": 611, \"activity\": 0.000937682032606446}, {\"id\": 612, \"activity\": 3.217503217503217e-05}, {\"id\": 613, \"activity\": 0.0002605002302642623}, {\"id\": 614, \"activity\": 6.548487176630751e-05}, {\"id\": 615, \"activity\": 0.003438794728189789}, {\"id\": 616, \"activity\": 0.0011353481059351582}, {\"id\": 617, \"activity\": 0.001493074156517451}, {\"id\": 618, \"activity\": 0.00034304444364254824}, {\"id\": 619, \"activity\": 0.0006564063107764022}, {\"id\": 620, \"activity\": 0.0028246996569456753}, {\"id\": 621, \"activity\": 0.0009949752165877943}, {\"id\": 622, \"activity\": 0.00029073325988493085}, {\"id\": 623, \"activity\": 0.00010572939225421746}, {\"id\": 624, \"activity\": 0.00022175942593949025}, {\"id\": 625, \"activity\": 4.905808477237049e-05}, {\"id\": 626, \"activity\": 3.1845105407298894e-05}, {\"id\": 627, \"activity\": 0.00019374838543012143}, {\"id\": 628, \"activity\": 0.0005230444483510388}, {\"id\": 629, \"activity\": 5.6042132125706314e-05}, {\"id\": 630, \"activity\": 0.00011018269638938772}, {\"id\": 631, \"activity\": 0.0003111180537623263}, {\"id\": 632, \"activity\": 0.002801796284898452}, {\"id\": 633, \"activity\": 1.4274294849834417e-05}, {\"id\": 634, \"activity\": 0.002063544729592088}, {\"id\": 635, \"activity\": 0.0020214934207816123}, {\"id\": 636, \"activity\": 0.000863053005062745}, {\"id\": 637, \"activity\": 0.0007710349058351566}, {\"id\": 638, \"activity\": 0.0}, {\"id\": 639, \"activity\": 0.0006739209960934906}, {\"id\": 640, \"activity\": 0.0018210248779039061}, {\"id\": 641, \"activity\": 0.0}, {\"id\": 642, \"activity\": 0.0006619237203826087}, {\"id\": 643, \"activity\": 0.001004775463215752}, {\"id\": 644, \"activity\": 0.0016011014643745939}, {\"id\": 645, \"activity\": 0.00011806267255836051}, {\"id\": 646, \"activity\": 0.00011623243618483874}, {\"id\": 647, \"activity\": 3.679356357927787e-05}, {\"id\": 648, \"activity\": 0.0010247962978628517}, {\"id\": 649, \"activity\": 0.00010500957704146867}, {\"id\": 650, \"activity\": 0.00027343553958768935}, {\"id\": 651, \"activity\": 0.007647315337835958}, {\"id\": 652, \"activity\": 0.0005058932922161493}, {\"id\": 654, \"activity\": 0.0001998083275816889}, {\"id\": 655, \"activity\": 0.0018380404811097532}, {\"id\": 656, \"activity\": 0.0008254891370239277}, {\"id\": 657, \"activity\": 0.004117612745267687}, {\"id\": 658, \"activity\": 0.0006843123255916419}, {\"id\": 659, \"activity\": 0.0008665156754042229}, {\"id\": 660, \"activity\": 0.00014585009333729373}, {\"id\": 661, \"activity\": 0.0008955704673019292}, {\"id\": 662, \"activity\": 8.509831611666213e-05}, {\"id\": 663, \"activity\": 0.00011503643817460232}, {\"id\": 664, \"activity\": 0.001625348050091575}, {\"id\": 665, \"activity\": 0.003263906662490011}, {\"id\": 666, \"activity\": 0.002403193618246976}, {\"id\": 667, \"activity\": 0.00021540960978550164}, {\"id\": 668, \"activity\": 0.0005275760101433228}, {\"id\": 669, \"activity\": 0.00012461438186017146}, {\"id\": 671, \"activity\": 0.0013415316976977108}, {\"id\": 672, \"activity\": 0.0005736223379720198}, {\"id\": 673, \"activity\": 0.005204351307570259}, {\"id\": 676, \"activity\": 0.0023467445581953537}, {\"id\": 677, \"activity\": 0.005072381984354561}, {\"id\": 678, \"activity\": 0.00017731975967957275}, {\"id\": 680, \"activity\": 6.120700208103807e-05}, {\"id\": 681, \"activity\": 0.00017578185471829456}, {\"id\": 682, \"activity\": 0.006247621319542199}, {\"id\": 683, \"activity\": 0.0003054208257874816}, {\"id\": 684, \"activity\": 0.00043764686728324867}, {\"id\": 685, \"activity\": 0.00018012243200685413}, {\"id\": 686, \"activity\": 0.0008004166269722118}, {\"id\": 687, \"activity\": 0.0021477234914793757}, {\"id\": 688, \"activity\": 0.0031081857404397276}, {\"id\": 689, \"activity\": 0.0001390252523567069}, {\"id\": 690, \"activity\": 0.0}, {\"id\": 691, \"activity\": 0.000754240939221197}, {\"id\": 692, \"activity\": 7.358712715855574e-05}, {\"id\": 694, \"activity\": 0.0}, {\"id\": 695, \"activity\": 0.0}, {\"id\": 698, \"activity\": 0.0034169437177704455}, {\"id\": 699, \"activity\": 6.435006435006435e-05}, {\"id\": 700, \"activity\": 0.004332392800103793}, {\"id\": 701, \"activity\": 0.0004985054920376189}, {\"id\": 702, \"activity\": 0.0010842934653421152}, {\"id\": 703, \"activity\": 3.106379732743987e-05}, {\"id\": 704, \"activity\": 0.00018125589211847722}, {\"id\": 705, \"activity\": 0.0}, {\"id\": 707, \"activity\": 2.816571861210993e-05}, {\"id\": 709, \"activity\": 0.00016979912656604385}, {\"id\": 710, \"activity\": 0.0}, {\"id\": 732, \"activity\": 2.005142046634257e-05}, {\"id\": 812, \"activity\": 0.0}, {\"id\": 845, \"activity\": 0.0}]}}, {\"mode\": \"vega-lite\"});\n",
       "</script>"
      ],
      "text/plain": [
       "alt.Chart(...)"
      ]
     },
     "metadata": {},
     "output_type": "display_data"
    }
   ],
   "source": [
    "df = pd.read_csv(\"../data/copenhagen_agg.csv\", parse_dates=[\"time\"])\n",
    "a1 = pd.date_range(\n",
    "    start=pd.to_datetime(\"2021-03-12\"), end=pd.to_datetime(\"2021-04-08\"), freq=\"1D\"\n",
    ")\n",
    "a2 = sorted(set(df[\"source\"].to_list()) | set(df[\"destination\"].to_list()))\n",
    "mi = pd.MultiIndex.from_product([a1, a2], names=[\"time\", \"id\"])\n",
    "for frequency in (\"1D\", \"12H\", \"8H\"):\n",
    "    merged = (\n",
    "        pd.merge(\n",
    "            df.rename(columns={\"source\": \"id\"}).groupby([\"time\", \"id\"]).count(),\n",
    "            df.rename(columns={\"destination\": \"id\"}).groupby([\"time\", \"id\"]).count(),\n",
    "            left_index=True,\n",
    "            right_index=True,\n",
    "            how=\"outer\",\n",
    "        )\n",
    "        .fillna(0)\n",
    "        .reset_index()\n",
    "    )\n",
    "    merged[\"activity\"] = merged[\"destination\"] + merged[\"source\"]\n",
    "    dfl = merged.groupby([pd.Grouper(freq=frequency, key=\"time\"), \"id\"])[\n",
    "        \"activity\"\n",
    "    ].sum()\n",
    "    dfl = dfl / dfl.groupby(level=0).sum()\n",
    "    mean = (\n",
    "        pd.merge(\n",
    "            pd.DataFrame([], index=mi),\n",
    "            dfl,\n",
    "            left_index=True,\n",
    "            right_index=True,\n",
    "            how=\"left\",\n",
    "        )\n",
    "        .fillna(0)\n",
    "        .groupby(level=1)[\"activity\"]\n",
    "        .mean()\n",
    "        .reset_index()\n",
    "    )\n",
    "    display(\n",
    "        alt.Chart(mean)\n",
    "        .mark_bar(color=\"#92c5de\")\n",
    "        .encode(\n",
    "            x=alt.X(\n",
    "                \"activity:Q\", bin=alt.Bin(extent=[0, 0.01], step=0.0005), title=\"Average Activity Potential (Binned)\"\n",
    "            ),\n",
    "            y=alt.Y(\"count(activity)\", title=\"Nodes\", scale=alt.Scale(domain=(0, 550))),\n",
    "        )\n",
    "        .configure_axis(labelFontSize=14, titleFontSize=20)\n",
    "    )\n"
   ]
  },
  {
   "cell_type": "code",
   "execution_count": 20,
   "metadata": {},
   "outputs": [
    {
     "data": {
      "text/html": [
       "\n",
       "<div id=\"altair-viz-3be1191032b74fb9922f60b7f7174270\"></div>\n",
       "<script type=\"text/javascript\">\n",
       "  var VEGA_DEBUG = (typeof VEGA_DEBUG == \"undefined\") ? {} : VEGA_DEBUG;\n",
       "  (function(spec, embedOpt){\n",
       "    let outputDiv = document.currentScript.previousElementSibling;\n",
       "    if (outputDiv.id !== \"altair-viz-3be1191032b74fb9922f60b7f7174270\") {\n",
       "      outputDiv = document.getElementById(\"altair-viz-3be1191032b74fb9922f60b7f7174270\");\n",
       "    }\n",
       "    const paths = {\n",
       "      \"vega\": \"https://cdn.jsdelivr.net/npm//vega@5?noext\",\n",
       "      \"vega-lib\": \"https://cdn.jsdelivr.net/npm//vega-lib?noext\",\n",
       "      \"vega-lite\": \"https://cdn.jsdelivr.net/npm//vega-lite@4.17.0?noext\",\n",
       "      \"vega-embed\": \"https://cdn.jsdelivr.net/npm//vega-embed@6?noext\",\n",
       "    };\n",
       "\n",
       "    function maybeLoadScript(lib, version) {\n",
       "      var key = `${lib.replace(\"-\", \"\")}_version`;\n",
       "      return (VEGA_DEBUG[key] == version) ?\n",
       "        Promise.resolve(paths[lib]) :\n",
       "        new Promise(function(resolve, reject) {\n",
       "          var s = document.createElement('script');\n",
       "          document.getElementsByTagName(\"head\")[0].appendChild(s);\n",
       "          s.async = true;\n",
       "          s.onload = () => {\n",
       "            VEGA_DEBUG[key] = version;\n",
       "            return resolve(paths[lib]);\n",
       "          };\n",
       "          s.onerror = () => reject(`Error loading script: ${paths[lib]}`);\n",
       "          s.src = paths[lib];\n",
       "        });\n",
       "    }\n",
       "\n",
       "    function showError(err) {\n",
       "      outputDiv.innerHTML = `<div class=\"error\" style=\"color:red;\">${err}</div>`;\n",
       "      throw err;\n",
       "    }\n",
       "\n",
       "    function displayChart(vegaEmbed) {\n",
       "      vegaEmbed(outputDiv, spec, embedOpt)\n",
       "        .catch(err => showError(`Javascript Error: ${err.message}<br>This usually means there's a typo in your chart specification. See the javascript console for the full traceback.`));\n",
       "    }\n",
       "\n",
       "    if(typeof define === \"function\" && define.amd) {\n",
       "      requirejs.config({paths});\n",
       "      require([\"vega-embed\"], displayChart, err => showError(`Error loading script: ${err.message}`));\n",
       "    } else {\n",
       "      maybeLoadScript(\"vega\", \"5\")\n",
       "        .then(() => maybeLoadScript(\"vega-lite\", \"4.17.0\"))\n",
       "        .then(() => maybeLoadScript(\"vega-embed\", \"6\"))\n",
       "        .catch(showError)\n",
       "        .then(() => displayChart(vegaEmbed));\n",
       "    }\n",
       "  })({\"config\": {\"view\": {\"continuousWidth\": 400, \"continuousHeight\": 300}, \"axis\": {\"labelFontSize\": 14, \"titleFontSize\": 20}}, \"data\": {\"name\": \"data-4ddb33f0bc925540bab33c959d907e59\"}, \"mark\": {\"type\": \"bar\", \"color\": \"#92c5de\"}, \"encoding\": {\"x\": {\"bin\": {\"extent\": [0, 0.006], \"step\": 0.0005}, \"field\": \"activity\", \"title\": \"Activity Potential (Binned)\", \"type\": \"quantitative\"}, \"y\": {\"aggregate\": \"count\", \"field\": \"activity\", \"scale\": {\"domain\": [0, 300]}, \"title\": \"Nodes\", \"type\": \"quantitative\"}}, \"$schema\": \"https://vega.github.io/schema/vega-lite/v4.17.0.json\", \"datasets\": {\"data-4ddb33f0bc925540bab33c959d907e59\": [{\"activity\": 0.0016063648675229425}, {\"activity\": 0.0011892300074835577}, {\"activity\": 0.00030409018252193634}, {\"activity\": 0.001243491452691933}, {\"activity\": 0.0017567142886211488}, {\"activity\": 0.002447417268252759}, {\"activity\": 0.0029787272525847665}, {\"activity\": 0.00019330639855483683}, {\"activity\": 0.0003199164373743791}, {\"activity\": 0.0007641820200179515}, {\"activity\": 0.0007754864877696963}, {\"activity\": 0.0037383874855020202}, {\"activity\": 0.0027379420894726014}, {\"activity\": 0.002370546887540894}, {\"activity\": 0.0019963690049581394}, {\"activity\": 0.0008817484846360979}, {\"activity\": 0.0010332283525094788}, {\"activity\": 0.0014774939351530512}, {\"activity\": 0.0006160934924700941}, {\"activity\": 0.0009009660798140641}, {\"activity\": 0.00028826392766949355}, {\"activity\": 0.0023061114213559484}, {\"activity\": 0.0014356674044715952}, {\"activity\": 5.426144520837525e-05}, {\"activity\": 0.002736811642697427}, {\"activity\": 0.0002328720356859438}, {\"activity\": 0.0015340162739117754}, {\"activity\": 0.000550527579509974}, {\"activity\": 0.00182001930803092}, {\"activity\": 0.0012796657494975165}, {\"activity\": 0.001449232765773689}, {\"activity\": 0.0010230543315329084}, {\"activity\": 0.00021252399373280307}, {\"activity\": 0.0021625446809087887}, {\"activity\": 0.0010309674589591299}, {\"activity\": 0.0013576665769845558}, {\"activity\": 0.0008263565926525481}, {\"activity\": 0.0007042683409337038}, {\"activity\": 0.0014367978512467698}, {\"activity\": 0.003372122730345487}, {\"activity\": 0.0014808852754785746}, {\"activity\": 0.00017748014370239405}, {\"activity\": 0.002352459739138102}, {\"activity\": 0.0005200055165802629}, {\"activity\": 0.0009484448443713925}, {\"activity\": 0.0010207934379825594}, {\"activity\": 0.0037191698903240537}, {\"activity\": 0.0029391616154536594}, {\"activity\": 0.0022348932745199558}, {\"activity\": 0.0014661894674013064}, {\"activity\": 0.004407611976405315}, {\"activity\": 0.001337318535031415}, {\"activity\": 0.0019658469420284286}, {\"activity\": 0.001190360454258732}, {\"activity\": 0.00178723635155086}, {\"activity\": 0.0019217595177966236}, {\"activity\": 0.0028543781073155734}, {\"activity\": 0.0003131337567233322}, {\"activity\": 0.0033314266464392057}, {\"activity\": 0.0015769732513684059}, {\"activity\": 0.0015532338690897416}, {\"activity\": 0.002832899618587258}, {\"activity\": 0.001642539164328526}, {\"activity\": 6.895725328564355e-05}, {\"activity\": 0.0007890518490717901}, {\"activity\": 0.00031200330994815773}, {\"activity\": 0.0029301180412522635}, {\"activity\": 0.0013712319382866496}, {\"activity\": 0.00024304605666251416}, {\"activity\": 0.0032285559898983275}, {\"activity\": 0.001561146996515963}, {\"activity\": 0.0015068855513075878}, {\"activity\": 0.0012152302833125708}, {\"activity\": 0.0011360990090503568}, {\"activity\": 5.652233875872422e-06}, {\"activity\": 0.002260893550348969}, {\"activity\": 0.002159153340583265}, {\"activity\": 0.0009235750153175538}, {\"activity\": 0.0026723761765124815}, {\"activity\": 0.00031200330994815773}, {\"activity\": 0.0019545424742766835}, {\"activity\": 0.0008738353572098765}, {\"activity\": 0.001101055159019948}, {\"activity\": 0.0004046999455124654}, {\"activity\": 0.0008907920588374937}, {\"activity\": 0.003930563437281683}, {\"activity\": 0.00028826392766949355}, {\"activity\": 0.0024541999489038056}, {\"activity\": 0.0014752330416027022}, {\"activity\": 0.0036897782741695173}, {\"activity\": 0.0010976638186944243}, {\"activity\": 0.0023162854423325187}, {\"activity\": 0.0035168199175678212}, {\"activity\": 0.0012186216236380943}, {\"activity\": 0.0015588861029656141}, {\"activity\": 0.0009914018218280228}, {\"activity\": 0.0013045355785513552}, {\"activity\": 0.00531875207719595}, {\"activity\": 0.0006613113634770735}, {\"activity\": 0.000833139273303595}, {\"activity\": 0.0012841875365982144}, {\"activity\": 0.002580809987723348}, {\"activity\": 0.0014661894674013064}, {\"activity\": 0.001098794265469599}, {\"activity\": 0.0014096671286425821}, {\"activity\": 0.0018595849451620268}, {\"activity\": 0.0012988833446754826}, {\"activity\": 0.0006748767247791673}, {\"activity\": 0.0010287065654087809}, {\"activity\": 0.003283947881881877}, {\"activity\": 0.0006692244909032948}, {\"activity\": 0.0008173130184511522}, {\"activity\": 0.0021173268099018094}, {\"activity\": 0.0031742945446899522}, {\"activity\": 0.0017996712660777793}, {\"activity\": 0.0012140998365373964}, {\"activity\": 0.0027899426411306274}, {\"activity\": 0.001493320190005494}, {\"activity\": 0.00038209101000897573}, {\"activity\": 0.00042391754069043166}, {\"activity\": 0.00039565637131106955}, {\"activity\": 0.0009134009943409834}, {\"activity\": 0.0013791450657128711}, {\"activity\": 0.0010320979057343042}, {\"activity\": 0.0026497672410089918}, {\"activity\": 0.00042391754069043166}, {\"activity\": 0.0014661894674013064}, {\"activity\": 0.0014661894674013064}, {\"activity\": 6.782680651046907e-06}, {\"activity\": 0.0030646412074980273}, {\"activity\": 0.002515244074763228}, {\"activity\": 0.00047817898589880693}, {\"activity\": 0.0021715882551101846}, {\"activity\": 0.002902987318648076}, {\"activity\": 0.0004646136245967131}, {\"activity\": 0.00043070022134147857}, {\"activity\": 0.002690463324915273}, {\"activity\": 0.0009088792072402855}, {\"activity\": 0.001353144789883858}, {\"activity\": 0.0011100987332213438}, {\"activity\": 0.0025265485425149726}, {\"activity\": 0.003684126040293645}, {\"activity\": 7.913127426221391e-06}, {\"activity\": 0.00301490154939035}, {\"activity\": 0.0028837697234701098}, {\"activity\": 0.0005493971327347995}, {\"activity\": 0.0025661141796460797}, {\"activity\": 0.0019081941564945298}, {\"activity\": 0.001449232765773689}, {\"activity\": 0.002812551576634117}, {\"activity\": 0.003035249591343491}, {\"activity\": 0.002091326534072796}, {\"activity\": 0.00012661003881954226}, {\"activity\": 0.00011756646461814638}, {\"activity\": 0.0014435805318978167}, {\"activity\": 0.0017001919498624246}, {\"activity\": 0.0007483557651655087}, {\"activity\": 0.002545766137692939}, {\"activity\": 0.0020935874276231453}, {\"activity\": 0.0011960126881346046}, {\"activity\": 0.0010739244364157603}, {\"activity\": 0.0022156756793419896}, {\"activity\": 0.0005742669617886381}, {\"activity\": 0.0027820295137044064}, {\"activity\": 0.0021919362970633256}, {\"activity\": 0.0018912374548669124}, {\"activity\": 0.004286654171461645}, {\"activity\": 0.0038796933323988307}, {\"activity\": 0.004057173476101225}, {\"activity\": 0.0020314128549885485}, {\"activity\": 0.0021851536164122784}, {\"activity\": 0.0031392506946595435}, {\"activity\": 0.0015328858271366009}, {\"activity\": 0.001719409545040391}, {\"activity\": 0.0023648946536650216}, {\"activity\": 1.1304467751744845e-06}, {\"activity\": 0.0010343587992846532}, {\"activity\": 0.0008365306136291185}, {\"activity\": 0.0007076596812592272}, {\"activity\": 0.0023061114213559484}, {\"activity\": 0.0016018430804222445}, {\"activity\": 0.002914291786399821}, {\"activity\": 0.0013994931076660117}, {\"activity\": 0.0015848863787946272}, {\"activity\": 0.001451493659324038}, {\"activity\": 0.0010230543315329084}, {\"activity\": 0.003360818262593742}, {\"activity\": 0.003159598736612684}, {\"activity\": 0.0021229790437776817}, {\"activity\": 0.002307241868131123}, {\"activity\": 0.000660180916701899}, {\"activity\": 0.0008817484846360979}, {\"activity\": 0.0027808990669292316}, {\"activity\": 0.0015622774432911375}, {\"activity\": 0.0007121814683599252}, {\"activity\": 0.0018211497548060946}, {\"activity\": 0.0012265347510643156}, {\"activity\": 0.003428645069104211}, {\"activity\": 0.0024372432472761886}, {\"activity\": 0.001521581359384856}, {\"activity\": 0.0012593177075443758}, {\"activity\": 0.0013678405979611263}, {\"activity\": 0.00022269801470937344}, {\"activity\": 0.00038096056323380124}, {\"activity\": 0.00028713348089431907}, {\"activity\": 0.002457591289229329}, {\"activity\": 0.0013655797044107773}, {\"activity\": 0.0011304467751744845}, {\"activity\": 0.00141418891574328}, {\"activity\": 0.00017634969692721956}, {\"activity\": 0.0014673199141764807}, {\"activity\": 0.0032907305625329243}, {\"activity\": 0.002562722839320556}, {\"activity\": 0.0014526241060992125}, {\"activity\": 0.0019782818565553476}, {\"activity\": 0.002034804195314072}, {\"activity\": 0.00037191698903240537}, {\"activity\": 0.001714887757939693}, {\"activity\": 0.0014006235544411863}, {\"activity\": 0.001602973527197419}, {\"activity\": 0.001449232765773689}, {\"activity\": 0.0016414087175533514}, {\"activity\": 0.0013825364060383945}, {\"activity\": 0.0007313990635378914}, {\"activity\": 0.0003481776067537412}, {\"activity\": 0.0038401276952677236}, {\"activity\": 0.001056967734788143}, {\"activity\": 0.0023954167165947324}, {\"activity\": 0.0020314128549885485}, {\"activity\": 0.0019782818565553476}, {\"activity\": 0.0020856743001969238}, {\"activity\": 0.00013000137914506572}, {\"activity\": 0.0017250617789162633}, {\"activity\": 0.003731604804850973}, {\"activity\": 0.0025661141796460797}, {\"activity\": 6.104412585942216e-05}, {\"activity\": 0.001855063158061329}, {\"activity\": 0.0006138325989197451}, {\"activity\": 0.001197143134909779}, {\"activity\": 0.0028295082782617345}, {\"activity\": 0.0014967115303310173}, {\"activity\": 0.0009213141217672048}, {\"activity\": 0.0005787887488893361}, {\"activity\": 0.0007144423619102741}, {\"activity\": 0.0031822076721161737}, {\"activity\": 0.0002780899066929232}, {\"activity\": 0.0007596602329172535}, {\"activity\": 0.0017691492031480683}, {\"activity\": 0.0005053097085029946}, {\"activity\": 0.0013621883640852538}, {\"activity\": 0.0016741916740334116}, {\"activity\": 0.0007065292344840527}, {\"activity\": 0.003245512691525945}, {\"activity\": 0.003251164925401817}, {\"activity\": 0.002120718150227333}, {\"activity\": 0.0011259249880737866}, {\"activity\": 0.001411928022192931}, {\"activity\": 0.0022247192535433855}, {\"activity\": 0.0024598521827796783}, {\"activity\": 0.0017533229482956255}, {\"activity\": 2.034804195314072e-05}, {\"activity\": 0.0009167923346665069}, {\"activity\": 0.002944813849329532}, {\"activity\": 0.0020935874276231453}, {\"activity\": 0.002414634311772699}, {\"activity\": 0.0008602699959077827}, {\"activity\": 0.0020415868759651188}, {\"activity\": 0.0008410524007298164}, {\"activity\": 0.0026542890281096897}, {\"activity\": 0.0018765416467896442}, {\"activity\": 0.002572896860297127}, {\"activity\": 0.0017250617789162633}, {\"activity\": 0.0029391616154536594}, {\"activity\": 0.003029597357467618}, {\"activity\": 0.0007800082748703942}, {\"activity\": 0.0013587970237597304}, {\"activity\": 0.0019918472178574414}, {\"activity\": 0.0030612498671725038}, {\"activity\": 0.0012774048559471675}, {\"activity\": 0.0017465402676445786}, {\"activity\": 0.001714887757939693}, {\"activity\": 0.0019782818565553476}, {\"activity\": 0.0025988971361261396}, {\"activity\": 0.00023513292923629277}, {\"activity\": 0.0017465402676445786}, {\"activity\": 0.0008139216781256288}, {\"activity\": 0.0010999247122447733}, {\"activity\": 0.001175664646181464}, {\"activity\": 0.00016391478240030026}, {\"activity\": 0.0018166279677053966}, {\"activity\": 0.001668539440157539}, {\"activity\": 0.0026135929442034083}, {\"activity\": 0.0014390587447971187}, {\"activity\": 0.0006895725328564356}, {\"activity\": 0.0014435805318978167}, {\"activity\": 0.0027673337056271377}, {\"activity\": 0.0007788778280952198}, {\"activity\": 0.002722115834620159}, {\"activity\": 0.0033449920077412995}, {\"activity\": 0.0010592286283384919}, {\"activity\": 0.0035518637675982304}, {\"activity\": 5.313099843320077e-05}, {\"activity\": 0.00048496166654985384}, {\"activity\": 0.0010614895218888408}, {\"activity\": 0.0008896616120623193}, {\"activity\": 0.0012208825171884433}, {\"activity\": 0.0006703549376784693}, {\"activity\": 0.0002713072260418763}, {\"activity\": 0.000868183123334004}, {\"activity\": 0.000835400166853944}, {\"activity\": 0.0028204647040603386}, {\"activity\": 0.002895074191221855}, {\"activity\": 0.0008455741878305144}, {\"activity\": 0.0013847972995887435}, {\"activity\": 0.000760790679692428}, {\"activity\": 0.0003979172648614185}, {\"activity\": 0.0024281996730747928}, {\"activity\": 0.0022428064019461773}, {\"activity\": 5.652233875872422e-05}, {\"activity\": 0.0023061114213559484}, {\"activity\": 0.0011519252639027996}, {\"activity\": 0.0020121952598105824}, {\"activity\": 0.00012208825171884432}, {\"activity\": 0.0016120171013988148}, {\"activity\": 0.002240545508395828}, {\"activity\": 0.0004420046890932234}, {\"activity\": 0.0021263703841032052}, {\"activity\": 0.0016097562078484658}, {\"activity\": 0.0009540970782472649}, {\"activity\": 0.003381166304546883}, {\"activity\": 0.0008794875910857489}, {\"activity\": 1.1304467751744845e-06}, {\"activity\": 1.4695808077268298e-05}, {\"activity\": 0.0018663676258130737}, {\"activity\": 0.0016583654191809688}, {\"activity\": 0.0014221020431695014}, {\"activity\": 0.0010603590751136665}, {\"activity\": 0.0010682722025398877}, {\"activity\": 0.0019986298985084886}, {\"activity\": 0.001197143134909779}, {\"activity\": 0.0011428816897014037}, {\"activity\": 0.0013802755124880455}, {\"activity\": 0.0013056660253265295}, {\"activity\": 0.002078891619545877}, {\"activity\": 0.0034105579207014194}, {\"activity\": 0.0008523568684815613}, {\"activity\": 0.0009676624395493587}, {\"activity\": 0.0004804398794491559}, {\"activity\": 0.0020008907920588373}, {\"activity\": 0.0011236640945234376}, {\"activity\": 0.0007890518490717901}, {\"activity\": 0.001309057365652053}, {\"activity\": 0.0009507057379217414}, {\"activity\": 0.002008803919485059}, {\"activity\": 0.0005166141762547394}, {\"activity\": 0.00046800496492223657}, {\"activity\": 0.002092456980847971}, {\"activity\": 0.002451939055353457}, {\"activity\": 0.003889867353375401}, {\"activity\": 0.001269491728520946}, {\"activity\": 0.0010253152250832573}, {\"activity\": 0.001817758414480571}, {\"activity\": 0.00026565499216600386}, {\"activity\": 0.004004042477668024}, {\"activity\": 0.0011451425832517527}, {\"activity\": 0.0010637504154391898}, {\"activity\": 0.0002769594599177487}, {\"activity\": 0.0009224445685423793}, {\"activity\": 0.0038469103759187708}, {\"activity\": 0.0014967115303310173}, {\"activity\": 0.0002713072260418763}, {\"activity\": 0.0031189026527064026}, {\"activity\": 2.260893550348969e-06}, {\"activity\": 0.002221327913217862}, {\"activity\": 0.0007788778280952198}, {\"activity\": 0.0007845300619710922}, {\"activity\": 0.0009563579717976139}, {\"activity\": 0.0004205262003649082}, {\"activity\": 4.521787100697938e-06}, {\"activity\": 0.00281820381050999}, {\"activity\": 0.0015294944868110775}, {\"activity\": 0.0013994931076660117}, {\"activity\": 0.002574027307072301}, {\"activity\": 0.0024044602907961283}, {\"activity\": 0.0006104412585942216}, {\"activity\": 0.0034060361336007215}, {\"activity\": 0.0013746232786121732}, {\"activity\": 0.0028735957024935395}, {\"activity\": 0.0007992258700483605}, {\"activity\": 0.0023931558230443836}, {\"activity\": 0.00094279261049552}, {\"activity\": 0.0020992396614990176}, {\"activity\": 0.0018595849451620268}, {\"activity\": 0.00042504798746560615}, {\"activity\": 4.521787100697938e-06}, {\"activity\": 0.0006375719811984093}, {\"activity\": 0.0026893328781400984}, {\"activity\": 0.0015521034223145672}, {\"activity\": 0.001012880310556338}, {\"activity\": 0.0026000275829013144}, {\"activity\": 0.0031234244398071005}, {\"activity\": 0.0017160182047148674}, {\"activity\": 0.0005516580262851484}, {\"activity\": 0.00021365444050797756}, {\"activity\": 0.0015102768916331112}, {\"activity\": 0.002713072260418763}, {\"activity\": 0.0026000275829013144}, {\"activity\": 0.002545766137692939}, {\"activity\": 0.0017533229482956255}, {\"activity\": 1.2434914526919329e-05}, {\"activity\": 0.0028193342572851643}, {\"activity\": 0.0005211359633554374}, {\"activity\": 0.0006680940441281204}, {\"activity\": 0.00047817898589880693}, {\"activity\": 0.0008387915071794675}, {\"activity\": 0.0012197520704132687}, {\"activity\": 0.0010027062895797676}, {\"activity\": 0.0014639285738509574}, {\"activity\": 0.0019183681774711}, {\"activity\": 0.0015306249335862519}, {\"activity\": 0.0014006235544411863}, {\"activity\": 0.002380720908517464}, {\"activity\": 0.002130892171203903}, {\"activity\": 0.0005991367908424768}, {\"activity\": 0.0027616814717512654}, {\"activity\": 0.0004985270278519477}, {\"activity\": 0.001565668783616661}, {\"activity\": 0.0009812278008514525}, {\"activity\": 0.00013000137914506572}, {\"activity\": 0.0005471362391844505}, {\"activity\": 0.003341600667415776}, {\"activity\": 0.0021941971906136743}, {\"activity\": 0.0007336599570882404}, {\"activity\": 0.00029730750187088943}, {\"activity\": 0.0015407989545628224}, {\"activity\": 0.0009269663556430773}, {\"activity\": 0.0008840093781864468}, {\"activity\": 0.002639593220032421}, {\"activity\": 0.00035722118095513707}, {\"activity\": 0.0012887093236989124}, {\"activity\": 0.0009755755669755801}, {\"activity\": 0.0010727939896405857}, {\"activity\": 9.38270823394822e-05}, {\"activity\": 0.002113935469576286}, {\"activity\": 0.0010739244364157603}, {\"activity\": 8.02617210373884e-05}, {\"activity\": 3.278295648006005e-05}, {\"activity\": 0.003222903756022455}, {\"activity\": 0.001962455601702905}, {\"activity\": 0.003283947881881877}, {\"activity\": 0.00044765692296909584}, {\"activity\": 0.0013881886399142668}, {\"activity\": 0.0021275008308783796}, {\"activity\": 0.0006353110876480603}, {\"activity\": 0.0015057551045324132}, {\"activity\": 0.001264969941420248}, {\"activity\": 0.0016414087175533514}, {\"activity\": 0.0012502741333429799}, {\"activity\": 0.0047117021589272515}, {\"activity\": 0.00028261169379362113}, {\"activity\": 0.0009925322686031974}, {\"activity\": 0.0011880995607083831}, {\"activity\": 0.0010648808622143644}, {\"activity\": 0.0018335846693330138}, {\"activity\": 0.0011315772219496589}, {\"activity\": 0.0020268910678878506}, {\"activity\": 0.0008478350813808633}, {\"activity\": 0.0027831599604795807}, {\"activity\": 0.0010716635428654113}, {\"activity\": 0.0008760962507602254}, {\"activity\": 0.001127055434848961}, {\"activity\": 0.0010287065654087809}, {\"activity\": 0.0006353110876480603}, {\"activity\": 0.0017442793740942296}, {\"activity\": 0.001957933814602207}, {\"activity\": 0.0023400248246111827}, {\"activity\": 0.0018381064564337117}, {\"activity\": 0.00012887093236989123}, {\"activity\": 7.121814683599252e-05}, {\"activity\": 0.00037191698903240537}, {\"activity\": 0.0006918334264067844}, {\"activity\": 0.0012536654736685032}, {\"activity\": 0.00025095918408873556}, {\"activity\": 0.0010083585234556402}, {\"activity\": 0.0010671417557647134}, {\"activity\": 0.0016176693352746873}, {\"activity\": 0.0006873116393060866}, {\"activity\": 0.0023648946536650216}, {\"activity\": 0.0017702796499232426}, {\"activity\": 0.002125239937328031}, {\"activity\": 0.0015475816352138693}, {\"activity\": 0.002129761724428729}, {\"activity\": 0.00047026585847258554}, {\"activity\": 0.003094032823652564}, {\"activity\": 0.0013949713205653137}, {\"activity\": 0.0021195877034521585}, {\"activity\": 0.0008919225056126682}, {\"activity\": 0.00011530557106779741}, {\"activity\": 0.0003911345842103716}, {\"activity\": 0.0014695808077268297}, {\"activity\": 0.0013847972995887435}, {\"activity\": 0.002655419474884864}, {\"activity\": 0.0014051453415418842}, {\"activity\": 0.0025977666893509653}, {\"activity\": 0.0012129693897622218}, {\"activity\": 0.003288469668982575}, {\"activity\": 0.001635756483677479}, {\"activity\": 0.00021591533405832653}, {\"activity\": 0.0006138325989197451}, {\"activity\": 0.002823856044385862}, {\"activity\": 0.0007969649764980115}, {\"activity\": 0.0013972322141156627}, {\"activity\": 0.001019662991207385}, {\"activity\": 0.0021263703841032052}, {\"activity\": 0.0004940052407512497}, {\"activity\": 0.0012321869849401881}, {\"activity\": 0.0019590642613773815}, {\"activity\": 0.0015102768916331112}, {\"activity\": 0.000982358247626627}, {\"activity\": 0.0019375857726490664}, {\"activity\": 0.0014718417012771787}, {\"activity\": 0.0016018430804222445}, {\"activity\": 0.0019443684533001133}, {\"activity\": 0.0014831461690289235}, {\"activity\": 0.0016866265885603308}, {\"activity\": 0.001047924160586747}, {\"activity\": 0.0025175049683135767}, {\"activity\": 0.0016968006095369012}, {\"activity\": 0.002186284063187453}, {\"activity\": 0.000361742968055835}, {\"activity\": 0.0012536654736685032}, {\"activity\": 0.001197143134909779}, {\"activity\": 0.0012287956446146646}, {\"activity\": 0.0010852289041675051}, {\"activity\": 0.003611777446682478}, {\"activity\": 0.0009032269733644131}, {\"activity\": 0.002914291786399821}, {\"activity\": 0.002423677885974095}, {\"activity\": 0.0008308783797532461}, {\"activity\": 0.0007359208506385893}, {\"activity\": 0.002158022893808091}, {\"activity\": 0.004018738285745292}, {\"activity\": 0.001197143134909779}, {\"activity\": 0.0002769594599177487}, {\"activity\": 0.0017284531192417868}, {\"activity\": 0.00026565499216600386}, {\"activity\": 0.00015939299529960232}, {\"activity\": 0.0017612360757218468}, {\"activity\": 0.00247793933118247}, {\"activity\": 0.0033156003915867627}, {\"activity\": 0.0005844409827652085}, {\"activity\": 0.0009710537798748822}, {\"activity\": 0.001350883896333509}, {\"activity\": 8.252261458773737e-05}, {\"activity\": 5.652233875872422e-05}, {\"activity\": 0.0015735819110428823}, {\"activity\": 0.0013802755124880455}, {\"activity\": 0.0003606125212806605}, {\"activity\": 0.0016199302288250363}, {\"activity\": 0.0006658331505777714}, {\"activity\": 0.0024835915650583424}, {\"activity\": 0.001318100939853449}, {\"activity\": 0.0013158400463031}, {\"activity\": 0.001337318535031415}, {\"activity\": 0.002640723666807596}, {\"activity\": 0.0008421828475049909}, {\"activity\": 0.0017397575869935317}, {\"activity\": 0.001245752346242282}, {\"activity\": 0.0011541861574531486}, {\"activity\": 0.00023852426956181622}, {\"activity\": 0.0009337490362941242}, {\"activity\": 0.00025887231151495695}, {\"activity\": 0.0007709647006689984}, {\"activity\": 0.0012627090478698991}, {\"activity\": 0.0004295697745663041}, {\"activity\": 0.0007223554893364955}, {\"activity\": 0.0033235135190129842}, {\"activity\": 0.001796279925752256}, {\"activity\": 0.001563407890066312}, {\"activity\": 6.55659129601201e-05}, {\"activity\": 0.0006850507457557376}, {\"activity\": 0.00037983011645862676}, {\"activity\": 0.0001966977388803603}, {\"activity\": 0.0003233077776999026}, {\"activity\": 0.000947314397596218}, {\"activity\": 0.000833139273303595}, {\"activity\": 0.0004940052407512497}, {\"activity\": 0.0021388052986301247}, {\"activity\": 0.001339579428581764}, {\"activity\": 0.0009552275250224394}, {\"activity\": 0.0017205399918155653}, {\"activity\": 0.0010185325444322104}, {\"activity\": 0.0023095027616814715}, {\"activity\": 0.0013667101511859517}, {\"activity\": 0.00220324076481507}, {\"activity\": 4.408742423180489e-05}, {\"activity\": 0.0012796657494975165}, {\"activity\": 0.0006285284069970134}, {\"activity\": 0.0010908811380433774}, {\"activity\": 2.7130722604187627e-05}, {\"activity\": 0.0004567004971704917}, {\"activity\": 0.0006669635973529459}, {\"activity\": 5.2000551658026284e-05}, {\"activity\": 1.5826254852442783e-05}, {\"activity\": 0.0017748014370239406}, {\"activity\": 0.0003233077776999026}, {\"activity\": 5.652233875872422e-06}, {\"activity\": 0.0012909702172492613}, {\"activity\": 0.0005098314956036925}, {\"activity\": 0.002111674576025937}, {\"activity\": 0.001021923884757734}, {\"activity\": 0.0018652371790378994}, {\"activity\": 0.00038887369066002264}, {\"activity\": 0.0013350576414810661}, {\"activity\": 0.0014017540012163606}, {\"activity\": 4.521787100697938e-06}, {\"activity\": 0.0005154837294795649}, {\"activity\": 0.002438373694051363}, {\"activity\": 0.00021252399373280307}, {\"activity\": 0.0007223554893364955}, {\"activity\": 0.0022055016583654194}, {\"activity\": 0.002151240213157044}, {\"activity\": 0.0009676624395493587}, {\"activity\": 0.0011824473268325108}, {\"activity\": 0.0006093108118190472}, {\"activity\": 0.0017182790982652164}, {\"activity\": 0.0006613113634770735}, {\"activity\": 0.0014028844479915352}, {\"activity\": 0.0016255824627009086}, {\"activity\": 0.00031200330994815773}, {\"activity\": 0.00025208963086391004}, {\"activity\": 0.0006974856602826569}, {\"activity\": 0.0007087901280344017}, {\"activity\": 0.0024881133521590403}, {\"activity\": 0.0004804398794491559}, {\"activity\": 0.0033156003915867627}, {\"activity\": 0.00044878736974427033}, {\"activity\": 0.0016877570353355054}, {\"activity\": 0.0015848863787946272}, {\"activity\": 0.002699506899116669}, {\"activity\": 0.0012220129639636177}, {\"activity\": 0.003360818262593742}, {\"activity\": 0.002337763931060834}, {\"activity\": 0.0015374076142372988}, {\"activity\": 0.001517059572284158}, {\"activity\": 0.0003459167132033922}, {\"activity\": 0.0010049671831301166}, {\"activity\": 0.001171142859080766}, {\"activity\": 0.0019330639855483684}, {\"activity\": 0.002905248212198425}, {\"activity\": 0.0022529804229227475}, {\"activity\": 0.000945053504045869}, {\"activity\": 0.00030295973574676185}, {\"activity\": 0.00018539327112861544}, {\"activity\": 0.004434742699009502}, {\"activity\": 0.0007596602329172535}, {\"activity\": 0.0007042683409337038}, {\"activity\": 0.0007494862119406832}, {\"activity\": 0.0018053234999536518}, {\"activity\": 0.0015328858271366009}, {\"activity\": 0.004141956984239311}, {\"activity\": 0.000798095423273186}, {\"activity\": 1.1304467751744845e-06}, {\"activity\": 0.00141418891574328}, {\"activity\": 0.00030295973574676185}, {\"activity\": 0.00030974241639780876}, {\"activity\": 2.260893550348969e-06}, {\"activity\": 0.0008195739120015012}, {\"activity\": 0.0003560907341799626}, {\"activity\": 0.0013282749608300192}, {\"activity\": 0.0021410661921804734}, {\"activity\": 0.0022269801470937343}, {\"activity\": 0.0005652233875872423}, {\"activity\": 0.00035722118095513707}, {\"activity\": 2.260893550348969e-06}, {\"activity\": 2.826116937936211e-05}, {\"activity\": 5.08701048828518e-05}, {\"activity\": 2.260893550348969e-06}, {\"activity\": 1.1304467751744844e-05}, {\"activity\": 0.000622876173121141}, {\"activity\": 1.6956701627617268e-05}]}}, {\"mode\": \"vega-lite\"});\n",
       "</script>"
      ],
      "text/plain": [
       "alt.Chart(...)"
      ]
     },
     "metadata": {},
     "output_type": "display_data"
    },
    {
     "data": {
      "text/html": [
       "\n",
       "<div id=\"altair-viz-b9905c462f7a4fb2aaa45aa3c41ba387\"></div>\n",
       "<script type=\"text/javascript\">\n",
       "  var VEGA_DEBUG = (typeof VEGA_DEBUG == \"undefined\") ? {} : VEGA_DEBUG;\n",
       "  (function(spec, embedOpt){\n",
       "    let outputDiv = document.currentScript.previousElementSibling;\n",
       "    if (outputDiv.id !== \"altair-viz-b9905c462f7a4fb2aaa45aa3c41ba387\") {\n",
       "      outputDiv = document.getElementById(\"altair-viz-b9905c462f7a4fb2aaa45aa3c41ba387\");\n",
       "    }\n",
       "    const paths = {\n",
       "      \"vega\": \"https://cdn.jsdelivr.net/npm//vega@5?noext\",\n",
       "      \"vega-lib\": \"https://cdn.jsdelivr.net/npm//vega-lib?noext\",\n",
       "      \"vega-lite\": \"https://cdn.jsdelivr.net/npm//vega-lite@4.17.0?noext\",\n",
       "      \"vega-embed\": \"https://cdn.jsdelivr.net/npm//vega-embed@6?noext\",\n",
       "    };\n",
       "\n",
       "    function maybeLoadScript(lib, version) {\n",
       "      var key = `${lib.replace(\"-\", \"\")}_version`;\n",
       "      return (VEGA_DEBUG[key] == version) ?\n",
       "        Promise.resolve(paths[lib]) :\n",
       "        new Promise(function(resolve, reject) {\n",
       "          var s = document.createElement('script');\n",
       "          document.getElementsByTagName(\"head\")[0].appendChild(s);\n",
       "          s.async = true;\n",
       "          s.onload = () => {\n",
       "            VEGA_DEBUG[key] = version;\n",
       "            return resolve(paths[lib]);\n",
       "          };\n",
       "          s.onerror = () => reject(`Error loading script: ${paths[lib]}`);\n",
       "          s.src = paths[lib];\n",
       "        });\n",
       "    }\n",
       "\n",
       "    function showError(err) {\n",
       "      outputDiv.innerHTML = `<div class=\"error\" style=\"color:red;\">${err}</div>`;\n",
       "      throw err;\n",
       "    }\n",
       "\n",
       "    function displayChart(vegaEmbed) {\n",
       "      vegaEmbed(outputDiv, spec, embedOpt)\n",
       "        .catch(err => showError(`Javascript Error: ${err.message}<br>This usually means there's a typo in your chart specification. See the javascript console for the full traceback.`));\n",
       "    }\n",
       "\n",
       "    if(typeof define === \"function\" && define.amd) {\n",
       "      requirejs.config({paths});\n",
       "      require([\"vega-embed\"], displayChart, err => showError(`Error loading script: ${err.message}`));\n",
       "    } else {\n",
       "      maybeLoadScript(\"vega\", \"5\")\n",
       "        .then(() => maybeLoadScript(\"vega-lite\", \"4.17.0\"))\n",
       "        .then(() => maybeLoadScript(\"vega-embed\", \"6\"))\n",
       "        .catch(showError)\n",
       "        .then(() => displayChart(vegaEmbed));\n",
       "    }\n",
       "  })({\"config\": {\"view\": {\"continuousWidth\": 400, \"continuousHeight\": 300}, \"axis\": {\"labelFontSize\": 14, \"titleFontSize\": 20}}, \"data\": {\"name\": \"data-766bf5a636abcd55a213d2001b9f5331\"}, \"mark\": {\"type\": \"bar\", \"color\": \"#92c5de\"}, \"encoding\": {\"x\": {\"bin\": {\"extent\": [0, 0.006], \"step\": 0.0005}, \"field\": \"activity\", \"title\": \"Activity Potential (Binned)\", \"type\": \"quantitative\"}, \"y\": {\"aggregate\": \"count\", \"field\": \"activity\", \"scale\": {\"domain\": [0, 300]}, \"title\": \"Nodes\", \"type\": \"quantitative\"}}, \"$schema\": \"https://vega.github.io/schema/vega-lite/v4.17.0.json\", \"datasets\": {\"data-766bf5a636abcd55a213d2001b9f5331\": [{\"activity\": 0.001526252923220554}, {\"activity\": 0.0009908058706964015}, {\"activity\": 0.00027458823206366785}, {\"activity\": 0.0011990352800113496}, {\"activity\": 7.09352932831142e-05}, {\"activity\": 0.0024209529126946717}, {\"activity\": 0.003391164665986298}, {\"activity\": 0.00018077058610858134}, {\"activity\": 0.0007024882270295502}, {\"activity\": 0.0006567235216856056}, {\"activity\": 0.004205776421108513}, {\"activity\": 0.002208147032845329}, {\"activity\": 0.002041105858339931}, {\"activity\": 0.0016521058629164016}, {\"activity\": 0.0011555588099346021}, {\"activity\": 0.0012928529259664363}, {\"activity\": 0.0014324352772654672}, {\"activity\": 0.0006818941096247751}, {\"activity\": 0.0011372529277970244}, {\"activity\": 0.0003775588190875433}, {\"activity\": 0.002395782324755502}, {\"activity\": 0.0010594529287123184}, {\"activity\": 9.152941068788929e-06}, {\"activity\": 0.002896905848271696}, {\"activity\": 0.0003935764659579239}, {\"activity\": 0.0017985529200170245}, {\"activity\": 0.00031806470214041526}, {\"activity\": 0.002059411740477509}, {\"activity\": 0.0011784411626065746}, {\"activity\": 0.001331752925508789}, {\"activity\": 0.0010091117528339794}, {\"activity\": 0.00024484117359010386}, {\"activity\": 0.0018282999784905885}, {\"activity\": 0.0009335999890164707}, {\"activity\": 0.001647529392382007}, {\"activity\": 0.00040730587756110734}, {\"activity\": 0.0004622235239738409}, {\"activity\": 0.0017962646847498273}, {\"activity\": 0.0035993940753012463}, {\"activity\": 0.0014507411594030452}, {\"activity\": 0.00018077058610858134}, {\"activity\": 0.0021600940922341873}, {\"activity\": 0.0005606176404633218}, {\"activity\": 0.0010182646939027682}, {\"activity\": 0.0006475705806168167}, {\"activity\": 0.003837370543089758}, {\"activity\": 0.0022790823261284432}, {\"activity\": 0.001999917623530381}, {\"activity\": 0.00138895880718872}, {\"activity\": 0.0036497352511795852}, {\"activity\": 0.0005903646989368859}, {\"activity\": 0.0019427117418504502}, {\"activity\": 0.000631552933746436}, {\"activity\": 0.002553670558192111}, {\"activity\": 0.0020388176230727337}, {\"activity\": 0.0024301058537634606}, {\"activity\": 0.0003500999958811765}, {\"activity\": 0.003537611723086921}, {\"activity\": 0.0018694882133001387}, {\"activity\": 0.001716176450397924}, {\"activity\": 0.0026520646746815923}, {\"activity\": 0.0018008411552842218}, {\"activity\": 8.46647048862976e-05}, {\"activity\": 0.0006338411690136333}, {\"activity\": 0.00032264117267480976}, {\"activity\": 0.0025628234992609}, {\"activity\": 0.0017665176262762633}, {\"activity\": 9.610588122228374e-05}, {\"activity\": 0.0033476881959095504}, {\"activity\": 0.001576594099098893}, {\"activity\": 0.0018557588016969552}, {\"activity\": 0.001082335281384291}, {\"activity\": 0.0002059411740477509}, {\"activity\": 4.576470534394464e-06}, {\"activity\": 0.0023225587962051905}, {\"activity\": 0.001931270565514464}, {\"activity\": 0.0008008823435190313}, {\"activity\": 0.002510194088115364}, {\"activity\": 0.0006269764632120416}, {\"activity\": 0.00205025879940872}, {\"activity\": 0.0006612999922200001}, {\"activity\": 0.000700199991762353}, {\"activity\": 0.0005972294047384776}, {\"activity\": 0.0008741058720693426}, {\"activity\": 0.004297305831796402}, {\"activity\": 0.00032950587847640144}, {\"activity\": 0.001961017623988028}, {\"activity\": 0.0013546352781807615}, {\"activity\": 0.0041211117162222154}, {\"activity\": 0.001350058807646367}, {\"activity\": 0.002510194088115364}, {\"activity\": 0.004221794067978893}, {\"activity\": 0.001400399983524706}, {\"activity\": 0.001656682333450796}, {\"activity\": 0.0011578470452017994}, {\"activity\": 0.0012379352795537026}, {\"activity\": 0.005265229349820831}, {\"activity\": 0.0007940176377174396}, {\"activity\": 0.0008214764609238063}, {\"activity\": 0.001439299983067059}, {\"activity\": 0.0024095117363586854}, {\"activity\": 0.0015926117459692736}, {\"activity\": 0.0011006411635218686}, {\"activity\": 0.002441547030099447}, {\"activity\": 0.0019198293891784777}, {\"activity\": 0.001203611750545744}, {\"activity\": 0.001183017633140969}, {\"activity\": 0.001290564690699239}, {\"activity\": 0.0030799646696474743}, {\"activity\": 0.0008123235198550174}, {\"activity\": 0.0016932940977259518}, {\"activity\": 0.002986147023692388}, {\"activity\": 0.0014347235125326645}, {\"activity\": 0.0012562411616912805}, {\"activity\": 0.0027985117317822147}, {\"activity\": 0.001102929398789066}, {\"activity\": 0.00020136470351335642}, {\"activity\": 9.381764595508651e-05}, {\"activity\": 0.0003386588195451904}, {\"activity\": 0.0006933352859607614}, {\"activity\": 0.001427858806731073}, {\"activity\": 0.0013660764545167475}, {\"activity\": 0.0021509411511653983}, {\"activity\": 0.0007779999908470589}, {\"activity\": 0.0014026882187919032}, {\"activity\": 0.0015582882169613151}, {\"activity\": 1.1441176335986162e-05}, {\"activity\": 0.002899194083538893}, {\"activity\": 0.0029632646710204156}, {\"activity\": 0.0005148529351193772}, {\"activity\": 0.001990764682461592}, {\"activity\": 0.002887752907202907}, {\"activity\": 0.00046679999450823537}, {\"activity\": 0.0003478117606139793}, {\"activity\": 0.002178399974371765}, {\"activity\": 0.0012150529268817303}, {\"activity\": 0.00149650586474699}, {\"activity\": 0.0012951411612336333}, {\"activity\": 0.002267641149792457}, {\"activity\": 0.0035330352525525265}, {\"activity\": 0.0032378529030840835}, {\"activity\": 0.0026932529094911423}, {\"activity\": 0.0005331588172569551}, {\"activity\": 0.0024392587948322496}, {\"activity\": 0.0019335588007816612}, {\"activity\": 0.0022401823265860905}, {\"activity\": 0.00260401173407045}, {\"activity\": 0.0018466058606281662}, {\"activity\": 0.0011166588103922494}, {\"activity\": 9.152941068788929e-05}, {\"activity\": 0.00017619411557418687}, {\"activity\": 0.0019129646833768862}, {\"activity\": 0.001695582332993149}, {\"activity\": 0.0008077470493206229}, {\"activity\": 0.0017871117436810383}, {\"activity\": 0.0020479705641415226}, {\"activity\": 0.0010914882224530797}, {\"activity\": 0.00117386469207218}, {\"activity\": 0.002475870559107405}, {\"activity\": 0.0007047764622967475}, {\"activity\": 0.0029014823188060904}, {\"activity\": 0.0029014823188060904}, {\"activity\": 0.0018969470365065055}, {\"activity\": 0.004180605833169343}, {\"activity\": 0.0049494528829476135}, {\"activity\": 0.0038076234846161944}, {\"activity\": 0.001803129390551419}, {\"activity\": 0.0019770352708584084}, {\"activity\": 0.002560535263993703}, {\"activity\": 0.0019953411529959864}, {\"activity\": 0.0017115999798635296}, {\"activity\": 0.0025559587934593083}, {\"activity\": 2.288235267197232e-06}, {\"activity\": 0.001034282340773149}, {\"activity\": 0.0006201117574104499}, {\"activity\": 0.0006063823458072665}, {\"activity\": 0.0017138882151307268}, {\"activity\": 0.0017871117436810383}, {\"activity\": 0.0031188646691898275}, {\"activity\": 0.0012791235143632528}, {\"activity\": 0.0020388176230727337}, {\"activity\": 0.001242511750088097}, {\"activity\": 0.0009038529305429067}, {\"activity\": 0.0032973470200312115}, {\"activity\": 0.003665752898049966}, {\"activity\": 0.0017504999794058825}, {\"activity\": 0.002059411740477509}, {\"activity\": 0.0007185058738999309}, {\"activity\": 0.0009976705764979932}, {\"activity\": 0.002830547025522976}, {\"activity\": 0.0017504999794058825}, {\"activity\": 0.0008901235189397233}, {\"activity\": 0.0009747882238260208}, {\"activity\": 0.0008832588131381316}, {\"activity\": 0.003674905839118755}, {\"activity\": 0.0027046940858271285}, {\"activity\": 0.0017321940972683048}, {\"activity\": 0.0011212352809266436}, {\"activity\": 0.0013157352786384085}, {\"activity\": 0.00012127646916145331}, {\"activity\": 0.0006246882279448444}, {\"activity\": 0.0003821352896219378}, {\"activity\": 0.002526211734985744}, {\"activity\": 0.0017619411557418688}, {\"activity\": 0.0016635470392523878}, {\"activity\": 0.0015857470401676819}, {\"activity\": 0.00035696470168276824}, {\"activity\": 0.0015422705700909344}, {\"activity\": 0.0031371705513274055}, {\"activity\": 0.002517058793916955}, {\"activity\": 0.0017688058615434605}, {\"activity\": 0.0018466058606281662}, {\"activity\": 0.0012859882201648445}, {\"activity\": 0.0004370529360346713}, {\"activity\": 0.001320311749172803}, {\"activity\": 0.0015491352758925262}, {\"activity\": 0.0015971882165036681}, {\"activity\": 0.0013363293960431835}, {\"activity\": 0.0015788823343660901}, {\"activity\": 0.0013248882197071975}, {\"activity\": 0.0006178235221432527}, {\"activity\": 0.0007047764622967475}, {\"activity\": 0.0037138058386611077}, {\"activity\": 0.001448452924135848}, {\"activity\": 0.0025147705586497583}, {\"activity\": 0.002443835265366644}, {\"activity\": 0.002041105858339931}, {\"activity\": 0.001965594094522422}, {\"activity\": 0.0002219588209181315}, {\"activity\": 0.001526252923220554}, {\"activity\": 0.004487229358973772}, {\"activity\": 0.0028671587897981317}, {\"activity\": 0.00012356470442865053}, {\"activity\": 0.001931270565514464}, {\"activity\": 0.0003821352896219378}, {\"activity\": 0.0012882764554320418}, {\"activity\": 0.0022996764435332185}, {\"activity\": 0.0006910470506935641}, {\"activity\": 0.0009130058716116956}, {\"activity\": 0.0005629058757305191}, {\"activity\": 0.003329382313771973}, {\"activity\": 0.0003386588195451904}, {\"activity\": 0.00024712940885730105}, {\"activity\": 0.0017596529204746715}, {\"activity\": 0.0007505411676406921}, {\"activity\": 0.0009702117532916265}, {\"activity\": 0.0016132058633740486}, {\"activity\": 0.00041874705389709346}, {\"activity\": 0.0032744646673592394}, {\"activity\": 0.004050176422939101}, {\"activity\": 0.0015239646879533567}, {\"activity\": 0.0007185058738999309}, {\"activity\": 0.002080005857882284}, {\"activity\": 0.0020845823284166786}, {\"activity\": 0.001862623507498547}, {\"activity\": 0.0022447587971204845}, {\"activity\": 0.0006498588158840139}, {\"activity\": 0.0017184646856651213}, {\"activity\": 0.0027458823206366785}, {\"activity\": 0.001990764682461592}, {\"activity\": 0.0007459646971062977}, {\"activity\": 0.0012310705737521108}, {\"activity\": 0.0011097941045906576}, {\"activity\": 0.001922117624445675}, {\"activity\": 0.001745923508871488}, {\"activity\": 0.002896905848271696}, {\"activity\": 0.0019129646833768862}, {\"activity\": 0.002592570557734464}, {\"activity\": 0.0035810881931636683}, {\"activity\": 0.0011624235157361939}, {\"activity\": 0.0014461646888686507}, {\"activity\": 0.002139499974829412}, {\"activity\": 0.003054794081708305}, {\"activity\": 0.002164670562768582}, {\"activity\": 0.0020044940940647754}, {\"activity\": 0.001320311749172803}, {\"activity\": 0.0025879940872000694}, {\"activity\": 0.0024529882064354327}, {\"activity\": 8.695294015349483e-05}, {\"activity\": 0.0016749882155883738}, {\"activity\": 0.0008031705787862284}, {\"activity\": 0.0010022470470323877}, {\"activity\": 0.0014301470419982702}, {\"activity\": 8.695294015349483e-05}, {\"activity\": 0.001842029390093772}, {\"activity\": 0.0016177823339084431}, {\"activity\": 0.0022630646792580625}, {\"activity\": 0.0012997176317680278}, {\"activity\": 0.0007596941087094811}, {\"activity\": 0.001677276450855571}, {\"activity\": 0.0033865881954519036}, {\"activity\": 0.0010502999876435297}, {\"activity\": 0.0030502176111739106}, {\"activity\": 0.002837411731324568}, {\"activity\": 0.001409552924593495}, {\"activity\": 0.004665711709815157}, {\"activity\": 5.949411694712804e-05}, {\"activity\": 0.0005537529346617302}, {\"activity\": 0.0009381764595508652}, {\"activity\": 0.0011990352800113496}, {\"activity\": 0.0013660764545167475}, {\"activity\": 0.0007665588145110728}, {\"activity\": 0.00020822940931494813}, {\"activity\": 0.0007734235203126645}, {\"activity\": 0.0016910058624587546}, {\"activity\": 0.0037138058386611077}, {\"activity\": 0.0023317117372739795}, {\"activity\": 0.0010914882224530797}, {\"activity\": 0.0017321940972683048}, {\"activity\": 0.0007230823444343254}, {\"activity\": 0.00047366470030982705}, {\"activity\": 0.002068564681546298}, {\"activity\": 0.0016452411571148099}, {\"activity\": 0.00011441176335986161}, {\"activity\": 0.0029335176125468514}, {\"activity\": 0.0015926117459692736}, {\"activity\": 0.002407223501091488}, {\"activity\": 0.00024712940885730105}, {\"activity\": 0.001871776448567336}, {\"activity\": 0.0013820941013871282}, {\"activity\": 0.0003867117601563322}, {\"activity\": 0.002560535263993703}, {\"activity\": 0.0013637882192495503}, {\"activity\": 0.0007253705797015226}, {\"activity\": 0.0037046528975923187}, {\"activity\": 0.0006521470511512111}, {\"activity\": 2.288235267197232e-06}, {\"activity\": 2.5170587939169553e-05}, {\"activity\": 0.0017916882142154328}, {\"activity\": 0.001910676448109689}, {\"activity\": 0.0014850646884110037}, {\"activity\": 0.0007551176381750866}, {\"activity\": 0.0009107176363444984}, {\"activity\": 0.0023156940904035988}, {\"activity\": 0.0010617411639795157}, {\"activity\": 0.001263105867492872}, {\"activity\": 0.0017001588035275436}, {\"activity\": 0.0014736235120750174}, {\"activity\": 0.00260401173407045}, {\"activity\": 0.0032767529026264362}, {\"activity\": 0.0009564823416884431}, {\"activity\": 0.0008946999894741178}, {\"activity\": 0.0006132470516088582}, {\"activity\": 0.0016887176271915573}, {\"activity\": 0.0013752293955855365}, {\"activity\": 0.00032264117267480976}, {\"activity\": 0.0007825764613814534}, {\"activity\": 0.0010800470461170936}, {\"activity\": 0.0027824940849118344}, {\"activity\": 0.0006544352864184084}, {\"activity\": 0.0008123235198550174}, {\"activity\": 0.0018855058601705192}, {\"activity\": 0.0019633058592552254}, {\"activity\": 0.0041577234804973705}, {\"activity\": 0.0017802470378794465}, {\"activity\": 0.0008260529314582008}, {\"activity\": 0.002002205858797578}, {\"activity\": 0.00017619411557418687}, {\"activity\": 0.003766435249806644}, {\"activity\": 0.0011212352809266436}, {\"activity\": 0.0011669999862705884}, {\"activity\": 0.00010525882229107268}, {\"activity\": 0.0010571646934451212}, {\"activity\": 0.0037916058377458137}, {\"activity\": 0.0014049764540591005}, {\"activity\": 0.0005491764641273357}, {\"activity\": 0.003084541140181869}, {\"activity\": 4.576470534394464e-06}, {\"activity\": 0.0028648705545309345}, {\"activity\": 0.0009290235184820762}, {\"activity\": 0.0005308705819897578}, {\"activity\": 0.0019335588007816612}, {\"activity\": 9.152941068788929e-06}, {\"activity\": 0.0030662352580442913}, {\"activity\": 0.001677276450855571}, {\"activity\": 0.0016223588044428376}, {\"activity\": 0.0015743058638316956}, {\"activity\": 0.002986147023692388}, {\"activity\": 0.0006155352868760554}, {\"activity\": 0.0030799646696474743}, {\"activity\": 0.0015971882165036681}, {\"activity\": 0.002432394089030658}, {\"activity\": 0.0006132470516088582}, {\"activity\": 0.002999876435295571}, {\"activity\": 0.0010159764586355712}, {\"activity\": 0.0025079058528481666}, {\"activity\": 0.0022996764435332185}, {\"activity\": 0.000482817641378616}, {\"activity\": 6.8647058015916964e-06}, {\"activity\": 0.0009541941064212458}, {\"activity\": 0.002828258790255779}, {\"activity\": 0.0019038117423080972}, {\"activity\": 0.0013866705719215227}, {\"activity\": 0.0024964646765121804}, {\"activity\": 0.0032492940794200697}, {\"activity\": 0.0016063411575724569}, {\"activity\": 0.0004690882297754326}, {\"activity\": 0.0004324764655002769}, {\"activity\": 0.0009702117532916265}, {\"activity\": 0.0024461235006338414}, {\"activity\": 0.002958688200486021}, {\"activity\": 0.002631470557276817}, {\"activity\": 0.0018305882137577857}, {\"activity\": 6.8647058015916964e-06}, {\"activity\": 0.0027298646737662978}, {\"activity\": 0.0001922117624445675}, {\"activity\": 0.0008443588135957787}, {\"activity\": 0.0003706941132859516}, {\"activity\": 0.0006590117569528029}, {\"activity\": 0.0013958235129903117}, {\"activity\": 0.0010502999876435297}, {\"activity\": 0.001745923508871488}, {\"activity\": 0.0020479705641415226}, {\"activity\": 0.0019564411534536337}, {\"activity\": 0.0018488940958953635}, {\"activity\": 0.002858005848729343}, {\"activity\": 0.0014530293946702424}, {\"activity\": 0.0003867117601563322}, {\"activity\": 0.002938094083081246}, {\"activity\": 0.0010091117528339794}, {\"activity\": 0.0011075058693234604}, {\"activity\": 0.0014438764536014535}, {\"activity\": 9.381764595508651e-05}, {\"activity\": 0.0003432352900795848}, {\"activity\": 0.003597105840034049}, {\"activity\": 0.002787070555446229}, {\"activity\": 0.0007757117555798617}, {\"activity\": 0.0003340823490107959}, {\"activity\": 0.001350058807646367}, {\"activity\": 0.0010708941050483047}, {\"activity\": 0.0006773176390903807}, {\"activity\": 0.002027376446736748}, {\"activity\": 0.0005560411699289274}, {\"activity\": 0.0026085882046048446}, {\"activity\": 0.001153270574667405}, {\"activity\": 0.0009587705769556402}, {\"activity\": 0.00011212352809266438}, {\"activity\": 0.0023523058546787547}, {\"activity\": 0.0007299470502359171}, {\"activity\": 0.00016246470397100347}, {\"activity\": 1.8305882137577857e-05}, {\"activity\": 0.0034026058423222844}, {\"activity\": 0.0019358470360488584}, {\"activity\": 0.003093694081250658}, {\"activity\": 0.0004484941123706575}, {\"activity\": 0.0014598941004718342}, {\"activity\": 0.0019541529181864364}, {\"activity\": 0.0005148529351193772}, {\"activity\": 0.0012081882210801386}, {\"activity\": 0.0011464058688658134}, {\"activity\": 0.0019175411539112805}, {\"activity\": 0.0011006411635218686}, {\"activity\": 0.004814447002182976}, {\"activity\": 0.0005720588167993081}, {\"activity\": 0.0013660764545167475}, {\"activity\": 0.0006681646980215918}, {\"activity\": 0.0007230823444343254}, {\"activity\": 0.0021944176212421456}, {\"activity\": 0.0011967470447441524}, {\"activity\": 0.0020548352699431144}, {\"activity\": 0.0016612588039851906}, {\"activity\": 0.0028030882023166092}, {\"activity\": 0.0011578470452017994}, {\"activity\": 0.0009015646952757095}, {\"activity\": 0.0011715764568049829}, {\"activity\": 0.0010777588108498964}, {\"activity\": 0.0005583294051961247}, {\"activity\": 0.0010297058702387544}, {\"activity\": 0.0024209529126946717}, {\"activity\": 0.0023500176194115575}, {\"activity\": 0.0018351646842921802}, {\"activity\": 0.000128141174963045}, {\"activity\": 0.00010754705755826991}, {\"activity\": 0.00043018823023307964}, {\"activity\": 0.000986229400162007}, {\"activity\": 0.0011784411626065746}, {\"activity\": 0.0003912882306907267}, {\"activity\": 0.00138895880718872}, {\"activity\": 0.000995382341230796}, {\"activity\": 0.001940423506583253}, {\"activity\": 0.0007047764622967475}, {\"activity\": 0.0022722176203268515}, {\"activity\": 0.002137211739562215}, {\"activity\": 0.002020511740935156}, {\"activity\": 0.0013340411607759863}, {\"activity\": 0.002155517621699793}, {\"activity\": 0.0005194294056537717}, {\"activity\": 0.004672576415616748}, {\"activity\": 0.0013225999844400003}, {\"activity\": 0.0016109176281068514}, {\"activity\": 0.0005468882288601385}, {\"activity\": 0.00021967058565093429}, {\"activity\": 0.0005194294056537717}, {\"activity\": 0.002061699975744706}, {\"activity\": 0.0016109176281068514}, {\"activity\": 0.0023683235015491354}, {\"activity\": 0.0012104764563473358}, {\"activity\": 0.0022241646797157098}, {\"activity\": 0.0019449999771176474}, {\"activity\": 0.002837411731324568}, {\"activity\": 0.0016543940981835988}, {\"activity\": 0.0004370529360346713}, {\"activity\": 0.0009244470479476817}, {\"activity\": 0.0030593705522426995}, {\"activity\": 0.0012287823384849136}, {\"activity\": 0.0013569235134479587}, {\"activity\": 0.0006246882279448444}, {\"activity\": 0.0021326352690278203}, {\"activity\": 0.0005079882293177856}, {\"activity\": 0.001251664691156886}, {\"activity\": 0.0016978705682603463}, {\"activity\": 0.0012196293974161248}, {\"activity\": 0.001194458809476955}, {\"activity\": 0.001647529392382007}, {\"activity\": 0.0012287823384849136}, {\"activity\": 0.0016132058633740486}, {\"activity\": 0.002128058798493426}, {\"activity\": 0.000867241166267751}, {\"activity\": 0.001958729388720831}, {\"activity\": 0.0009313117537492735}, {\"activity\": 0.002663505851017578}, {\"activity\": 0.0016749882155883738}, {\"activity\": 0.0017802470378794465}, {\"activity\": 0.00023339999725411768}, {\"activity\": 0.0012379352795537026}, {\"activity\": 0.0013477705723791698}, {\"activity\": 0.0008741058720693426}, {\"activity\": 0.0004599352887066437}, {\"activity\": 0.0034117587833910733}, {\"activity\": 0.0008352058725269898}, {\"activity\": 0.002523923499718547}, {\"activity\": 0.0016406646865804154}, {\"activity\": 0.0006567235216856056}, {\"activity\": 0.0007505411676406921}, {\"activity\": 0.001775670567345052}, {\"activity\": 0.003441505841864637}, {\"activity\": 0.0017436352736042908}, {\"activity\": 0.0005606176404633218}, {\"activity\": 0.00179397644948263}, {\"activity\": 0.0003615411722171627}, {\"activity\": 0.00010297058702387544}, {\"activity\": 0.002416376442160277}, {\"activity\": 0.0024461235006338414}, {\"activity\": 0.003363705842779931}, {\"activity\": 0.0011075058693234604}, {\"activity\": 0.0010663176345139102}, {\"activity\": 0.0015857470401676819}, {\"activity\": 0.00016704117450539794}, {\"activity\": 0.00011441176335986161}, {\"activity\": 0.002523923499718547}, {\"activity\": 0.0014919293942125954}, {\"activity\": 0.0004256117596986852}, {\"activity\": 0.0022790823261284432}, {\"activity\": 0.0004484941123706575}, {\"activity\": 0.00300902937636436}, {\"activity\": 0.0013843823366543255}, {\"activity\": 0.0017573646852074743}, {\"activity\": 0.0006178235221432527}, {\"activity\": 0.002345441148877163}, {\"activity\": 0.0009198705774132874}, {\"activity\": 0.00205025879940872}, {\"activity\": 0.0011578470452017994}, {\"activity\": 0.0009679235180244292}, {\"activity\": 0.00019678823297896196}, {\"activity\": 0.000709352932831142}, {\"activity\": 0.00019449999771176474}, {\"activity\": 0.0006475705806168167}, {\"activity\": 0.0012173411621489276}, {\"activity\": 0.0005079882293177856}, {\"activity\": 0.0006155352868760554}, {\"activity\": 0.0026543529099487895}, {\"activity\": 0.0014232823361966785}, {\"activity\": 0.001823723507956194}, {\"activity\": 7.322352855031143e-05}, {\"activity\": 0.0001693294097725952}, {\"activity\": 0.00043934117130186857}, {\"activity\": 0.00025628234992609}, {\"activity\": 0.0002883176436668513}, {\"activity\": 0.0007642705792438756}, {\"activity\": 0.0009130058716116956}, {\"activity\": 0.0005354470525241523}, {\"activity\": 0.002443835265366644}, {\"activity\": 0.0017710940968106578}, {\"activity\": 0.0012264941032177163}, {\"activity\": 0.001993052917728789}, {\"activity\": 0.00102512939970436}, {\"activity\": 0.002386629383686713}, {\"activity\": 0.0010388588113075434}, {\"activity\": 0.0023523058546787547}, {\"activity\": 8.46647048862976e-05}, {\"activity\": 0.0016726999803211766}, {\"activity\": 0.0007322352855031143}, {\"activity\": 0.00047366470030982705}, {\"activity\": 5.491764641273357e-05}, {\"activity\": 0.00045307058290505194}, {\"activity\": 0.0004278999949658824}, {\"activity\": 2.059411740477509e-05}, {\"activity\": 0.0019770352708584084}, {\"activity\": 0.00045307058290505194}, {\"activity\": 2.288235267197232e-06}, {\"activity\": 0.00149650586474699}, {\"activity\": 0.0004942588177146021}, {\"activity\": 0.0020136470351335644}, {\"activity\": 0.000709352932831142}, {\"activity\": 0.002121194092691834}, {\"activity\": 0.00028145293786525954}, {\"activity\": 0.0012058999858129413}, {\"activity\": 0.0012310705737521108}, {\"activity\": 9.152941068788929e-06}, {\"activity\": 0.0002700117615292734}, {\"activity\": 0.002011358799866367}, {\"activity\": 0.00018763529191017302}, {\"activity\": 0.0009130058716116956}, {\"activity\": 0.001974747035591211}, {\"activity\": 0.0021234823279590313}, {\"activity\": 0.0012104764563473358}, {\"activity\": 0.0014667588062734257}, {\"activity\": 0.0006269764632120416}, {\"activity\": 0.000995382341230796}, {\"activity\": 0.0006841823448919724}, {\"activity\": 0.001370652925051142}, {\"activity\": 0.0013180235139056058}, {\"activity\": 0.000631552933746436}, {\"activity\": 0.0005102764645849827}, {\"activity\": 0.0006727411685559863}, {\"activity\": 0.0007024882270295502}, {\"activity\": 0.002510194088115364}, {\"activity\": 0.00029518234946844296}, {\"activity\": 0.0032813293731608307}, {\"activity\": 0.0005034117587833911}, {\"activity\": 0.0016223588044428376}, {\"activity\": 0.0009839411648948097}, {\"activity\": 0.0028168176139197927}, {\"activity\": 0.0010502999876435297}, {\"activity\": 0.003517017605682146}, {\"activity\": 0.0024095117363586854}, {\"activity\": 0.0014942176294797927}, {\"activity\": 0.0012997176317680278}, {\"activity\": 0.00024712940885730105}, {\"activity\": 0.00044620587710346026}, {\"activity\": 0.0011967470447441524}, {\"activity\": 0.0017985529200170245}, {\"activity\": 0.0033659940780471284}, {\"activity\": 0.00219899409177654}, {\"activity\": 0.001439299983067059}, {\"activity\": 0.00046679999450823537}, {\"activity\": 0.00037527058382034605}, {\"activity\": 0.0037115176033939105}, {\"activity\": 0.0005834999931352942}, {\"activity\": 0.0006681646980215918}, {\"activity\": 0.0007665588145110728}, {\"activity\": 0.0012951411612336333}, {\"activity\": 0.0012310705737521108}, {\"activity\": 0.0037321117207986857}, {\"activity\": 0.0006773176390903807}, {\"activity\": 2.288235267197232e-06}, {\"activity\": 0.0009793646943604154}, {\"activity\": 0.0006132470516088582}, {\"activity\": 0.0006269764632120416}, {\"activity\": 0.000443917641836263}, {\"activity\": 0.00010297058702387544}, {\"activity\": 0.0010891999871858824}, {\"activity\": 0.001320311749172803}, {\"activity\": 0.0012768352790960555}, {\"activity\": 6.40705874815225e-05}, {\"activity\": 0.00028145293786525954}, {\"activity\": 2.7458823206366786e-05}, {\"activity\": 9.152941068788929e-06}, {\"activity\": 0.0005766352873337026}, {\"activity\": 3.432352900795848e-05}]}}, {\"mode\": \"vega-lite\"});\n",
       "</script>"
      ],
      "text/plain": [
       "alt.Chart(...)"
      ]
     },
     "metadata": {},
     "output_type": "display_data"
    },
    {
     "data": {
      "text/html": [
       "\n",
       "<div id=\"altair-viz-94adfda8ee664883966dac5b2866bacc\"></div>\n",
       "<script type=\"text/javascript\">\n",
       "  var VEGA_DEBUG = (typeof VEGA_DEBUG == \"undefined\") ? {} : VEGA_DEBUG;\n",
       "  (function(spec, embedOpt){\n",
       "    let outputDiv = document.currentScript.previousElementSibling;\n",
       "    if (outputDiv.id !== \"altair-viz-94adfda8ee664883966dac5b2866bacc\") {\n",
       "      outputDiv = document.getElementById(\"altair-viz-94adfda8ee664883966dac5b2866bacc\");\n",
       "    }\n",
       "    const paths = {\n",
       "      \"vega\": \"https://cdn.jsdelivr.net/npm//vega@5?noext\",\n",
       "      \"vega-lib\": \"https://cdn.jsdelivr.net/npm//vega-lib?noext\",\n",
       "      \"vega-lite\": \"https://cdn.jsdelivr.net/npm//vega-lite@4.17.0?noext\",\n",
       "      \"vega-embed\": \"https://cdn.jsdelivr.net/npm//vega-embed@6?noext\",\n",
       "    };\n",
       "\n",
       "    function maybeLoadScript(lib, version) {\n",
       "      var key = `${lib.replace(\"-\", \"\")}_version`;\n",
       "      return (VEGA_DEBUG[key] == version) ?\n",
       "        Promise.resolve(paths[lib]) :\n",
       "        new Promise(function(resolve, reject) {\n",
       "          var s = document.createElement('script');\n",
       "          document.getElementsByTagName(\"head\")[0].appendChild(s);\n",
       "          s.async = true;\n",
       "          s.onload = () => {\n",
       "            VEGA_DEBUG[key] = version;\n",
       "            return resolve(paths[lib]);\n",
       "          };\n",
       "          s.onerror = () => reject(`Error loading script: ${paths[lib]}`);\n",
       "          s.src = paths[lib];\n",
       "        });\n",
       "    }\n",
       "\n",
       "    function showError(err) {\n",
       "      outputDiv.innerHTML = `<div class=\"error\" style=\"color:red;\">${err}</div>`;\n",
       "      throw err;\n",
       "    }\n",
       "\n",
       "    function displayChart(vegaEmbed) {\n",
       "      vegaEmbed(outputDiv, spec, embedOpt)\n",
       "        .catch(err => showError(`Javascript Error: ${err.message}<br>This usually means there's a typo in your chart specification. See the javascript console for the full traceback.`));\n",
       "    }\n",
       "\n",
       "    if(typeof define === \"function\" && define.amd) {\n",
       "      requirejs.config({paths});\n",
       "      require([\"vega-embed\"], displayChart, err => showError(`Error loading script: ${err.message}`));\n",
       "    } else {\n",
       "      maybeLoadScript(\"vega\", \"5\")\n",
       "        .then(() => maybeLoadScript(\"vega-lite\", \"4.17.0\"))\n",
       "        .then(() => maybeLoadScript(\"vega-embed\", \"6\"))\n",
       "        .catch(showError)\n",
       "        .then(() => displayChart(vegaEmbed));\n",
       "    }\n",
       "  })({\"config\": {\"view\": {\"continuousWidth\": 400, \"continuousHeight\": 300}, \"axis\": {\"labelFontSize\": 14, \"titleFontSize\": 20}}, \"data\": {\"name\": \"data-8fe93d852df1a48801677ae03fa4bf0c\"}, \"mark\": {\"type\": \"bar\", \"color\": \"#92c5de\"}, \"encoding\": {\"x\": {\"bin\": {\"extent\": [0, 0.006], \"step\": 0.0005}, \"field\": \"activity\", \"title\": \"Activity Potential (Binned)\", \"type\": \"quantitative\"}, \"y\": {\"aggregate\": \"count\", \"field\": \"activity\", \"scale\": {\"domain\": [0, 300]}, \"title\": \"Nodes\", \"type\": \"quantitative\"}}, \"$schema\": \"https://vega.github.io/schema/vega-lite/v4.17.0.json\", \"datasets\": {\"data-8fe93d852df1a48801677ae03fa4bf0c\": [{\"activity\": 0.001964724268810002}, {\"activity\": 0.0008260772493860237}, {\"activity\": 0.0003348961821835231}, {\"activity\": 0.0012223710649698594}, {\"activity\": 1.6744809109176154e-05}, {\"activity\": 0.002126590756865372}, {\"activity\": 0.0047220361687876754}, {\"activity\": 1.1163206072784103e-05}, {\"activity\": 0.0006921187765126144}, {\"activity\": 0.0007925876311676714}, {\"activity\": 0.003477338691672248}, {\"activity\": 0.001400982362134405}, {\"activity\": 0.002908015181960259}, {\"activity\": 0.001925653047555258}, {\"activity\": 0.0015907568653717348}, {\"activity\": 0.001830765795936593}, {\"activity\": 0.0007367716008037508}, {\"activity\": 0.0005693235097119892}, {\"activity\": 0.0004521098459477562}, {\"activity\": 0.0030810448760884125}, {\"activity\": 0.0011498102254967626}, {\"activity\": 5.581603036392051e-06}, {\"activity\": 0.0031591873185979015}, {\"activity\": 0.0006028131279303416}, {\"activity\": 0.0026456798392498326}, {\"activity\": 0.0007758428220584952}, {\"activity\": 0.001400982362134405}, {\"activity\": 0.0005190890823844608}, {\"activity\": 0.0009153828979682965}, {\"activity\": 0.0009042196918955124}, {\"activity\": 0.00031815137307434694}, {\"activity\": 0.0017972761777182407}, {\"activity\": 0.0009935253404777852}, {\"activity\": 0.002344273275284662}, {\"activity\": 5.581603036392051e-06}, {\"activity\": 0.0017749497655726724}, {\"activity\": 0.004727617771824068}, {\"activity\": 0.0016688993078812235}, {\"activity\": 0.00014512167894619336}, {\"activity\": 0.0018475106050457693}, {\"activity\": 0.0006363027461486939}, {\"activity\": 0.0008484036615315918}, {\"activity\": 0.0009042196918955124}, {\"activity\": 0.0048225050234427325}, {\"activity\": 0.0035108283098906007}, {\"activity\": 0.0012670238892609957}, {\"activity\": 0.0015851752623353428}, {\"activity\": 0.004147131056039295}, {\"activity\": 0.0006642107613306542}, {\"activity\": 0.002026121902210315}, {\"activity\": 0.0006809555704398304}, {\"activity\": 0.003577807546327305}, {\"activity\": 0.0024224157177941503}, {\"activity\": 0.002037285108283099}, {\"activity\": 0.0005693235097119892}, {\"activity\": 0.004470864032150033}, {\"activity\": 0.002695914266577361}, {\"activity\": 0.002271712435811565}, {\"activity\": 0.0030754632730520207}, {\"activity\": 0.0019870506809555703}, {\"activity\": 6.697923643670462e-05}, {\"activity\": 0.0014791248046438937}, {\"activity\": 0.002824291136414378}, {\"activity\": 0.0009488725161866488}, {\"activity\": 0.00010046885465505693}, {\"activity\": 0.003974101361911141}, {\"activity\": 0.0010660861799508818}, {\"activity\": 0.002467068542085287}, {\"activity\": 0.001624246483590087}, {\"activity\": 0.00029582496092877875}, {\"activity\": 5.581603036392051e-06}, {\"activity\": 0.003432685867381112}, {\"activity\": 0.0030643000669792362}, {\"activity\": 0.0007925876311676714}, {\"activity\": 0.0019591426657736104}, {\"activity\": 0.0003014065639651708}, {\"activity\": 0.0030587184639428444}, {\"activity\": 0.0010828309890600582}, {\"activity\": 0.0007925876311676714}, {\"activity\": 0.0007925876311676714}, {\"activity\": 0.0009488725161866488}, {\"activity\": 0.00345501227952668}, {\"activity\": 0.0004521098459477562}, {\"activity\": 0.0017805313686090646}, {\"activity\": 0.0017637865594998883}, {\"activity\": 0.0040299173922750614}, {\"activity\": 0.0008539852645679839}, {\"activity\": 0.004242018307657959}, {\"activity\": 0.003226166555034606}, {\"activity\": 0.0012670238892609957}, {\"activity\": 0.0020037954900647467}, {\"activity\": 0.0015963384684081268}, {\"activity\": 0.0009377093101138647}, {\"activity\": 0.0056653270819379325}, {\"activity\": 0.00023442732752846618}, {\"activity\": 0.0012056262558606831}, {\"activity\": 0.0020931011386470196}, {\"activity\": 0.0032540745702165663}, {\"activity\": 0.0016912257200267916}, {\"activity\": 0.0007032819825853985}, {\"activity\": 0.0026680062513954007}, {\"activity\": 0.000753516409912927}, {\"activity\": 0.0017470417503907122}, {\"activity\": 0.0023275284661754855}, {\"activity\": 0.0013005135074793481}, {\"activity\": 0.0018865818263005135}, {\"activity\": 0.0006921187765126144}, {\"activity\": 0.0011498102254967626}, {\"activity\": 0.0034885018977450326}, {\"activity\": 5.581603036392052e-05}, {\"activity\": 0.0012726054922973878}, {\"activity\": 0.000976780531368609}, {\"activity\": 0.0012726054922973878}, {\"activity\": 0.00010605045769144898}, {\"activity\": 4.465282429113641e-05}, {\"activity\": 0.0009098012949319044}, {\"activity\": 0.0014233087742799731}, {\"activity\": 0.0008204956463496317}, {\"activity\": 0.0029694128153605714}, {\"activity\": 0.0008930564858227283}, {\"activity\": 0.0016019200714445189}, {\"activity\": 0.0013284215226613083}, {\"activity\": 2.790801518196026e-05}, {\"activity\": 0.002813127930341594}, {\"activity\": 0.00345501227952668}, {\"activity\": 0.0007590980129493191}, {\"activity\": 0.0024391605269033266}, {\"activity\": 0.003544317928108953}, {\"activity\": 0.0004242018307657959}, {\"activity\": 0.00046885465505693236}, {\"activity\": 0.002388926099575798}, {\"activity\": 0.0011163206072784104}, {\"activity\": 0.0014902880107166777}, {\"activity\": 0.0011051574012056263}, {\"activity\": 0.0014456351864255415}, {\"activity\": 0.004191783880330431}, {\"activity\": 0.004521098459477562}, {\"activity\": 0.0037340924313462825}, {\"activity\": 0.00035164099129269925}, {\"activity\": 0.0015181960258986381}, {\"activity\": 0.001936816253628042}, {\"activity\": 0.00323732976110739}, {\"activity\": 0.0011274838133511944}, {\"activity\": 0.002171243581156508}, {\"activity\": 0.0010716677829872739}, {\"activity\": 0.00014512167894619336}, {\"activity\": 0.0001395400759098013}, {\"activity\": 0.001964724268810002}, {\"activity\": 0.001194463049787899}, {\"activity\": 0.0006363027461486939}, {\"activity\": 0.0030475552578700603}, {\"activity\": 0.001719133735208752}, {\"activity\": 0.000965617325295825}, {\"activity\": 0.0014679615985711096}, {\"activity\": 0.003025228845724492}, {\"activity\": 0.0010046885465505692}, {\"activity\": 0.002695914266577361}, {\"activity\": 0.003248492967180174}, {\"activity\": 0.0028410359455235544}, {\"activity\": 0.00389037731636526}, {\"activity\": 0.005464389372627818}, {\"activity\": 0.0035722259432909133}, {\"activity\": 0.001417727171243581}, {\"activity\": 0.0008763116767135521}, {\"activity\": 0.0004632730520205403}, {\"activity\": 0.002595445411922304}, {\"activity\": 0.0016409912926992633}, {\"activity\": 0.002048448314355883}, {\"activity\": 0.001635409689662871}, {\"activity\": 0.00043536503683858004}, {\"activity\": 0.0010493413708417057}, {\"activity\": 0.003226166555034606}, {\"activity\": 0.0017916945746818487}, {\"activity\": 0.0009042196918955124}, {\"activity\": 0.0009265461040410806}, {\"activity\": 0.000982362134405001}, {\"activity\": 0.0017023889260995757}, {\"activity\": 0.0011274838133511944}, {\"activity\": 0.003929448537620004}, {\"activity\": 0.004839249832551909}, {\"activity\": 0.0008539852645679839}, {\"activity\": 0.0029303415941058274}, {\"activity\": 0.0010381781647689217}, {\"activity\": 0.0014456351864255415}, {\"activity\": 0.003360125027908015}, {\"activity\": 0.001395400759098013}, {\"activity\": 0.00037396740343826745}, {\"activity\": 0.0007144451886581826}, {\"activity\": 0.0022326412145568207}, {\"activity\": 0.0029805760214333555}, {\"activity\": 0.0018754186202277294}, {\"activity\": 0.0024112525117213662}, {\"activity\": 0.0018140209868274168}, {\"activity\": 0.0005525787006028131}, {\"activity\": 0.0003348961821835231}, {\"activity\": 0.0031647689216342933}, {\"activity\": 0.0019591426657736104}, {\"activity\": 0.002238222817593213}, {\"activity\": 0.0008707300736771601}, {\"activity\": 0.0017805313686090646}, {\"activity\": 0.0034940835007814244}, {\"activity\": 0.0024224157177941503}, {\"activity\": 0.002400089305648582}, {\"activity\": 0.002913596784996651}, {\"activity\": 9.488725161866488e-05}, {\"activity\": 9.488725161866488e-05}, {\"activity\": 0.0009321277070774727}, {\"activity\": 0.0010046885465505692}, {\"activity\": 0.00214891716901094}, {\"activity\": 0.0014344719803527574}, {\"activity\": 0.0014567983924983255}, {\"activity\": 0.002037285108283099}, {\"activity\": 0.0007032819825853985}, {\"activity\": 0.00171355213217236}, {\"activity\": 0.0034047778521991514}, {\"activity\": 0.0017358785443179281}, {\"activity\": 0.003041973654833668}, {\"activity\": 0.0024503237329761107}, {\"activity\": 0.001624246483590087}, {\"activity\": 0.0030643000669792362}, {\"activity\": 0.00012279526680062514}, {\"activity\": 0.0009991069435141772}, {\"activity\": 0.0038178164768921633}, {\"activity\": 0.00345501227952668}, {\"activity\": 0.0003014065639651708}, {\"activity\": 0.002054029917392275}, {\"activity\": 0.0005246706854208529}, {\"activity\": 0.0006530475552578701}, {\"activity\": 0.002070774726501451}, {\"activity\": 0.0006474659522214781}, {\"activity\": 0.0003014065639651708}, {\"activity\": 0.0008037508372404555}, {\"activity\": 0.0033657066309444074}, {\"activity\": 0.0004521098459477562}, {\"activity\": 0.002081937932574235}, {\"activity\": 0.00037954900647465953}, {\"activity\": 0.0011051574012056263}, {\"activity\": 0.001719133735208752}, {\"activity\": 0.0006363027461486939}, {\"activity\": 0.0015963384684081268}, {\"activity\": 0.00410805983478455}, {\"activity\": 0.0035275731189997766}, {\"activity\": 0.00026233534271042643}, {\"activity\": 0.0016633177048448315}, {\"activity\": 0.002494976557267247}, {\"activity\": 0.0021768251841929004}, {\"activity\": 0.001825184192900201}, {\"activity\": 0.0020986827416834115}, {\"activity\": 0.002377762893503014}, {\"activity\": 0.002054029917392275}, {\"activity\": 0.00043536503683858004}, {\"activity\": 0.00031815137307434694}, {\"activity\": 0.0025452109845947755}, {\"activity\": 0.0019926322839919626}, {\"activity\": 0.002813127930341594}, {\"activity\": 0.001953561062737218}, {\"activity\": 0.0022047331993748603}, {\"activity\": 0.0024503237329761107}, {\"activity\": 0.0031870953337798614}, {\"activity\": 0.0005916499218575575}, {\"activity\": 0.001188881446751507}, {\"activity\": 0.0026791694574681848}, {\"activity\": 0.004375976780531369}, {\"activity\": 0.002059611520428667}, {\"activity\": 0.002913596784996651}, {\"activity\": 0.0008484036615315918}, {\"activity\": 0.0028187095333779863}, {\"activity\": 0.0031145344943067648}, {\"activity\": 0.0012446974771154276}, {\"activity\": 0.0009935253404777852}, {\"activity\": 0.0011330654163875865}, {\"activity\": 0.000965617325295825}, {\"activity\": 5.581603036392052e-05}, {\"activity\": 0.0021321723599017637}, {\"activity\": 0.0022438044206296048}, {\"activity\": 0.001607501674480911}, {\"activity\": 0.0007870060281312793}, {\"activity\": 0.0007479348068765349}, {\"activity\": 0.001613083277517303}, {\"activity\": 0.003661531591873186}, {\"activity\": 0.001183299843715115}, {\"activity\": 0.0016409912926992633}, {\"activity\": 0.0034103594552355437}, {\"activity\": 0.0007702612190221031}, {\"activity\": 0.002126590756865372}, {\"activity\": 0.0005637419066755972}, {\"activity\": 0.0007311899977673588}, {\"activity\": 0.0012781870953337798}, {\"activity\": 0.0019870506809555703}, {\"activity\": 0.0010437597678053137}, {\"activity\": 0.0002567537396740344}, {\"activity\": 0.0008372404554588078}, {\"activity\": 0.0015795936592989507}, {\"activity\": 0.0035387363250725607}, {\"activity\": 0.0027628935030140655}, {\"activity\": 0.000982362134405001}, {\"activity\": 0.0019591426657736104}, {\"activity\": 0.0007758428220584952}, {\"activity\": 0.0005190890823844608}, {\"activity\": 0.0025117213663764233}, {\"activity\": 0.0017861129716454567}, {\"activity\": 0.0002790801518196026}, {\"activity\": 0.002160080375083724}, {\"activity\": 0.0007758428220584952}, {\"activity\": 0.001947979459700826}, {\"activity\": 0.0006028131279303416}, {\"activity\": 0.002031703505246707}, {\"activity\": 0.0008093324402768475}, {\"activity\": 0.00045769144898414823}, {\"activity\": 0.0032038401428890377}, {\"activity\": 0.0016577361018084394}, {\"activity\": 0.0007590980129493191}, {\"activity\": 0.003840142889037732}, {\"activity\": 0.0005860683188211655}, {\"activity\": 5.581603036392051e-06}, {\"activity\": 0.0005525787006028131}, {\"activity\": 0.001936816253628042}, {\"activity\": 0.001947979459700826}, {\"activity\": 5.581603036392051e-06}, {\"activity\": 0.0008986380888591204}, {\"activity\": 0.002266130832775173}, {\"activity\": 0.0009879437374413931}, {\"activity\": 0.0017693681625362803}, {\"activity\": 0.0022214780084840366}, {\"activity\": 0.001406563965170797}, {\"activity\": 0.0022270596115204285}, {\"activity\": 0.003120116097343157}, {\"activity\": 0.0007814244250948872}, {\"activity\": 0.0011665550346059389}, {\"activity\": 0.0008372404554588078}, {\"activity\": 0.001925653047555258}, {\"activity\": 0.0009935253404777852}, {\"activity\": 0.0008484036615315918}, {\"activity\": 0.002444742129939719}, {\"activity\": 0.0009488725161866488}, {\"activity\": 0.0012558606831882117}, {\"activity\": 0.00214891716901094}, {\"activity\": 0.001077249386023666}, {\"activity\": 0.004074570216566198}, {\"activity\": 0.0018865818263005135}, {\"activity\": 0.0007814244250948872}, {\"activity\": 0.0018586738111185533}, {\"activity\": 0.0002846617548559946}, {\"activity\": 0.0027628935030140655}, {\"activity\": 0.0015572672471533824}, {\"activity\": 0.0009153828979682965}, {\"activity\": 5.581603036392052e-05}, {\"activity\": 0.0013005135074793481}, {\"activity\": 0.004738780977896852}, {\"activity\": 0.0007479348068765349}, {\"activity\": 0.0013395847287340924}, {\"activity\": 0.003762000446528243}, {\"activity\": 1.1163206072784103e-05}, {\"activity\": 0.003226166555034606}, {\"activity\": 0.0007367716008037508}, {\"activity\": 0.0009991069435141772}, {\"activity\": 0.0018921634293369055}, {\"activity\": 2.2326412145568206e-05}, {\"activity\": 0.003521991515963385}, {\"activity\": 0.0014512167894619335}, {\"activity\": 0.0017358785443179281}, {\"activity\": 0.0010046885465505692}, {\"activity\": 0.002651261442286225}, {\"activity\": 0.000971198928332217}, {\"activity\": 0.004018754186202277}, {\"activity\": 0.0015461040410805983}, {\"activity\": 0.0026233534271042644}, {\"activity\": 0.0010046885465505692}, {\"activity\": 0.003131279303415941}, {\"activity\": 0.0012837686983701718}, {\"activity\": 0.0019703058718463944}, {\"activity\": 0.0027405670908684974}, {\"activity\": 0.0006809555704398304}, {\"activity\": 0.0014902880107166777}, {\"activity\": 0.0027684751060504578}, {\"activity\": 0.0015795936592989507}, {\"activity\": 0.0021433355659745477}, {\"activity\": 0.0005749051127483813}, {\"activity\": 0.0036168787675820496}, {\"activity\": 0.00017861129716454564}, {\"activity\": 0.0006083947309667336}, {\"activity\": 0.0010549229738780978}, {\"activity\": 0.0001953561062737218}, {\"activity\": 0.0034047778521991514}, {\"activity\": 0.0025563741906675596}, {\"activity\": 0.0015795936592989507}, {\"activity\": 0.0017972761777182407}, {\"activity\": 1.1163206072784103e-05}, {\"activity\": 0.002997320830542532}, {\"activity\": 0.0009265461040410806}, {\"activity\": 0.0004242018307657959}, {\"activity\": 0.001395400759098013}, {\"activity\": 0.0011498102254967626}, {\"activity\": 0.0021656619781201163}, {\"activity\": 0.0025898638088859122}, {\"activity\": 0.002048448314355883}, {\"activity\": 0.001607501674480911}, {\"activity\": 0.003918285331547221}, {\"activity\": 0.002054029917392275}, {\"activity\": 0.00026791694574681847}, {\"activity\": 0.0021879883902656844}, {\"activity\": 0.0013172583165885242}, {\"activity\": 0.0013507479348068765}, {\"activity\": 0.0016577361018084394}, {\"activity\": 0.00022884572449207412}, {\"activity\": 0.0001841929002009377}, {\"activity\": 0.0034885018977450326}, {\"activity\": 0.0029582496092877874}, {\"activity\": 0.0007311899977673588}, {\"activity\": 0.0003014065639651708}, {\"activity\": 0.000865148470640768}, {\"activity\": 0.0012167894619334672}, {\"activity\": 0.0001953561062737218}, {\"activity\": 0.0022438044206296048}, {\"activity\": 0.00027349854878321055}, {\"activity\": 0.002042866711319491}, {\"activity\": 0.0013284215226613083}, {\"activity\": 0.0010493413708417057}, {\"activity\": 9.488725161866488e-05}, {\"activity\": 0.0021433355659745477}, {\"activity\": 0.0006474659522214781}, {\"activity\": 0.0003962938155838357}, {\"activity\": 4.465282429113641e-05}, {\"activity\": 0.0032038401428890377}, {\"activity\": 0.0017526233534271042}, {\"activity\": 0.003371288233980799}, {\"activity\": 0.0005079258763116768}, {\"activity\": 0.0019591426657736104}, {\"activity\": 0.001412145568207189}, {\"activity\": 0.0008763116767135521}, {\"activity\": 0.0021154275507925878}, {\"activity\": 0.0006363027461486939}, {\"activity\": 0.0022047331993748603}, {\"activity\": 0.0006474659522214781}, {\"activity\": 0.004850413038624693}, {\"activity\": 0.001395400759098013}, {\"activity\": 0.0005414154945300291}, {\"activity\": 0.001624246483590087}, {\"activity\": 0.001400982362134405}, {\"activity\": 0.0023386916722482696}, {\"activity\": 0.001177718240678723}, {\"activity\": 0.0024279973208305426}, {\"activity\": 0.0020763563295378433}, {\"activity\": 0.0029694128153605714}, {\"activity\": 0.0017358785443179281}, {\"activity\": 0.0012726054922973878}, {\"activity\": 0.0014623799955347176}, {\"activity\": 0.0012279526680062515}, {\"activity\": 0.0005749051127483813}, {\"activity\": 2.790801518196026e-05}, {\"activity\": 0.003248492967180174}, {\"activity\": 0.0028745255637419066}, {\"activity\": 0.002238222817593213}, {\"activity\": 0.00010605045769144898}, {\"activity\": 7.814244250948873e-05}, {\"activity\": 0.000429783433802188}, {\"activity\": 0.0010158517526233535}, {\"activity\": 0.0017079705291359677}, {\"activity\": 0.0004744362580933244}, {\"activity\": 0.0014400535833891494}, {\"activity\": 0.0013619111408796607}, {\"activity\": 0.002238222817593213}, {\"activity\": 0.0004018754186202277}, {\"activity\": 0.0022270596115204285}, {\"activity\": 0.0019758874748827863}, {\"activity\": 0.0027461486939048896}, {\"activity\": 0.0035164099129269925}, {\"activity\": 0.0009432909131502567}, {\"activity\": 0.004749944183969636}, {\"activity\": 0.0019144898414824737}, {\"activity\": 0.0010884125920964502}, {\"activity\": 0.000865148470640768}, {\"activity\": 0.0004855994641661085}, {\"activity\": 0.0009098012949319044}, {\"activity\": 0.0028410359455235544}, {\"activity\": 0.0014288903773163652}, {\"activity\": 0.002299620450993525}, {\"activity\": 0.0005972315248939495}, {\"activity\": 0.001953561062737218}, {\"activity\": 0.0023107836570663096}, {\"activity\": 0.0021879883902656844}, {\"activity\": 0.0017079705291359677}, {\"activity\": 0.0005637419066755972}, {\"activity\": 0.0012335342710426435}, {\"activity\": 0.0005469970975664211}, {\"activity\": 0.0006697923643670462}, {\"activity\": 0.001512614422862246}, {\"activity\": 0.0004632730520205403}, {\"activity\": 0.001841929002009377}, {\"activity\": 0.0006921187765126144}, {\"activity\": 0.0011107390042420183}, {\"activity\": 0.001635409689662871}, {\"activity\": 0.0005246706854208529}, {\"activity\": 0.001936816253628042}, {\"activity\": 0.0017861129716454567}, {\"activity\": 0.0016019200714445189}, {\"activity\": 0.0008707300736771601}, {\"activity\": 0.0027852199151596336}, {\"activity\": 8.372404554588077e-05}, {\"activity\": 0.0016744809109176155}, {\"activity\": 0.0009098012949319044}, {\"activity\": 0.0019758874748827863}, {\"activity\": 0.0017079705291359677}, {\"activity\": 0.0018140209868274168}, {\"activity\": 0.00027349854878321055}, {\"activity\": 0.0019144898414824737}, {\"activity\": 0.0028968519758874748}, {\"activity\": 0.0038624693011833}, {\"activity\": 0.0008260772493860237}, {\"activity\": 0.0020931011386470196}, {\"activity\": 1.6744809109176154e-05}, {\"activity\": 0.0009042196918955124}, {\"activity\": 0.000753516409912927}, {\"activity\": 0.002260549229738781}, {\"activity\": 0.0009042196918955124}, {\"activity\": 0.002154498772047332}, {\"activity\": 0.0013674927439160528}, {\"activity\": 0.0009432909131502567}, {\"activity\": 0.0006363027461486939}, {\"activity\": 0.0033880330430899755}, {\"activity\": 0.0018140209868274168}, {\"activity\": 0.004219691895512391}, {\"activity\": 0.0010214333556597456}, {\"activity\": 0.0012112078588970752}, {\"activity\": 0.0017526233534271042}, {\"activity\": 0.0004018754186202277}, {\"activity\": 0.0002790801518196026}, {\"activity\": 0.004236436704621567}, {\"activity\": 0.0015293592319714222}, {\"activity\": 0.0003683858004018754}, {\"activity\": 0.003326635409689663}, {\"activity\": 0.00017861129716454564}, {\"activity\": 0.003041973654833668}, {\"activity\": 0.0013340031256977004}, {\"activity\": 0.0008428220584951998}, {\"activity\": 0.000859566867604376}, {\"activity\": 0.0010102701495869613}, {\"activity\": 0.0024614869390488948}, {\"activity\": 0.0011107390042420183}, {\"activity\": 0.0005190890823844608}, {\"activity\": 6.697923643670462e-05}, {\"activity\": 0.0002567537396740344}, {\"activity\": 0.0004018754186202277}, {\"activity\": 0.0017023889260995757}, {\"activity\": 0.0008763116767135521}, {\"activity\": 0.0007646796159857111}, {\"activity\": 0.0006251395400759098}, {\"activity\": 0.0014791248046438937}, {\"activity\": 0.0019982138870283544}, {\"activity\": 0.00012279526680062514}, {\"activity\": 0.00011721366376423309}, {\"activity\": 0.0005302522884572449}, {\"activity\": 0.0004186202277294039}, {\"activity\": 0.00043536503683858004}, {\"activity\": 0.00022326412145568208}, {\"activity\": 0.0012726054922973878}, {\"activity\": 0.0007646796159857111}, {\"activity\": 0.0021656619781201163}, {\"activity\": 0.002037285108283099}, {\"activity\": 0.001194463049787899}, {\"activity\": 0.0025563741906675596}, {\"activity\": 0.0005749051127483813}, {\"activity\": 0.0027684751060504578}, {\"activity\": 0.0009935253404777852}, {\"activity\": 0.0028745255637419066}, {\"activity\": 0.00015628488501897745}, {\"activity\": 0.001724715338245144}, {\"activity\": 0.0006865371734762224}, {\"activity\": 0.0001730296941281536}, {\"activity\": 0.00013395847287340923}, {\"activity\": 0.0004800178611297165}, {\"activity\": 0.0008037508372404555}, {\"activity\": 0.0013172583165885242}, {\"activity\": 0.00046885465505693236}, {\"activity\": 0.0015851752623353428}, {\"activity\": 0.0006251395400759098}, {\"activity\": 0.002288457244920741}, {\"activity\": 0.000960035722259433}, {\"activity\": 0.002238222817593213}, {\"activity\": 0.00011721366376423309}, {\"activity\": 0.0023163652601027014}, {\"activity\": 0.0012670238892609957}, {\"activity\": 2.2326412145568206e-05}, {\"activity\": 0.0006586291582942621}, {\"activity\": 0.001607501674480911}, {\"activity\": 0.00045769144898414823}, {\"activity\": 0.0005190890823844608}, {\"activity\": 0.003220584951998214}, {\"activity\": 0.0027628935030140655}, {\"activity\": 0.0012949319044429561}, {\"activity\": 0.0012446974771154276}, {\"activity\": 0.0005135074793480688}, {\"activity\": 0.0007925876311676714}, {\"activity\": 0.0011609734315695468}, {\"activity\": 0.0014288903773163652}, {\"activity\": 0.0006083947309667336}, {\"activity\": 0.0010102701495869613}, {\"activity\": 0.0002846617548559946}, {\"activity\": 3.348961821835231e-05}, {\"activity\": 0.0022828756418843492}, {\"activity\": 5.581603036392052e-05}, {\"activity\": 0.003449430676490288}, {\"activity\": 5.581603036392051e-06}, {\"activity\": 0.0016409912926992633}, {\"activity\": 0.0003907122125474436}, {\"activity\": 0.0026345166331770485}, {\"activity\": 0.00035164099129269925}, {\"activity\": 0.002824291136414378}, {\"activity\": 0.0007367716008037508}, {\"activity\": 0.001920071444518866}, {\"activity\": 0.0013172583165885242}, {\"activity\": 5.581603036392051e-06}, {\"activity\": 0.0006474659522214781}, {\"activity\": 0.0008260772493860237}, {\"activity\": 0.0016912257200267916}, {\"activity\": 0.0031647689216342933}, {\"activity\": 0.0009042196918955124}, {\"activity\": 0.0015963384684081268}, {\"activity\": 0.0011386470194239785}, {\"activity\": 0.0021656619781201163}, {\"activity\": 0.000859566867604376}, {\"activity\": 0.0006139763340031257}, {\"activity\": 0.0005525787006028131}, {\"activity\": 0.0005079258763116768}, {\"activity\": 0.0003683858004018754}, {\"activity\": 0.0031480241125251174}, {\"activity\": 0.0005860683188211655}, {\"activity\": 5.581603036392051e-06}, {\"activity\": 2.2326412145568206e-05}, {\"activity\": 3.348961821835231e-05}, {\"activity\": 5.581603036392051e-06}, {\"activity\": 0.0004632730520205403}]}}, {\"mode\": \"vega-lite\"});\n",
       "</script>"
      ],
      "text/plain": [
       "alt.Chart(...)"
      ]
     },
     "metadata": {},
     "output_type": "display_data"
    }
   ],
   "source": [
    "\n",
    "for max_date in [\n",
    "    pd.Timestamp(\"2021-04-08\"),\n",
    "    pd.Timestamp(\"2021-03-25\"),\n",
    "    pd.Timestamp(\"2021-03-19\"),\n",
    "]:\n",
    "    df = pd.read_csv(\"../data/copenhagen_agg.csv\", parse_dates=[\"time\"])\n",
    "    df = df[df[\"time\"] <= max_date]\n",
    "    idf = pd.Series(\n",
    "        sorted(set(df[\"source\"].to_list()) | set(df[\"destination\"].to_list()))\n",
    "    ).to_frame(name=\"id\")\n",
    "    merged = (\n",
    "        pd.merge(\n",
    "            df.rename(columns={\"source\": \"id\"}).groupby(\"id\").count(),\n",
    "            df.rename(columns={\"destination\": \"id\"}).groupby(\"id\").count(),\n",
    "            left_index=True,\n",
    "            right_index=True,\n",
    "            how=\"outer\",\n",
    "        )\n",
    "        .fillna(0)\n",
    "    )\n",
    "    merged[\"activity\"] = merged[\"destination\"] + merged[\"source\"]\n",
    "    merged = merged / merged.sum()\n",
    "    zeroes = pd.merge(idf, merged, left_on=\"id\", right_index=True, how=\"left\").fillna(0)[[\"activity\"]]\n",
    "    chart = (alt.Chart(zeroes)\n",
    "        .mark_bar(color=\"#92c5de\")\n",
    "        .encode(\n",
    "            x=alt.X(\n",
    "                \"activity:Q\",\n",
    "                bin=alt.Bin(extent=[0, 0.006], step=0.0005),\n",
    "                title=\"Activity Potential (Binned)\",\n",
    "            ),\n",
    "            y=alt.Y(\"count(activity)\", title=\"Nodes\", scale=alt.Scale(domain=(0, 300))),\n",
    "        )\n",
    "        .configure_axis(labelFontSize=14, titleFontSize=20)\n",
    "    )\n",
    "    display(chart)\n",
    "    # chart.save(f\"{str(max_date)}.html\")"
   ]
  },
  {
   "cell_type": "code",
   "execution_count": 169,
   "metadata": {},
   "outputs": [
    {
     "data": {
      "text/plain": [
       "Timestamp('2021-03-25 00:00:00')"
      ]
     },
     "execution_count": 169,
     "metadata": {},
     "output_type": "execute_result"
    }
   ],
   "source": [
    "pd.Timestamp('2021-03-25')"
   ]
  },
  {
   "cell_type": "code",
   "execution_count": 170,
   "metadata": {},
   "outputs": [
    {
     "data": {
      "text/plain": [
       "Timestamp('2021-03-21 00:00:00')"
      ]
     },
     "execution_count": 170,
     "metadata": {},
     "output_type": "execute_result"
    }
   ],
   "source": [
    "pd.to_datetime(\"2021-04-08\") - pd.to_timedelta(\"18D\") #pd.to_datetime(\"2021-04-08\")"
   ]
  },
  {
   "cell_type": "code",
   "execution_count": 134,
   "metadata": {},
   "outputs": [
    {
     "data": {
      "text/html": [
       "<div>\n",
       "<style scoped>\n",
       "    .dataframe tbody tr th:only-of-type {\n",
       "        vertical-align: middle;\n",
       "    }\n",
       "\n",
       "    .dataframe tbody tr th {\n",
       "        vertical-align: top;\n",
       "    }\n",
       "\n",
       "    .dataframe thead th {\n",
       "        text-align: right;\n",
       "    }\n",
       "</style>\n",
       "<table border=\"1\" class=\"dataframe\">\n",
       "  <thead>\n",
       "    <tr style=\"text-align: right;\">\n",
       "      <th></th>\n",
       "      <th>duration</th>\n",
       "      <th>time</th>\n",
       "      <th>source</th>\n",
       "      <th>destination</th>\n",
       "    </tr>\n",
       "  </thead>\n",
       "  <tbody>\n",
       "    <tr>\n",
       "      <th>0</th>\n",
       "      <td>175</td>\n",
       "      <td>2021-03-12 00:00:00</td>\n",
       "      <td>249</td>\n",
       "      <td>530</td>\n",
       "    </tr>\n",
       "    <tr>\n",
       "      <th>1</th>\n",
       "      <td>30</td>\n",
       "      <td>2021-03-12 00:00:00</td>\n",
       "      <td>221</td>\n",
       "      <td>263</td>\n",
       "    </tr>\n",
       "    <tr>\n",
       "      <th>2</th>\n",
       "      <td>230</td>\n",
       "      <td>2021-03-12 00:00:00</td>\n",
       "      <td>568</td>\n",
       "      <td>599</td>\n",
       "    </tr>\n",
       "    <tr>\n",
       "      <th>3</th>\n",
       "      <td>45</td>\n",
       "      <td>2021-03-12 00:00:00</td>\n",
       "      <td>48</td>\n",
       "      <td>49</td>\n",
       "    </tr>\n",
       "    <tr>\n",
       "      <th>4</th>\n",
       "      <td>20</td>\n",
       "      <td>2021-03-12 00:00:00</td>\n",
       "      <td>170</td>\n",
       "      <td>390</td>\n",
       "    </tr>\n",
       "    <tr>\n",
       "      <th>...</th>\n",
       "      <td>...</td>\n",
       "      <td>...</td>\n",
       "      <td>...</td>\n",
       "      <td>...</td>\n",
       "    </tr>\n",
       "    <tr>\n",
       "      <th>446154</th>\n",
       "      <td>5</td>\n",
       "      <td>2021-04-08 23:55:00</td>\n",
       "      <td>138</td>\n",
       "      <td>490</td>\n",
       "    </tr>\n",
       "    <tr>\n",
       "      <th>446155</th>\n",
       "      <td>5</td>\n",
       "      <td>2021-04-08 23:55:00</td>\n",
       "      <td>206</td>\n",
       "      <td>560</td>\n",
       "    </tr>\n",
       "    <tr>\n",
       "      <th>446156</th>\n",
       "      <td>5</td>\n",
       "      <td>2021-04-08 23:55:00</td>\n",
       "      <td>71</td>\n",
       "      <td>561</td>\n",
       "    </tr>\n",
       "    <tr>\n",
       "      <th>446157</th>\n",
       "      <td>5</td>\n",
       "      <td>2021-04-08 23:55:00</td>\n",
       "      <td>194</td>\n",
       "      <td>371</td>\n",
       "    </tr>\n",
       "    <tr>\n",
       "      <th>446158</th>\n",
       "      <td>5</td>\n",
       "      <td>2021-04-08 23:55:00</td>\n",
       "      <td>371</td>\n",
       "      <td>702</td>\n",
       "    </tr>\n",
       "  </tbody>\n",
       "</table>\n",
       "<p>446159 rows × 4 columns</p>\n",
       "</div>"
      ],
      "text/plain": [
       "        duration                time  source  destination\n",
       "0            175 2021-03-12 00:00:00     249          530\n",
       "1             30 2021-03-12 00:00:00     221          263\n",
       "2            230 2021-03-12 00:00:00     568          599\n",
       "3             45 2021-03-12 00:00:00      48           49\n",
       "4             20 2021-03-12 00:00:00     170          390\n",
       "...          ...                 ...     ...          ...\n",
       "446154         5 2021-04-08 23:55:00     138          490\n",
       "446155         5 2021-04-08 23:55:00     206          560\n",
       "446156         5 2021-04-08 23:55:00      71          561\n",
       "446157         5 2021-04-08 23:55:00     194          371\n",
       "446158         5 2021-04-08 23:55:00     371          702\n",
       "\n",
       "[446159 rows x 4 columns]"
      ]
     },
     "execution_count": 134,
     "metadata": {},
     "output_type": "execute_result"
    }
   ],
   "source": []
  },
  {
   "cell_type": "code",
   "execution_count": 128,
   "metadata": {},
   "outputs": [
    {
     "data": {
      "text/plain": [
       "{1, 2, 3}"
      ]
     },
     "execution_count": 128,
     "metadata": {},
     "output_type": "execute_result"
    }
   ],
   "source": [
    "{1, 2} | {2,3}"
   ]
  },
  {
   "cell_type": "code",
   "execution_count": 108,
   "metadata": {},
   "outputs": [
    {
     "data": {
      "text/plain": [
       "0.9999999999999999"
      ]
     },
     "execution_count": 108,
     "metadata": {},
     "output_type": "execute_result"
    }
   ],
   "source": []
  },
  {
   "cell_type": "code",
   "execution_count": null,
   "metadata": {},
   "outputs": [],
   "source": [
    "for path in glob(\"data/random_undirected_er*.csv\"):\n",
    "    df = pd.read_csv(path)\n",
    "    df[\"datetime\"] = pd.to_datetime(\"1995-03-10\") + (df[\"datetime\"] * pd.to_timedelta(\"5m\"))\n",
    "    new_path = f\"random_undirected_{('disjoint' if 'disjoint' in path else 'random')}_{'_'.join(path.split('_')[7:11])}.csv\"\n",
    "    df.to_csv(new_path, index=False)\n"
   ]
  },
  {
   "cell_type": "code",
   "execution_count": null,
   "metadata": {},
   "outputs": [],
   "source": []
  }
 ],
 "metadata": {
  "kernelspec": {
   "display_name": "Python 3.10.5 ('covid')",
   "language": "python",
   "name": "python3"
  },
  "language_info": {
   "codemirror_mode": {
    "name": "ipython",
    "version": 3
   },
   "file_extension": ".py",
   "mimetype": "text/x-python",
   "name": "python",
   "nbconvert_exporter": "python",
   "pygments_lexer": "ipython3",
   "version": "3.10.11"
  },
  "orig_nbformat": 4,
  "vscode": {
   "interpreter": {
    "hash": "d52f8c9e3881dc5b23d4483a13a23a3f5895f5386cbaf731d559a9004583ada9"
   }
  }
 },
 "nbformat": 4,
 "nbformat_minor": 2
}
