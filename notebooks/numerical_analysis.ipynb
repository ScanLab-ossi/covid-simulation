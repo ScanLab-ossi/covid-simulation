{
 "cells": [
  {
   "cell_type": "code",
   "execution_count": 1,
   "metadata": {},
   "outputs": [],
   "source": [
    "from typing import Tuple\n",
    "from pathlib import Path\n",
    "\n",
    "import numpy as np\n",
    "import pandas as pd\n",
    "import matplotlib.pyplot as plt\n",
    "import altair as alt\n",
    "from scipy.optimize import curve_fit\n",
    "from scipy.stats import rv_continuous\n",
    "import plotly.graph_objects as go\n",
    "from tqdm import tqdm\n",
    "\n",
    "rng = np.random.default_rng()\n",
    "\n",
    "DATA_FOLDER = Path(\"../data\").resolve()\n",
    "OUTPUT_FOLDER = Path(\"../output\").resolve()"
   ]
  },
  {
   "cell_type": "code",
   "execution_count": 2,
   "metadata": {},
   "outputs": [],
   "source": [
    "def power_law(x: np.array, a: float, b: float) -> np.array:\n",
    "    return a * np.power(x, b)\n",
    "\n",
    "\n",
    "def show_fit(x: pd.Series, y: pd.Series, pars: Tuple[float, float]):\n",
    "    fig, ax = plt.subplots(1, 1)\n",
    "    ax.scatter(x, y, color=\"#00b3b3\", label=\"Data\")\n",
    "    ax.plot(x, power_law(x, *pars), linestyle=\"--\", linewidth=2, color=\"green\")\n",
    "    fig.show()\n",
    "\n",
    "\n",
    "class FittedPowerlaw(rv_continuous):\n",
    "    def __init__(self, x: pd.Series, y: pd.Series):\n",
    "        super().__init__(a=0)\n",
    "        self.pars, self.cov = curve_fit(f=power_law, xdata=x, ydata=y, p0=[0, 0])\n",
    "\n",
    "    def _pdf(self, x: np.array) -> np.array:\n",
    "        a, b = self.pars\n",
    "        return power_law(x, a, b)\n",
    "\n",
    "    def show_sample(self):\n",
    "        sample = pd.DataFrame(self.rvs(size=2000))\n",
    "        return sample.plot.hist(bins=50)\n"
   ]
  },
  {
   "cell_type": "code",
   "execution_count": 3,
   "metadata": {},
   "outputs": [],
   "source": [
    "def split(df, divide):\n",
    "    l = []\n",
    "    for i, d in enumerate([x[1] for x in df.resample(f\"{1440//divide}min\", on=\"datetime\")]):\n",
    "        l.append(d.assign(datetime=i))\n",
    "    return pd.concat(l)"
   ]
  },
  {
   "cell_type": "code",
   "execution_count": 4,
   "metadata": {},
   "outputs": [],
   "source": [
    "def group_exposures(df:pd.DataFrame) -> Tuple[pd.Series, pd.Series]:\n",
    "    # meetings per person per day\n",
    "    # df = split(df,2)\n",
    "    df[\"datetime\"] = df[\"datetime\"].dt.floor(\"d\")\n",
    "    df = df.append(\n",
    "        df.rename(columns={\"source\": \"destination\", \"destination\": \"source\"})\n",
    "    ).reset_index(drop=True)\n",
    "    df = (\n",
    "        df.groupby([\"source\", \"datetime\"])[\"destination\"]\n",
    "        .size()\n",
    "        .reset_index(drop=True)\n",
    "        .value_counts(normalize=True)\n",
    "        .sort_index()\n",
    "        .reset_index()\n",
    "    ).rename(\n",
    "        columns={\n",
    "            \"destination\": \"count_of_people_normalized\",\n",
    "            \"index\": \"how_many_people_they_met_in_a_day\",\n",
    "        }\n",
    "    )\n",
    "    x = df[\"how_many_people_they_met_in_a_day\"]\n",
    "    y = df[\"count_of_people_normalized\"]\n",
    "    return x, y"
   ]
  },
  {
   "cell_type": "code",
   "execution_count": 5,
   "metadata": {},
   "outputs": [],
   "source": [
    "def group_durations(df: pd.DataFrame) -> Tuple[np.array, np.array]:\n",
    "    df = (\n",
    "        df[\"duration\"]\n",
    "        .value_counts(normalize=True)\n",
    "        .reset_index()\n",
    "        .rename(\n",
    "            columns={\"index\": \"meeting_duration\", \"duration\": \"duration_normalized\"}\n",
    "        )\n",
    "        .sort_values(\"meeting_duration\")\n",
    "    )\n",
    "    a = df[\"meeting_duration\"].to_numpy()\n",
    "    p = df[\"duration_normalized\"].to_numpy()\n",
    "    return a, p"
   ]
  },
  {
   "cell_type": "code",
   "execution_count": 6,
   "metadata": {},
   "outputs": [
    {
     "data": {
      "text/plain": [
       "<AxesSubplot:ylabel='Frequency'>"
      ]
     },
     "execution_count": 6,
     "metadata": {},
     "output_type": "execute_result"
    },
    {
     "data": {
      "image/png": "[encoded data removed]",
      "text/plain": [
       "<Figure size 432x288 with 1 Axes>"
      ]
     },
     "metadata": {},
     "output_type": "display_data"
    },
    {
     "data": {
      "image/png": "[encoded data removed]",
      "text/plain": [
       "<Figure size 432x288 with 1 Axes>"
      ]
     },
     "metadata": {},
     "output_type": "display_data"
    },
    {
     "data": {
      "image/png": "[encoded data removed]",
      "text/plain": [
       "<Figure size 432x288 with 1 Axes>"
      ]
     },
     "metadata": {},
     "output_type": "display_data"
    }
   ],
   "source": [
    "df = pd.read_csv(DATA_FOLDER / \"copenhagen_agg.csv\", parse_dates=[\"datetime\"])\n",
    "a, p = group_durations(df)\n",
    "x, y = group_exposures(df)\n",
    "meetings_fitted_powerlaw = FittedPowerlaw(x, y)\n",
    "show_fit(x, y, meetings_fitted_powerlaw.pars)\n",
    "meetings_fitted_powerlaw.show_sample()\n",
    "pd.DataFrame(rng.choice(a, p=p, size=2000)).plot.hist(bins=50)\n"
   ]
  },
  {
   "cell_type": "code",
   "execution_count": 7,
   "metadata": {},
   "outputs": [],
   "source": [
    "def mult(s: np.array, D_min: int, P_max: float, D_max: int) -> float:\n",
    "    s = np.where(s >= D_min, s, 0.00001)\n",
    "    res = 1 - np.prod(1 - np.minimum(s / D_max, 1) * P_max)\n",
    "    return res\n",
    "\n",
    "\n",
    "def random_meetings(\n",
    "    a: np.array, p: np.array, fp: FittedPowerlaw, dmin: int, dmax: int, pmax: float\n",
    ") -> Tuple[int, int, float]:\n",
    "    x = int(np.floor(fp.rvs(size=1)[0]))\n",
    "    durations = rng.choice(a, p=p, size=x)\n",
    "    y = sum(durations)\n",
    "    z = mult(durations, D_min=dmin, P_max=pmax, D_max=dmax)\n",
    "    return x, y, z\n"
   ]
  },
  {
   "cell_type": "code",
   "execution_count": 11,
   "metadata": {},
   "outputs": [
    {
     "name": "stderr",
     "output_type": "stream",
     "text": [
      "100%|██████████| 1000/1000 [00:43<00:00, 22.95it/s]\n",
      "100%|██████████| 1000/1000 [00:18<00:00, 54.47it/s]\n",
      "100%|██████████| 1000/1000 [00:37<00:00, 26.98it/s]\n",
      "100%|██████████| 1000/1000 [00:33<00:00, 29.78it/s]\n",
      "100%|██████████| 1000/1000 [00:26<00:00, 37.70it/s]\n",
      "100%|██████████| 1000/1000 [00:35<00:00, 28.32it/s]\n"
     ]
    }
   ],
   "source": [
    "params = {\"dmin\": 0, \"dmax\": 1440, \"pmax\": 1}\n",
    "iter_ = 1000\n",
    "vdf = []\n",
    "for param in range(0, 11, 2):\n",
    "    param = param / 10\n",
    "    params[\"pmax\"] = param\n",
    "    vdf.append(pd.DataFrame(\n",
    "        [\n",
    "            random_meetings(a, p, meetings_fitted_powerlaw, **params)\n",
    "            for _ in tqdm(range(iter_))\n",
    "        ],\n",
    "        columns=list(\"xyz\"),\n",
    "    ).assign(param=param))\n",
    "vdf = pd.concat(vdf)\n",
    "# vdf[\"param\"] = vdf[\"param\"] / 10\n",
    "# pstring = \"_\".join([k + \"_\" + str(v) for k, v in params.items()])\n",
    "# vdf.to_csv(DATA_FOLDER / f\"numerical_analysis_{pstring}_iter_{iter_}.csv\", index=False)\n"
   ]
  },
  {
   "cell_type": "code",
   "execution_count": 36,
   "metadata": {},
   "outputs": [],
   "source": [
    "vdf = vdf.sort_values(\"param\", ascending=False)"
   ]
  },
  {
   "cell_type": "code",
   "execution_count": 11,
   "metadata": {},
   "outputs": [
    {
     "data": {
      "text/plain": [
       "array([[0.08249079, 0.06004074],\n",
       "       [0.06004074, 0.04581195]])"
      ]
     },
     "execution_count": 11,
     "metadata": {},
     "output_type": "execute_result"
    }
   ],
   "source": [
    "# np.corrcoef(vdf[\"z\"], vdf[\"x\"])\n",
    "np.cov(vdf[\"x\"]/max(vdf[\"x\"]), vdf[\"y\"]/max(vdf[\"y\"]))\n",
    "# np.cov(vdf[\"x\"]/max(vdf[\"x\"]), vdf[\"z\"])"
   ]
  },
  {
   "cell_type": "code",
   "execution_count": 12,
   "metadata": {},
   "outputs": [],
   "source": [
    "# vdf = pd.read_csv(DATA_FOLDER / \"numerical_analysis_dmin_0_dmax_1440_pmax_1_iter_1000.csv\")"
   ]
  },
  {
   "cell_type": "markdown",
   "metadata": {},
   "source": [
    "[Fit 3D line](https://stackoverflow.com/questions/2298390/fitting-a-line-in-3d)"
   ]
  },
  {
   "cell_type": "code",
   "execution_count": 13,
   "metadata": {},
   "outputs": [],
   "source": [
    "import plotly.express as px\n",
    "colorscale = [\n",
    "    [0.0, \"rgb(33,102,172)\"],\n",
    "    [0.33333333333, \"rgb(146, 197, 222)\"],\n",
    "    [0.8, \"rgb(214, 96, 77)\"],\n",
    "    [1.0, \"rgb(178, 24, 43)\"],\n",
    "]\n",
    "\n",
    "rev_colorscale = [\n",
    "    [0.0, \"rgb(178, 24, 43)\"],\n",
    "    [0.33333333333, \"rgb(214, 96, 77)\"],\n",
    "    [0.8, \"rgb(146, 197, 222)\"],\n",
    "    [1.0, \"rgb(33,102,172)\"],\n",
    "]\n",
    "\n",
    "# # vdf[\"param\"] = vdf[\"param\"] / 10\n",
    "\n",
    "data = go.Scatter3d(\n",
    "    x=vdf[\"x\"],\n",
    "    y=vdf[\"y\"],\n",
    "    z=vdf[\"z\"],\n",
    "    mode=\"markers\",\n",
    "    marker=dict(\n",
    "        size=3,\n",
    "        color=vdf[\"param\"],\n",
    "        colorscale=px.colors.sequential.Plasma_r,\n",
    "        colorbar=dict(thickness=10, lenmode=\"fraction\", len=0.5, title=\"Dmin\"),\n",
    "    ),\n",
    "    opacity=0.8,\n",
    ")\n",
    "fig = go.Figure(data)\n",
    "fig.update_layout(\n",
    "    margin=dict(l=0, r=0, b=0, t=0), font_family=\"Arial, Helvetica, sans-serif\"\n",
    ")\n",
    "fig.update_layout(\n",
    "    scene=dict(\n",
    "        xaxis_title=\"Number of people exposed to per day\",\n",
    "        yaxis_title=\"Summed exposure duration\",\n",
    "        zaxis_title=\"Infection probability\",\n",
    "        xaxis=dict(backgroundcolor=\"rgb(240,240,240)\"),\n",
    "        yaxis=dict(backgroundcolor=\"rgb(240,240,240)\"),\n",
    "        zaxis=dict(backgroundcolor=\"rgb(240,240,240)\"),\n",
    "    )\n",
    ")\n",
    "\n",
    "# fig.update_layout(coloraxis_showscale=True)\n",
    "# fig.show()\n",
    "fig.write_html(OUTPUT_FOLDER / \"xyz_pmax.html\")\n"
   ]
  },
  {
   "cell_type": "code",
   "execution_count": null,
   "metadata": {},
   "outputs": [],
   "source": [
    "chart = alt.Chart(vdf).mark_point().encode(\n",
    "    x=alt.X('x:Q', title=\"Number of people exposed to per day\"),\n",
    "    y=alt.Y('y:Q', title=\"Summed exposure duration\"),\n",
    "    color=alt.Color('z:Q', title=\"Infection probability\")\n",
    ")\n",
    "chart.save(str(OUTPUT_FOLDER / \"numerical_analysis.html\"), format=\"html\")\n",
    "# chart"
   ]
  }
 ],
 "metadata": {
  "interpreter": {
   "hash": "fc223b9548e05e6584bf0a52edd98cbdda108b459752b45bd2e0a3241292cc6c"
  },
  "kernelspec": {
   "display_name": "Python 3.9.5 64-bit ('ossi': virtualenv)",
   "name": "python3"
  },
  "language_info": {
   "codemirror_mode": {
    "name": "ipython",
    "version": 3
   },
   "file_extension": ".py",
   "mimetype": "text/x-python",
   "name": "python",
   "nbconvert_exporter": "python",
   "pygments_lexer": "ipython3",
   "version": "3.9.5"
  },
  "orig_nbformat": 4
 },
 "nbformat": 4,
 "nbformat_minor": 2
}
