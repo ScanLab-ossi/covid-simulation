{
 "cells": [
  {
   "cell_type": "markdown",
   "metadata": {},
   "source": [
    "# The problem\n",
    "\n",
    "The problem of divide people in network to groups by their age group can be formulated in graph-theoretic term as:\n",
    "\n",
    "We have a weighted graph $G=(V,E)$, whose edges $E$ corresponds to interactions and their weights $w(e), e\\in E$, to the lenghts or times of interactions. \n",
    "\n",
    "In this context, we ask for partition $M=\\{M_1, M_2,...,M_n\\}$ of the set of vertices $V$ of the graph $G$ under the constraints:\n",
    "1. $\\forall v_j \\in V, v_j \\in M_i $ and $|V| = |M| = \\sum_{i=1}^n M_i$ (Each person belongs to an age grop, and only one age group).\n",
    "2. $w_i = \\sum_{i=1}^n w(e)$ , where $e$ is \"monochromatic edge\" between nodes in $M_i$\n",
    "3. $Y \\in [0,1]$ is an assortativity bias (What part of the interactions is there between people of the same age group?)\n",
    "\n",
    "Such that the error rate $W=|Y - \\frac{1}{n}\\sum_{i=1}^n w_i|$ is minimized"
   ]
  },
  {
   "cell_type": "markdown",
   "metadata": {},
   "source": [
    "# Naïve approach"
   ]
  },
  {
   "cell_type": "markdown",
   "metadata": {},
   "source": [
    "We will try all possible divisions and choose the most suitable one.\n",
    "\n",
    "The number of ways to divide $n$ different objects into $r$ groups of sizes $a_1, a_2, a_3, …, a_r$ is equal to: \\begin{equation} \\frac{n!}{a_1! \\cdot a_2! \\cdot a_3!\\cdot … \\cdot a_r!} \\end{equation}\n"
   ]
  },
  {
   "cell_type": "code",
   "execution_count": 1,
   "metadata": {},
   "outputs": [],
   "source": [
    "import numpy as np"
   ]
  },
  {
   "cell_type": "code",
   "execution_count": 5,
   "metadata": {},
   "outputs": [],
   "source": [
    "def naive_approach(matrix, age_groups_size, assortativity_bias =0.6):\n",
    "    n = m.shape[0]\n",
    "    all_possible_division = list(neclusters(range(n), len(age_groups_size)))\n",
    "    best_div = []\n",
    "    error_list = []\n",
    "    best_error_rate = 1\n",
    "    for div in all_possible_division:\n",
    "        if [len(color) for color in div] == age_groups_size:\n",
    "            cur_error = error_rate(matrix, assortativity_bias, div)\n",
    "            error_list.append(cur_error)\n",
    "            if cur_error < best_error_rate:\n",
    "                best_error_rate = cur_error\n",
    "                best_div = div\n",
    "    best_error_rate = min(error_list) \n",
    "    print(f\"Avarage error is {sum(error_list)/len(error_list)}, the best error is {best_error_rate}.\")\n",
    "    return best_div, best_error_rate"
   ]
  },
  {
   "cell_type": "code",
   "execution_count": 6,
   "metadata": {},
   "outputs": [
    {
     "name": "stdout",
     "output_type": "stream",
     "text": [
      "[[24 28  3 23 18 22 19  6  1 27 11 18]\n",
      " [28 26  8 23 29 19  8 16 19 24 13 28]\n",
      " [ 3  8 25  2 29 11 11  1 16 20 28 28]\n",
      " [23 23  2 13 12 21 26 11 13  5 15 18]\n",
      " [18 29 29 12 20  9 26 27 23 24 26 12]\n",
      " [22 19 11 21  9 26 14 28  8  9 29 24]\n",
      " [19  8 11 26 26 14  2 24 18 10  9  5]\n",
      " [ 6 16  1 11 27 28 24  3 23  7 21 22]\n",
      " [ 1 19 16 13 23  8 18 23 14 22  6 22]\n",
      " [27 24 20  5 24  9 10  7 22 23  5  9]\n",
      " [11 13 28 15 26 29  9 21  6  5 20 11]\n",
      " [18 28 28 18 12 24  5 22 22  9 11 15]]\n",
      "Avarage error is 0.43725254196912955, the best error is 0.3516342573438146.\n"
     ]
    },
    {
     "data": {
      "text/plain": [
       "([[6, 7, 8], [2, 4, 9, 10], [0, 1, 3, 5, 11]], 0.3516342573438146)"
      ]
     },
     "execution_count": 6,
     "metadata": {},
     "output_type": "execute_result"
    }
   ],
   "source": [
    "m = generate_random_adjacency_matrix(12)\n",
    "print(m)\n",
    "col_list = [3,4,5]\n",
    "naive_approach(m, col_list, 0.7)"
   ]
  },
  {
   "cell_type": "markdown",
   "metadata": {},
   "source": [
    "#  Simulated annealing approach"
   ]
  },
  {
   "cell_type": "markdown",
   "metadata": {},
   "source": [
    "We will start with random initial division and trying to optimize the error rate with tiny replacements in the groups."
   ]
  },
  {
   "cell_type": "code",
   "execution_count": 21,
   "metadata": {},
   "outputs": [],
   "source": [
    "import random \n",
    "\n",
    "def simulated_annealing_approach(matrix, age_groups_size, assortativity_bias =0.6, steps = 1, attempts = 10000):\n",
    "    n = m.shape[0]\n",
    "    indices = [i for i in range(n)]\n",
    "    random.shuffle(indices)\n",
    "    initial_division = []\n",
    "    \n",
    "    for group_size in age_groups_size:\n",
    "        initial_division.append(indices[:group_size])\n",
    "        indices = indices[group_size:]\n",
    "    \n",
    "    print(initial_division)\n",
    "    cnt = 0\n",
    "    best_error_rate = error_rate(matrix, assortativity_bias, initial_division)\n",
    "    best_div = initial_division\n",
    "    for i in range(attempts):\n",
    "        temp_div = replace_in_list_of_lists(best_div)\n",
    "        cur_error = error_rate(matrix, assortativity_bias, temp_div)\n",
    "        \n",
    "        if cur_error < best_error_rate:\n",
    "            cnt+=1\n",
    "            print(f\"attempt: {i}, improvenent: {cnt}, best error rate {best_error_rate}\")\n",
    "            best_error_rate = cur_error\n",
    "            best_div = temp_div\n",
    "                \n",
    "    return best_div, best_error_rate\n"
   ]
  },
  {
   "cell_type": "code",
   "execution_count": 23,
   "metadata": {},
   "outputs": [
    {
     "name": "stdout",
     "output_type": "stream",
     "text": [
      "[[ 9 17  6 ... 26 26 15]\n",
      " [17  1 26 ...  7 23 16]\n",
      " [ 6 26 23 ... 12  8  1]\n",
      " ...\n",
      " [26  7 12 ... 28 11  1]\n",
      " [26 23  8 ... 11  8  4]\n",
      " [15 16  1 ...  1  4  5]]\n",
      "[[4, 34, 11, 26, 7, 1, 8, 27, 19, 35], [46, 36, 6, 31, 18, 13, 14, 16, 17, 3], [20, 32, 37, 24, 5, 9, 40, 47, 49, 41], [29, 22, 42, 0, 15, 38, 10, 12, 21, 44], [48, 33, 23, 39, 45, 30, 25, 2, 28, 43]]\n",
      "attempt: 0, improvenent: 1, best error rate 0.42772287979150825\n",
      "attempt: 1, improvenent: 2, best error rate 0.4245194918014985\n",
      "attempt: 2, improvenent: 3, best error rate 0.4235964817026821\n",
      "attempt: 3, improvenent: 4, best error rate 0.42327071343251166\n",
      "attempt: 18, improvenent: 5, best error rate 0.42061027255945266\n",
      "attempt: 19, improvenent: 6, best error rate 0.41952437832555106\n",
      "attempt: 21, improvenent: 7, best error rate 0.41832989466825926\n",
      "attempt: 48, improvenent: 8, best error rate 0.41583233793028557\n",
      "attempt: 54, improvenent: 9, best error rate 0.41572374850689536\n",
      "attempt: 85, improvenent: 10, best error rate 0.4148550331197741\n",
      "attempt: 93, improvenent: 11, best error rate 0.4137148441741774\n",
      "attempt: 97, improvenent: 12, best error rate 0.4133890759040069\n",
      "attempt: 98, improvenent: 13, best error rate 0.4095341513736562\n",
      "attempt: 99, improvenent: 14, best error rate 0.4085568465631447\n",
      "attempt: 100, improvenent: 15, best error rate 0.4034531436638071\n",
      "attempt: 199, improvenent: 16, best error rate 0.4031816701053317\n",
      "attempt: 200, improvenent: 17, best error rate 0.3987295037463351\n"
     ]
    },
    {
     "data": {
      "text/plain": [
       "([[26, 44, 42, 4, 15, 8, 0, 2, 18, 49],\n",
       "  [28, 33, 24, 21, 29, 10, 27, 13, 6, 30],\n",
       "  [37, 20, 32, 36, 46, 22, 38, 31, 3, 45],\n",
       "  [23, 1, 41, 39, 16, 7, 48, 11, 9, 19],\n",
       "  [43, 12, 34, 35, 5, 17, 40, 25, 14, 47]],\n",
       " 0.39818655662938424)"
      ]
     },
     "execution_count": 23,
     "metadata": {},
     "output_type": "execute_result"
    }
   ],
   "source": [
    "m = generate_random_adjacency_matrix(50)\n",
    "print(m)\n",
    "col_list = [10]*5\n",
    "simulated_annealing_approach(m, col_list, steps = 5, assortativity_bias = 0.6)"
   ]
  },
  {
   "cell_type": "markdown",
   "metadata": {},
   "source": [
    "# Helpers"
   ]
  },
  {
   "cell_type": "code",
   "execution_count": 2,
   "metadata": {},
   "outputs": [],
   "source": [
    "def generate_random_adjacency_matrix(n=10):\n",
    "    b = np.random.randint(1,30,size=(n,n))\n",
    "    b_symm = np.tril(b) + np.tril(b, -1).T\n",
    "    return b_symm"
   ]
  },
  {
   "cell_type": "code",
   "execution_count": 3,
   "metadata": {},
   "outputs": [],
   "source": [
    "import itertools\n",
    "# create all clusters from l (list) elemnts into k groups\n",
    "def neclusters(l, k):\n",
    "    for labels in itertools.product(range(k), repeat=len(l)):\n",
    "        partition = [[] for i in range(k)]\n",
    "        for i, label in enumerate(labels):\n",
    "            partition[label].append(l[i])\n",
    "        yield partition\n",
    "        "
   ]
  },
  {
   "cell_type": "code",
   "execution_count": 4,
   "metadata": {},
   "outputs": [],
   "source": [
    "# node_colors is list of tuples\n",
    "import numpy as np\n",
    "from itertools import chain, combinations\n",
    "def all_subsets(ss):\n",
    "    return list(chain(*map(lambda x: combinations(ss, x), range(0, len(ss)+1))))\n",
    "\n",
    "def sum_edeges_between_list(M, ls):\n",
    "    comb = [i for i in all_subsets(ls) if len(i)==2]\n",
    "    return sum([M[i[0]][i[1]] for i in comb])\n",
    "\n",
    "\n",
    "def error_rate(M, Y, nodes_colors):\n",
    "    total_weights = np.sum(M)/2\n",
    "    sum_of_w_i = 0\n",
    "    for color in nodes_colors:\n",
    "        sum_of_w_i += sum_edeges_between_list(M, color)\n",
    "\n",
    "    error_rate = abs(Y*total_weights-sum_of_w_i)/total_weights\n",
    "    return error_rate"
   ]
  },
  {
   "cell_type": "code",
   "execution_count": 20,
   "metadata": {},
   "outputs": [],
   "source": [
    "def replace_in_list_of_lists(l_of_l, steps = 1):\n",
    "    for i in range(steps):\n",
    "        num_lists = len(l_of_l)\n",
    "        l1_inx, l2_inx = random.sample(range(num_lists), 2)\n",
    "        len1 = len(l_of_l[l1_inx])\n",
    "        len2 = len(l_of_l[l2_inx])\n",
    "        elem1 = random.randint(0, len1-1)\n",
    "        elem2 = random.randint(0, len2-1)\n",
    "\n",
    "        temp = l_of_l[l1_inx][elem1]\n",
    "        l_of_l[l1_inx][elem1] = l_of_l[l2_inx][elem2]\n",
    "        l_of_l[l2_inx][elem2] = temp \n",
    "    return l_of_l"
   ]
  },
  {
   "cell_type": "code",
   "execution_count": null,
   "metadata": {},
   "outputs": [],
   "source": []
  }
 ],
 "metadata": {
  "kernelspec": {
   "display_name": "Python 3",
   "language": "python",
   "name": "python3"
  },
  "language_info": {
   "codemirror_mode": {
    "name": "ipython",
    "version": 3
   },
   "file_extension": ".py",
   "mimetype": "text/x-python",
   "name": "python",
   "nbconvert_exporter": "python",
   "pygments_lexer": "ipython3",
   "version": "3.7.1"
  }
 },
 "nbformat": 4,
 "nbformat_minor": 4
}
