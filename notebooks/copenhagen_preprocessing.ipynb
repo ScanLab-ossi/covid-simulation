{
 "cells": [
  {
   "cell_type": "code",
   "execution_count": 29,
   "metadata": {},
   "outputs": [],
   "source": [
    "from functools import reduce\n",
    "import pandas as pd\n",
    "import numpy as np\n",
    "from scipy.sparse.csgraph import shortest_path, connected_components\n",
    "from scipy.sparse import dok_matrix, csr_matrix\n",
    "from collections import Counter\n",
    "# import networkx as nx\n",
    "import matplotlib.pyplot as plt\n",
    "# from networkx.drawing.nx_agraph import graphviz_layout\n",
    "import altair as alt\n",
    "\n",
    "from simulation.constants import *\n",
    "from simulation.google_cloud import GoogleCloud"
   ]
  },
  {
   "cell_type": "code",
   "execution_count": 3,
   "metadata": {},
   "outputs": [],
   "source": [
    "gcloud = GoogleCloud()"
   ]
  },
  {
   "cell_type": "code",
   "execution_count": 31,
   "metadata": {},
   "outputs": [
    {
     "data": {
      "text/plain": [
       "<AxesSubplot:xlabel='datetime'>"
      ]
     },
     "metadata": {},
     "output_type": "display_data"
    },
    {
     "data": {
      "image/png": "[encoded data removed]",
      "text/plain": [
       "<Figure size 432x288 with 1 Axes>"
      ]
     },
     "metadata": {},
     "output_type": "display_data"
    }
   ],
   "source": [
    "df = pd.read_csv(DATA_FOLDER / \"bt_symmetric.csv\")\n",
    "df = df[(df[\"rssi\"] >= -90) & (df[\"rssi\"] < 0) & (df[\"user_b\"] >= 0)].rename(columns={\"# timestamp\": \"datetime\", \"user_a\": \"source\", \"user_b\": \"destination\"}).reset_index(drop=True)\n",
    "df = df[[\"datetime\", \"source\", \"destination\"]]\n",
    "df[\"datetime\"] = pd.to_datetime(df[\"datetime\"], unit=\"s\", origin=\"1995-03-10\") \n",
    "display(df.resample(\"D\", on=\"datetime\")[\"source\"].count().plot.bar())\n",
    "df.to_csv(DATA_FOLDER / \"copenhagen_interactions.csv\", index=False)\n",
    "# .resample(\"D\").count()"
   ]
  },
  {
   "cell_type": "code",
   "execution_count": 7,
   "metadata": {},
   "outputs": [],
   "source": [
    "cdf = pd.read_csv(DATA_FOLDER / \"copenhagen_interactions.csv\", parse_dates=[\"datetime\"])\n",
    "five_minutes = [snapshot for _, snapshot in cdf.resample(\"5T\", on=\"datetime\")]\n",
    "cdf_0 = cdf[cdf[\"datetime\"] == cdf[\"datetime\"].iloc[0]]"
   ]
  },
  {
   "cell_type": "code",
   "execution_count": 85,
   "metadata": {},
   "outputs": [],
   "source": [
    "groupdf =  pd.read_csv(DATA_FOLDER / \"copenhagen_groups.csv\", parse_dates=[\"datetime\"])\n",
    "groupdf[\"group\"] = groupdf[\"group\"].apply(lambda x: eval(x)).str.len()\n",
    "groupdf[\"datetime\"] = (groupdf[\"datetime\"] -pd.Timedelta(\"11D\")).dt.day - 1\n",
    "# groupdf.drop_duplicates(\"datetime\")\n",
    "df = groupdf.groupby([\"datetime\", \"group\"])[\"duration\"].count().reset_index(level=0).groupby(\"group\").mean()[[\"duration\"]].reset_index()\n",
    "alt.Chart(df).mark_bar().encode(\n",
    "    x=alt.X(\"group:Q\", title=\"Amount of participants\"),\n",
    "    y=alt.Y(\"duration:Q\", title=\"Average amount of meetings per day\")\n",
    ").save(\"avg_participants_per_meeting.html\")\n"
   ]
  },
  {
   "cell_type": "code",
   "execution_count": 93,
   "metadata": {},
   "outputs": [],
   "source": [
    "aggdf =  pd.read_csv(DATA_FOLDER / \"copenhagen_agg.csv\", parse_dates=[\"datetime\"])\n",
    "aggdf[\"datetime\"] = (aggdf[\"datetime\"] -pd.Timedelta(\"11D\")).dt.day - 1\n",
    "df = aggdf.groupby(['datetime',\"duration\"]).count()[\"source\"].reset_index(level=0).groupby(\"duration\").mean().drop(columns=[\"datetime\"]).reset_index()\n",
    "alt.Chart(df).mark_bar().encode(\n",
    "    x=alt.X(\"source:Q\", title=\"Meeting duration\", scale=alt.Scale(domain=(30,1300),clamp=True)),\n",
    "    y=alt.Y(\"duration:Q\", title=\"Average amount of meetings per day\")\n",
    ").save(\"avg_daily_meetings_per_duration.html\")"
   ]
  },
  {
   "cell_type": "code",
   "execution_count": null,
   "metadata": {},
   "outputs": [],
   "source": [
    "cdf = pd.read_csv(\"random_test.csv\", names=[\"datetime\", \"source\", \"destination\"])\n",
    "cdf[\"datetime\"] = pd.to_datetime(\"03/10/1995\") + ((cdf[\"datetime\"]*5).astype(str) + \"m\").apply(pd.Timedelta)"
   ]
  },
  {
   "cell_type": "code",
   "execution_count": null,
   "metadata": {},
   "outputs": [],
   "source": [
    "def show_graph(G, labels=False, partition=False):\n",
    "    plt.figure(1, figsize=(8,8))\n",
    "    pos = graphviz_layout(G, prog=\"neato\")\n",
    "#     pos = nx.spring_layout(G)\n",
    "    if partition:\n",
    "        pass\n",
    "#         cmap = cm.get_cmap(\"cool\", max(partition.values()) + 1)\n",
    "#         nx.draw(G, \n",
    "#                 pos,\n",
    "#                 node_size=1500,\n",
    "#                 cmap=cmap, \n",
    "#                 node_color=list(partition.values()),\n",
    "#                 with_labels=True)\n",
    "    else:\n",
    "        nx.draw(G, pos, node_size=40, vmin=0.0, vmax=1.0, with_labels=True)\n",
    "        try:\n",
    "            if labels:\n",
    "                nx.draw_networkx_edge_labels(G, pos, edge_labels={t[:2]: int(t[2][\"hops\"]) for t in G.edges.data()})\n",
    "        except KeyError:\n",
    "            pass\n",
    "    plt.show()\n",
    "#     plt.savefig(f\"{'-'.join(list(map(str,shortest_path)))}.png\")"
   ]
  },
  {
   "cell_type": "markdown",
   "metadata": {},
   "source": [
    "## hops"
   ]
  },
  {
   "cell_type": "code",
   "execution_count": null,
   "metadata": {},
   "outputs": [],
   "source": [
    "fm = five_minutes[0]\n",
    "row, col = fm[[\"source\", \"destination\"]].values.T\n",
    "data = [1] * len(row)\n",
    "size = max(np.append(row,col)) + 1\n",
    "#     singletons = len([x for x in range(size) if x not in np.append(row,col)])\n",
    "graph = csr_matrix((data*2, (np.append(row,col), np.append(col,row))), shape=(size, size))\n",
    "_, labels = connected_components(graph, directed=False)\n",
    "# #     cc -= singletons\n",
    "# {k:v for k, v in Counter(labels).items() if v > 2}\n",
    "group_indices = [k for k, v in Counter(labels).items() if v > 2]\n",
    "group_participants = [i for i, e in enumerate(labels) if e in group_indices]\n",
    "# group_participants\n",
    "sp = shortest_path(graph, directed=False, method=\"D\")\n",
    "sp[sp == np.inf] = 0.\n",
    "df = pd.DataFrame({\"hops\": dict(dok_matrix(np.triu(sp)))}).rename_axis([\"source\", \"destination\"]).reset_index()\n",
    "df\n",
    "# df[\"datetime\"] = fm[\"datetime\"].iloc[0]\n",
    "# df[\"is_group\"] = df[\"source\"].isin(group_participants)"
   ]
  },
  {
   "cell_type": "code",
   "execution_count": null,
   "metadata": {},
   "outputs": [],
   "source": [
    "group_indices"
   ]
  },
  {
   "cell_type": "code",
   "execution_count": null,
   "metadata": {},
   "outputs": [],
   "source": [
    "cdf_0[cdf_0[\"destination\"] == 12]"
   ]
  },
  {
   "cell_type": "markdown",
   "metadata": {},
   "source": [
    "adding hops should take around 7-8 mins"
   ]
  },
  {
   "cell_type": "code",
   "execution_count": null,
   "metadata": {},
   "outputs": [],
   "source": [
    "%%time\n",
    "hops=[]\n",
    "for fm in five_minutes:\n",
    "    row, col = fm[[\"source\", \"destination\"]].values.T\n",
    "    data = [1] * len(row)\n",
    "    size = max(np.append(row,col)) + 1\n",
    "#     singletons = len([x for x in range(size) if x not in np.append(row,col)])\n",
    "    graph = csr_matrix((data*2, (np.append(row,col), np.append(col,row))), shape=(size, size))\n",
    "    _, labels = connected_components(graph, directed=False)\n",
    "#     cc -= singletons\n",
    "    group_indices = [k for k, v in Counter(labels).items() if v > 2]\n",
    "    group_participants = [i for i, e in enumerate(labels) if e in group_indices]\n",
    "    sp = shortest_path(graph, directed=False, method=\"D\")\n",
    "    sp[sp == np.inf] = 0.\n",
    "    df = pd.DataFrame({\"hops\": dict(dok_matrix(np.triu(sp)))}).rename_axis([\"source\", \"destination\"]).reset_index()\n",
    "    df[\"datetime\"] = fm[\"datetime\"].iloc[0]\n",
    "    df[\"is_group\"] = df[\"source\"].isin(group_participants)\n",
    "    hops.append(df)\n",
    "\n",
    "cdf = pd.concat(hops)"
   ]
  },
  {
   "cell_type": "code",
   "execution_count": null,
   "metadata": {},
   "outputs": [],
   "source": [
    "cdf_0 = cdf[cdf[\"datetime\"] == cdf[\"datetime\"].iloc[0]]\n",
    "cdf_0"
   ]
  },
  {
   "cell_type": "code",
   "execution_count": null,
   "metadata": {},
   "outputs": [],
   "source": [
    "cdfset = set([[\"source\", \"destination\"]].to_records(index=False).tolist())"
   ]
  },
  {
   "cell_type": "markdown",
   "metadata": {},
   "source": [
    "grouping by timestamp should take around 3 mins"
   ]
  },
  {
   "cell_type": "code",
   "execution_count": null,
   "metadata": {},
   "outputs": [],
   "source": [
    "cdf[\"meeting_nodes\"] = cdf[[\"source\", \"destination\"]].apply(\n",
    "    lambda x: tuple(sorted(x)), axis=1\n",
    ")\n",
    "cdf = cdf.sort_values([\"meeting_nodes\", \"datetime\"]).reset_index(drop=True)\n",
    "cdf[\"meeting_id\"] = (cdf[\"datetime\"].diff() != pd.Timedelta(\"5m\")).cumsum()\n",
    "cdf = (\n",
    "    cdf.groupby([\"meeting_id\", \"meeting_nodes\"]) # , \"hops\", \"is_group\"])\n",
    "    .agg(\n",
    "        **{\n",
    "            \"duration\": pd.NamedAgg(column=\"datetime\", aggfunc=lambda x: x.count() * 5),\n",
    "            \"datetime\": pd.NamedAgg(column=\"datetime\", aggfunc=\"min\"),\n",
    "        }\n",
    "    )\n",
    "    .reset_index()\n",
    ")\n",
    "cdf[[\"source\", \"destination\"]] = pd.DataFrame(cdf[\"meeting_nodes\"].tolist())\n",
    "cdf = cdf.drop(columns=[\"meeting_nodes\", \"meeting_id\"])\n",
    "cdf\n"
   ]
  },
  {
   "cell_type": "markdown",
   "metadata": {},
   "source": [
    "show sample result hops"
   ]
  },
  {
   "cell_type": "code",
   "execution_count": null,
   "metadata": {},
   "outputs": [],
   "source": [
    "G = nx.from_pandas_edgelist(\n",
    "    cdf[cdf[\"datetime\"] == pd.to_datetime(\"03/27/2021 14:55:00\")],\n",
    "    target=\"destination\",\n",
    "    edge_attr=True,\n",
    ")\n",
    "show_graph(G, labels=True)\n"
   ]
  },
  {
   "cell_type": "code",
   "execution_count": null,
   "metadata": {},
   "outputs": [],
   "source": [
    "cdf.drop(columns=[\"hops\", \"is_group\"]).sort_values(\"datetime\").to_csv(DATA_FOLDER / \"copenhagen_interactions.csv\", index=False)"
   ]
  },
  {
   "cell_type": "code",
   "execution_count": null,
   "metadata": {},
   "outputs": [],
   "source": [
    "raw = pd.read_csv(DATA_FOLDER / \"copenhagen_interactions.csv\")\n",
    "agg = pd.read_csv(DATA_FOLDER / \"copenhagen_interactions_agg.csv\")"
   ]
  },
  {
   "cell_type": "code",
   "execution_count": null,
   "metadata": {},
   "outputs": [],
   "source": [
    "agg_0 = agg[agg[\"datetime\"] == agg.loc[0, \"datetime\"]].sort_values(\"destination\").reset_index(drop=True)"
   ]
  },
  {
   "cell_type": "code",
   "execution_count": null,
   "metadata": {},
   "outputs": [],
   "source": [
    "aggset = set(agg_0[[\"source\", \"destination\"]].to_records(index=False).tolist())\n",
    "rawset = set(raw_0[[\"destination\", \"source\"]].to_records(index=False).tolist())"
   ]
  },
  {
   "cell_type": "code",
   "execution_count": null,
   "metadata": {},
   "outputs": [],
   "source": [
    "gcloud.upload(DATA_FOLDER / \"copenhagen_hops.csv\", bucket_name=\"simulation_datasets\")"
   ]
  },
  {
   "cell_type": "code",
   "execution_count": null,
   "metadata": {
    "scrolled": true
   },
   "outputs": [],
   "source": [
    "pd.read_csv(DATA_FOLDER / \"copenhagen_hops.csv\", nrows=10)"
   ]
  },
  {
   "cell_type": "markdown",
   "metadata": {},
   "source": [
    "## groups"
   ]
  },
  {
   "cell_type": "code",
   "execution_count": null,
   "metadata": {},
   "outputs": [],
   "source": [
    "def group_sets(a, b):\n",
    "    for i, x in enumerate(a):\n",
    "        if len(x & b) > 0:\n",
    "            a[i] = x | b\n",
    "            return a\n",
    "    else:\n",
    "        return a + [b]"
   ]
  },
  {
   "cell_type": "code",
   "execution_count": null,
   "metadata": {},
   "outputs": [],
   "source": [
    "%%time\n",
    "cdf[\"meeting_nodes\"] = cdf[[\"source\", \"destination\"]].apply(lambda x: tuple(sorted(x)), axis=1)\n",
    "cdf = cdf.sort_values([\"meeting_nodes\", \"datetime\"]).reset_index(drop=True)\n",
    "cdf[\"meeting_id\"] = (cdf[\"datetime\"].diff() !=  pd.Timedelta('5m')).cumsum()\n",
    "cdf = (cdf.groupby([\"meeting_id\",\"meeting_nodes\"])\n",
    "            .agg(**{\n",
    "                \"duration\": pd.NamedAgg(column='datetime', aggfunc=lambda x: x.count() * 5), \n",
    "                \"datetime\": pd.NamedAgg(column='datetime', aggfunc='min'),\n",
    "            }).reset_index()\n",
    "           )\n",
    "cdf[[\"source\", \"destination\"]] = pd.DataFrame(cdf[\"meeting_nodes\"].tolist())\n",
    "# cdf = cdf.drop(columns=[\"meeting_nodes\", \"meeting_id\"])\n",
    "cdf"
   ]
  },
  {
   "cell_type": "code",
   "execution_count": null,
   "metadata": {},
   "outputs": [],
   "source": [
    "grouped = cdf.groupby([\"datetime\", \"duration\"])[\"meeting_nodes\"].apply(list)\n",
    "group_meetings = (grouped.apply(lambda x: [set(i) for i in x])\n",
    "        .apply(lambda x: list(reduce(group_sets, x, [])))\n",
    "        .explode()\n",
    "        .to_frame(\"group\")\n",
    "        .reset_index()\n",
    ")"
   ]
  },
  {
   "cell_type": "code",
   "execution_count": null,
   "metadata": {},
   "outputs": [],
   "source": [
    "group_meetings.to_csv(DATA_FOLDER / \"copenhagen_groups_2.csv\", index=False)"
   ]
  },
  {
   "cell_type": "markdown",
   "metadata": {},
   "source": [
    "## Results"
   ]
  },
  {
   "cell_type": "code",
   "execution_count": null,
   "metadata": {},
   "outputs": [],
   "source": [
    "lax_count = []\n",
    "strict_count = []\n",
    "for ii, g in df.groupby([\"datetime\", \"duration\"]):\n",
    "    G = from_pandas_edgelist(g, target=\"destination\")\n",
    "    l = list(connected_components(G))\n",
    "    lax_count += [len(i) for i in l]\n",
    "    x = [i for i in l if len(i) > 2]\n",
    "    y = [i for i in l if len(i) == 2]\n",
    "    for s in x:\n",
    "        if (len(p:= g[g[\"source\"].isin(s) | g[\"destination\"].isin(s)])) == len(s):\n",
    "            strict_count.append(len(s))\n",
    "    strict_count += [2] * len(y)\n",
    "cr_lax = pd.Series(dict(Counter(lax_count))).sort_values(ascending=False)\n",
    "cr_strict = pd.Series(dict(Counter(strict_count))).sort_values(ascending=False)"
   ]
  }
 ],
 "metadata": {
  "interpreter": {
   "hash": "4a997f58ebe0bd407f455816ab94be94c4d9c60a53b16521d5bbc33bfa6204ca"
  },
  "kernelspec": {
   "display_name": "Python 3.9.5 64-bit ('ossi': virtualenv)",
   "name": "python3"
  },
  "language_info": {
   "codemirror_mode": {
    "name": "ipython",
    "version": 3
   },
   "file_extension": ".py",
   "mimetype": "text/x-python",
   "name": "python",
   "nbconvert_exporter": "python",
   "pygments_lexer": "ipython3",
   "version": "3.10.2"
  }
 },
 "nbformat": 4,
 "nbformat_minor": 4
}
