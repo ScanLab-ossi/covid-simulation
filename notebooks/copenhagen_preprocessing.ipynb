{
 "cells": [
  {
   "cell_type": "code",
   "execution_count": 1,
   "metadata": {},
   "outputs": [],
   "source": [
    "import os\n",
    "import pandas as pd\n",
    "import numpy as np\n",
    "from simulation.constants import *\n",
    "from datetime import date"
   ]
  },
  {
   "cell_type": "code",
   "execution_count": 3,
   "metadata": {},
   "outputs": [],
   "source": [
    "df = pd.read_csv(DATA_FOLDER / 'copenhagen_interactions_distance.csv', parse_dates=[\"datetime\"])\n",
    "df[\"distance\"] = -df[\"distance\"]\n",
    "## Remove distances over 2m (rssi lower than -90 is a proxy for that)\n",
    "df = df[df['distance'] > -90].reset_index(drop=True)"
   ]
  },
  {
   "cell_type": "code",
   "execution_count": 4,
   "metadata": {},
   "outputs": [],
   "source": [
    "def group_by_time_diff(df):\n",
    "    groups = (df.sort_values([\"source\",\"destination\"])[\"datetime\"].diff() !=  pd.Timedelta('5m')).cumsum()\n",
    "    df[\"groups\"] = groups\n",
    "    return (df.groupby([\"source\",\"destination\", \"groups\"])\n",
    "            .agg(**{\n",
    "                \"duration\": pd.NamedAgg(column='datetime', aggfunc=lambda x: x.count() * 5), \n",
    "                \"datetime\": pd.NamedAgg(column='datetime', aggfunc='min')\n",
    "            })\n",
    "            .reset_index()\n",
    "            .drop(columns=[\"groups\"])\n",
    "           )"
   ]
  },
  {
   "cell_type": "code",
   "execution_count": 5,
   "metadata": {},
   "outputs": [
    {
     "name": "stdout",
     "output_type": "stream",
     "text": [
      "CPU times: user 17min 10s, sys: 13.1 s, total: 17min 23s\n",
      "Wall time: 19min 22s\n"
     ]
    }
   ],
   "source": [
    "%time new_df = df.groupby([\"source\", \"destination\"]).apply(group_by_time_diff)"
   ]
  },
  {
   "cell_type": "code",
   "execution_count": 6,
   "metadata": {},
   "outputs": [],
   "source": [
    "new_df.reset_index(drop=True).sort_values(\"datetime\").to_csv(DATA_FOLDER / \"copenhagen_interactions_duration.csv\", index=False)"
   ]
  }
 ],
 "metadata": {
  "kernelspec": {
   "display_name": "ossi",
   "language": "python",
   "name": "ossi"
  }
 },
 "nbformat": 4,
 "nbformat_minor": 4
}
